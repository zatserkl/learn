{
 "cells": [
  {
   "cell_type": "code",
   "execution_count": 27,
   "metadata": {},
   "outputs": [
    {
     "name": "stdout",
     "output_type": "stream",
     "text": [
      "def yield_line(file):\n",
      "    with open(fname) as file:\n",
      "        line = file.readline()\n",
      "        while line:\n",
      "            yield line\n",
      "            line = file.readline()\n",
      "\n",
      "\n",
      "fname = __file__\n",
      "print(\"\\ncontent of\", __file__, \"\\n\")\n",
      "for line in yield_line(fname):\n",
      "    print(line.strip('\\n'))\n",
      "\n",
      "# you may also get a list from the yield:\n",
      "# yield_list = list(yield_line(fname))\n",
      "# print(yield_list)\n",
      "['def yield_line(file):\\n', '    with open(fname) as file:\\n', '        line = file.readline()\\n', '        while line:\\n', '            yield line\\n', '            line = file.readline()\\n', '\\n', '\\n', 'fname = __file__\\n', 'print(\"\\\\ncontent of\", __file__, \"\\\\n\")\\n', 'for line in yield_line(fname):\\n', \"    print(line.strip('\\\\n'))\\n\", '\\n', '# you may also get a list from the yield:\\n', '# yield_list = list(yield_line(fname))\\n', '# print(yield_list)\\n']\n",
      "\n",
      "print yield_list one more time: should be empty list\n",
      "\n",
      "[]\n"
     ]
    }
   ],
   "source": [
    "def yield_line(file):\n",
    "    with open(fname) as file:\n",
    "        line = file.readline()\n",
    "        while line:\n",
    "            yield line\n",
    "            line = file.readline()\n",
    "\n",
    "\n",
    "# fname = __file__\n",
    "fname = \"read_file_yield.py\"\n",
    "\n",
    "for line in yield_line(fname):\n",
    "    print(line.strip('\\n'))\n",
    "\n",
    "yield_obj = yield_line(fname)\n",
    "\n",
    "print(list(yield_obj))\n",
    "\n",
    "print(\"\\nprint yield_list one more time: should be empty list\\n\")\n",
    "print(list(yield_obj))"
   ]
  },
  {
   "cell_type": "code",
   "execution_count": 35,
   "metadata": {},
   "outputs": [
    {
     "name": "stdout",
     "output_type": "stream",
     "text": [
      "0\n",
      "2\n",
      "4\n",
      "6\n",
      "8\n",
      "caught StopIteration\n"
     ]
    }
   ],
   "source": [
    "nmax = 5\n",
    "doubles = (2*n for n in range(nmax))\n",
    "doubles\n",
    "while True:\n",
    "    try:\n",
    "        number = next(doubles)\n",
    "    except StopIteration:\n",
    "        print(\"caught StopIteration\") # StopIteration e returns empty string\n",
    "        break\n",
    "    print(number)"
   ]
  },
  {
   "cell_type": "code",
   "execution_count": 37,
   "metadata": {},
   "outputs": [
    {
     "name": "stdout",
     "output_type": "stream",
     "text": [
      "'x'\n"
     ]
    }
   ],
   "source": [
    "d = {'a': 10, 'b': 20, 'c': 30}\n",
    "try:\n",
    "    d['x']\n",
    "except KeyError as e:\n",
    "    print(e)"
   ]
  },
  {
   "cell_type": "code",
   "execution_count": 56,
   "metadata": {},
   "outputs": [
    {
     "name": "stdout",
     "output_type": "stream",
     "text": [
      "\n",
      "To convert srt --> datetime: strptime NB: method name starts from 'strp'\n",
      "To convert datetime --> str: strftime NB: method name starts from 'strf'\n",
      "\n",
      "time1_str:                     2017-06-13 11:33:01\n",
      "convert datetime1 back to str: 2017-06-13 11:33:01\n",
      "deltat as a timedelta object: 0:00:02\n",
      "deltat_seconds = 2\n"
     ]
    }
   ],
   "source": [
    "import datetime\n",
    "import math\n",
    "\n",
    "doc = \"\"\"\n",
    "To convert srt --> datetime: strptime NB: method name starts from 'strp'\n",
    "To convert datetime --> str: strftime NB: method name starts from 'strf'\n",
    "\"\"\"\n",
    "print(doc)\n",
    "\n",
    "time1_str = \"2017-06-13 11:33:01\"\n",
    "time2_str = \"2017-06-13 11:33:03\"\n",
    "\n",
    "datetime1 = datetime.datetime.strptime(time1_str, '%Y-%m-%d %H:%M:%S')\n",
    "datetime2 = datetime.datetime.strptime(time2_str, '%Y-%m-%d %H:%M:%S')\n",
    "\n",
    "# convert back to check\n",
    "print(\"time1_str:                    \", time1_str)\n",
    "print(\"convert datetime1 back to str:\", datetime.datetime.strftime(datetime1, \"%Y-%m-%d %H:%M:%S\"))\n",
    "\n",
    "deltat = datetime2 - datetime1\n",
    "print(\"deltat as a timedelta object:\", deltat)\n",
    "\n",
    "deltat_seconds = math.ceil(deltat.total_seconds()) # timedelta.total_seconds() returns float\n",
    "print(\"deltat_seconds =\", deltat_seconds)"
   ]
  },
  {
   "cell_type": "code",
   "execution_count": 41,
   "metadata": {},
   "outputs": [
    {
     "name": "stdout",
     "output_type": "stream",
     "text": [
      "len(buf) = 2\n",
      "[0, 1, 2, 3, 4, 5, 6, 7, 8, 9]\n",
      "45\n",
      "[10, 11, 12, 13, 14, 15, 16, 17, 18, 19]\n"
     ]
    }
   ],
   "source": [
    "from collections import deque\n",
    "\n",
    "buf = deque(maxlen=5)\n",
    "buf.append([n for n in range(10)])        # NB: this adds just ONE element: a list [0, 1, ..., 9]\n",
    "buf.append([n for n in range(10, 20)])\n",
    "print(\"len(buf) =\", len(buf))\n",
    "\n",
    "print(buf[0])\n",
    "print(sum(buf[0]))\n",
    "print(buf[1])"
   ]
  },
  {
   "cell_type": "code",
   "execution_count": 5,
   "metadata": {},
   "outputs": [
    {
     "name": "stdout",
     "output_type": "stream",
     "text": [
      "deque([10, 20, 30, 40, 50])\n",
      "deque([10, 20, 30, 40])\n",
      "deque([20, 30, 40])\n",
      "40\n"
     ]
    }
   ],
   "source": [
    "from collections import deque\n",
    "\n",
    "buf = deque()\n",
    "for i in range(10, 60, 10):\n",
    "    buf.append(i)\n",
    "print(buf)\n",
    "buf.pop()\n",
    "print(buf)\n",
    "buf.popleft()\n",
    "print(buf)\n",
    "print(buf[-1])"
   ]
  },
  {
   "cell_type": "code",
   "execution_count": 31,
   "metadata": {},
   "outputs": [
    {
     "name": "stdout",
     "output_type": "stream",
     "text": [
      "{'par1': 10, 'par2': 20, 'par3': 30}\n",
      "par1 = 10 par2 = 20 par3 = 30\n",
      "par1 = 100 par2 = 200 par3 = 300\n"
     ]
    }
   ],
   "source": [
    "def dict_3_pars(par1, par2, par3):\n",
    "    print(\"par1 =\", par1, \"par2 =\", par2, \"par3 =\", par3)\n",
    "    # print(par1, par2, par3)\n",
    "\n",
    "dct = {\"par1\": 10, \"par2\":20, \"par3\":30}\n",
    "print(dct)\n",
    "dict_3_pars(**dct) # this is equivalent to call the function dict_3_pars(par1=10, par2=20, par3=30)\n",
    "dict_3_pars(par1=100, par2=200, par3=300)  # another example"
   ]
  },
  {
   "cell_type": "code",
   "execution_count": 29,
   "metadata": {},
   "outputs": [
    {
     "name": "stdout",
     "output_type": "stream",
     "text": [
      "voltage = 10 state = 20 action = 30\n",
      "\n"
     ]
    }
   ],
   "source": [
    "def parrot(voltage, state, action):\n",
    "    print(\"voltage =\", voltage, \"state =\", state, \"action =\", action)\n",
    "    print()\n",
    "\n",
    "d = {\"voltage\": 10, \"state\": 20, \"action\": 30}\n",
    "parrot(**d)"
   ]
  },
  {
   "cell_type": "code",
   "execution_count": 25,
   "metadata": {},
   "outputs": [
    {
     "name": "stdout",
     "output_type": "stream",
     "text": [
      "voltage = four million state = bleedin' demised action = VOOM\n",
      "\n",
      "This parrot wouldn't VOOM if you put four million volts through it. E's bleedin' demised !\n"
     ]
    }
   ],
   "source": [
    "def parrot(voltage, state, action):\n",
    "    print(\"voltage =\", voltage, \"state =\", state, \"action =\", action)\n",
    "    print()\n",
    "    print(\"This parrot wouldn't\", action, end=' ')\n",
    "    print(\"if you put\", voltage, \"volts through it.\", end=' ')\n",
    "    print(\"E's\", state, \"!\")\n",
    "\n",
    "d = {\"voltage\": \"four million\", \"state\": \"bleedin' demised\", \"action\": \"VOOM\"}\n",
    "parrot(**d)"
   ]
  },
  {
   "cell_type": "code",
   "execution_count": 32,
   "metadata": {},
   "outputs": [
    {
     "name": "stdout",
     "output_type": "stream",
     "text": [
      "a = 2 b = 5\n"
     ]
    }
   ],
   "source": [
    "def f2(a, b):\n",
    "    print(\"a =\", a, \"b =\", b)\n",
    "\n",
    "tup = (2, 5)\n",
    "f2(*tup)       # star to unfold one object (tup) to two objects: parameters a and b"
   ]
  },
  {
   "cell_type": "code",
   "execution_count": 37,
   "metadata": {},
   "outputs": [
    {
     "name": "stdout",
     "output_type": "stream",
     "text": [
      "<class 'tuple'> (False, 100)\n"
     ]
    }
   ],
   "source": [
    "x = 5\n",
    "y = x > 5, 100\n",
    "print(type(y), y)"
   ]
  },
  {
   "cell_type": "code",
   "execution_count": 48,
   "metadata": {},
   "outputs": [
    {
     "name": "stdout",
     "output_type": "stream",
     "text": [
      "Hi\n",
      "Bye\n"
     ]
    }
   ],
   "source": [
    "#\n",
    "# Closure\n",
    "#\n",
    "\n",
    "def outer_function(msg):\n",
    "\n",
    "    def inner_function():\n",
    "        print(msg)\n",
    "\n",
    "    return inner_function  # returns inner_function that waits to be executed\n",
    "\n",
    "f_hi = outer_function('Hi')  # f_hi is assigned to function that waites to be execute\n",
    "f_bye = outer_function('Bye')\n",
    "f_hi()\n",
    "f_bye()"
   ]
  },
  {
   "cell_type": "code",
   "execution_count": 52,
   "metadata": {},
   "outputs": [
    {
     "name": "stdout",
     "output_type": "stream",
     "text": [
      "wrapper executed this before display\n",
      "display function ran\n"
     ]
    }
   ],
   "source": [
    "# Decorator: a function that takes another function as an argument\n",
    "\n",
    "def decorator_function (original_function):\n",
    "    def wrapper_function():\n",
    "        print (\"wrapper executed this before {}\".format(original_function.__name__))\n",
    "        return original_function()\n",
    "    return wrapper_function\n",
    "\n",
    "@decorator_function  # equivalent to: display = decorator-function(display)\n",
    "def display():\n",
    "    print (\"display function ran\")\n",
    "\n",
    "# display = decorator-function(display)\n",
    "display()"
   ]
  },
  {
   "cell_type": "code",
   "execution_count": 91,
   "metadata": {},
   "outputs": [
    {
     "name": "stdout",
     "output_type": "stream",
     "text": [
      "   count   word  length   frequency\n",
      "0      5  quick       5  infrequent\n",
      "1     15  brown       5    frequent\n",
      "2      1    fox       3      unique\n",
      "3      5  jumps       5  infrequent\n",
      "4      4   over       4  infrequent\n",
      "5     21    the       3    frequent\n",
      "6      1   lazy       4      unique\n",
      "7     20    dog       3    frequent\n",
      "\n",
      "3.6666666666666665\n",
      "\n",
      "56\n",
      "14\n",
      "2\n",
      "num_words_unique_ser = 2\n",
      "\n",
      "x: type(x):<class 'pandas.core.series.Series'> x:\n",
      "0    infrequent\n",
      "1      frequent\n",
      "2        unique\n",
      "3    infrequent\n",
      "4    infrequent\n",
      "5      frequent\n",
      "6        unique\n",
      "7      frequent\n",
      "Name: frequency, dtype: object\n",
      "\n",
      "x: type(x):<class 'pandas.core.series.Series'> x:\n",
      "0    infrequent\n",
      "1      frequent\n",
      "2        unique\n",
      "3    infrequent\n",
      "4    infrequent\n",
      "5      frequent\n",
      "6        unique\n",
      "7      frequent\n",
      "Name: frequency, dtype: object\n",
      "num = frequency\n",
      "frequent      56\n",
      "infrequent    14\n",
      "unique         2\n",
      "Name: count, dtype: int64\n"
     ]
    },
    {
     "ename": "TypeError",
     "evalue": "'Series' objects are mutable, thus they cannot be hashed",
     "output_type": "error",
     "traceback": [
      "\u001b[0;31m---------------------------------------------------------------------------\u001b[0m",
      "\u001b[0;31mTypeError\u001b[0m                                 Traceback (most recent call last)",
      "\u001b[0;32m<ipython-input-91-4919e23533e0>\u001b[0m in \u001b[0;36m<module>\u001b[0;34m()\u001b[0m\n\u001b[1;32m     76\u001b[0m     \u001b[0;31m#\"num_words\": data[data.frequency == \"frequent\"][\"count\"].sum()\u001b[0m\u001b[0;34m\u001b[0m\u001b[0;34m\u001b[0m\u001b[0m\n\u001b[1;32m     77\u001b[0m     \u001b[0;31m# \"num_words\": d[data[\"frequency\"]]\u001b[0m\u001b[0;34m\u001b[0m\u001b[0;34m\u001b[0m\u001b[0m\n\u001b[0;32m---> 78\u001b[0;31m     \u001b[0;34m\"num_words\"\u001b[0m\u001b[0;34m:\u001b[0m \u001b[0md\u001b[0m\u001b[0;34m[\u001b[0m\u001b[0mdata\u001b[0m\u001b[0;34m.\u001b[0m\u001b[0mfrequency\u001b[0m\u001b[0;34m]\u001b[0m\u001b[0;34m\u001b[0m\u001b[0m\n\u001b[0m\u001b[1;32m     79\u001b[0m })\n\u001b[1;32m     80\u001b[0m \u001b[0mprint\u001b[0m\u001b[0;34m(\u001b[0m\u001b[0mdata\u001b[0m\u001b[0;34m)\u001b[0m\u001b[0;34m\u001b[0m\u001b[0m\n",
      "\u001b[0;32m~/anaconda/lib/python3.6/site-packages/pandas/core/generic.py\u001b[0m in \u001b[0;36m__hash__\u001b[0;34m(self)\u001b[0m\n\u001b[1;32m    877\u001b[0m     \u001b[0;32mdef\u001b[0m \u001b[0m__hash__\u001b[0m\u001b[0;34m(\u001b[0m\u001b[0mself\u001b[0m\u001b[0;34m)\u001b[0m\u001b[0;34m:\u001b[0m\u001b[0;34m\u001b[0m\u001b[0m\n\u001b[1;32m    878\u001b[0m         raise TypeError('{0!r} objects are mutable, thus they cannot be'\n\u001b[0;32m--> 879\u001b[0;31m                         ' hashed'.format(self.__class__.__name__))\n\u001b[0m\u001b[1;32m    880\u001b[0m \u001b[0;34m\u001b[0m\u001b[0m\n\u001b[1;32m    881\u001b[0m     \u001b[0;32mdef\u001b[0m \u001b[0m__iter__\u001b[0m\u001b[0;34m(\u001b[0m\u001b[0mself\u001b[0m\u001b[0;34m)\u001b[0m\u001b[0;34m:\u001b[0m\u001b[0;34m\u001b[0m\u001b[0m\n",
      "\u001b[0;31mTypeError\u001b[0m: 'Series' objects are mutable, thus they cannot be hashed"
     ]
    }
   ],
   "source": [
    "import pandas as pd\n",
    "\n",
    "language = \"French\"\n",
    "counted_text = {\"quick\": 5, \"brown\": 15, \"fox\": 1, \"jumps\": 5, \"over\": 4,\n",
    "                \"the\": 21, \"lazy\": 1, \"dog\": 20}\n",
    "\n",
    "data = pd.DataFrame({\n",
    "    \"word\": list(counted_text.keys()),\n",
    "    \"count\": list(counted_text.values())\n",
    "})\n",
    "\n",
    "data[\"length\"] = data[\"word\"].apply(len)\n",
    "\n",
    "data.loc[data[\"count\"] > 10,  \"frequency\"] = \"frequent\"\n",
    "data.loc[data[\"count\"] <= 10, \"frequency\"] = \"infrequent\"\n",
    "data.loc[data[\"count\"] == 1,  \"frequency\"] = \"unique\"\n",
    "\n",
    "print(data)\n",
    "print()\n",
    "# print(data[data.frequency == \"frequent\"])\n",
    "# print(data[data.frequency == \"frequent\"].word)\n",
    "# print(data[data.frequency == \"frequent\"].word.apply(len).mean())\n",
    "print(data[data.frequency == \"frequent\"].word.apply(len).mean())\n",
    "print()\n",
    "\n",
    "mean_word_length_frequent = data[data.frequency == \"frequent\"].word.apply(len).mean()\n",
    "mean_word_length_infrequent = data[data.frequency == \"infrequent\"].word.apply(len).mean()\n",
    "mean_word_length_unique = data[data.frequency == \"unique\"].word.apply(len).mean()\n",
    "\n",
    "num_words_frequent = data[data.frequency == \"frequent\"][\"count\"].sum()\n",
    "num_words_infrequent = data[data.frequency == \"infrequent\"][\"count\"].sum()\n",
    "num_words_unique = data[data.frequency == \"unique\"][\"count\"].sum()\n",
    "print(num_words_frequent)\n",
    "print(num_words_infrequent)\n",
    "print(num_words_unique)\n",
    "\n",
    "num_words_unique_ser = data[data.frequency == \"unique\"][\"count\"].sum()\n",
    "print(\"num_words_unique_ser =\", num_words_unique_ser)\n",
    "\n",
    "# sub_data.loc[data[\"frequency\"] == \"frequent\", \"mean_word_length\"] = data[data.frequency == \"frequent\"].word.apply(len).mean()\n",
    "# sub_data.loc[data[\"frequency\"] == \"infrequent\", \"mean_word_length\"] = data[data.frequency == \"infrequent\"].word.apply(len).mean()\n",
    "# sub_data.loc[data[\"frequency\"] == \"unique\", \"mean_word_length\"] = data[data.frequency == \"unique\"].word.apply(len).mean()\n",
    "\n",
    "# data.loc[data[\"frequency\"] == \"frequent\", \"num_words\"] = data[data.frequency == \"frequent\"][\"count\"].sum()\n",
    "# data.loc[data[\"frequency\"] == \"infrequent\", \"num_words\"] = data[data.frequency == \"infrequent\"][\"count\"].sum()\n",
    "# data.loc[data[\"frequency\"] == \"unique\", \"num_words\"] = data[data.frequency == \"unique\"][\"count\"].sum()\n",
    "\n",
    "# ser = data.frequency\n",
    "# ser = data[\"frequency\"]\n",
    "# print(\"\\nser =\\n\", ser)\n",
    "# ser = pd.Series([14.0, 56.0, 2.0, 14.0, 14.0, 2.0, 56.0])\n",
    "\n",
    "x = data.frequency\n",
    "print(\"\\nx: type(x):{} x:\\n{}\".format(type(x), x))\n",
    "\n",
    "x = data[\"frequency\"]\n",
    "print(\"\\nx: type(x):{} x:\\n{}\".format(type(x), x))\n",
    "\n",
    "num = data.groupby(\"frequency\")[\"count\"].sum()\n",
    "print(\"num =\", num)\n",
    "\n",
    "# print(\"--\", data.iloc[2].frequency)\n",
    "# z = data.iloc[2][\"frequency\"]\n",
    "# z = data.loc[\"frequency\"]\n",
    "# print(z)\n",
    "# print(\"--\", data[data.frequency == data.iloc.frequency])\n",
    "\n",
    "d = {\"frequent\": 100, \"infrequent\":200, \"unique\": 300}\n",
    "\n",
    "sub_data = pd.DataFrame({\n",
    "    \"language\": language,\n",
    "    \"frequency\": data[\"frequency\"],\n",
    "    # \"num_words\": data[data.frequency == \"unique\"][\"count\"].sum()\n",
    "    # \"mean_words_length\": sub_data[\"mean_words_length\"],\n",
    "    # \"num_words\": ser\n",
    "    #\"num_words\": data[data.frequency == \"frequent\"][\"count\"].sum()\n",
    "    # \"num_words\": d[data[\"frequency\"]]\n",
    "    \"num_words\": d[data.frequency]\n",
    "})\n",
    "print(data)\n",
    "print(sub_data)\n",
    "print()\n",
    "\n",
    "# sub_data.loc[data[\"frequency\"] == \"frequent\", \"mean_word_length\"] = data[data.frequency == \"frequent\"].word.apply(len).mean()\n",
    "# sub_data.loc[data[\"frequency\"] == \"infrequent\", \"mean_word_length\"] = data[data.frequency == \"infrequent\"].word.apply(len).mean()\n",
    "# sub_data.loc[data[\"frequency\"] == \"unique\", \"mean_word_length\"] = data[data.frequency == \"unique\"].word.apply(len).mean()\n",
    "\n",
    "# sub_data.loc[data[\"frequency\"] == \"frequent\", \"num_words\"] = data[data.frequency == \"frequent\"][\"count\"].sum()\n",
    "# sub_data.loc[data[\"frequency\"] == \"infrequent\", \"num_words\"] = data[data.frequency == \"infrequent\"][\"count\"].sum()\n",
    "# sub_data.loc[data[\"frequency\"] == \"unique\", \"num_words\"] = data[data.frequency == \"unique\"][\"count\"].sum()\n",
    "\n",
    "# print(sub_data)\n",
    "# print(sub_data.frequency)\n"
   ]
  }
 ],
 "metadata": {
  "kernelspec": {
   "display_name": "Python 3",
   "language": "python",
   "name": "python3"
  },
  "language_info": {
   "codemirror_mode": {
    "name": "ipython",
    "version": 3
   },
   "file_extension": ".py",
   "mimetype": "text/x-python",
   "name": "python",
   "nbconvert_exporter": "python",
   "pygments_lexer": "ipython3",
   "version": "3.6.3"
  }
 },
 "nbformat": 4,
 "nbformat_minor": 2
}
