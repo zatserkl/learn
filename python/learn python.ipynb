{
 "cells": [
  {
   "cell_type": "code",
   "execution_count": 27,
   "metadata": {},
   "outputs": [
    {
     "name": "stdout",
     "output_type": "stream",
     "text": [
      "def yield_line(file):\n",
      "    with open(fname) as file:\n",
      "        line = file.readline()\n",
      "        while line:\n",
      "            yield line\n",
      "            line = file.readline()\n",
      "\n",
      "\n",
      "fname = __file__\n",
      "print(\"\\ncontent of\", __file__, \"\\n\")\n",
      "for line in yield_line(fname):\n",
      "    print(line.strip('\\n'))\n",
      "\n",
      "# you may also get a list from the yield:\n",
      "# yield_list = list(yield_line(fname))\n",
      "# print(yield_list)\n",
      "['def yield_line(file):\\n', '    with open(fname) as file:\\n', '        line = file.readline()\\n', '        while line:\\n', '            yield line\\n', '            line = file.readline()\\n', '\\n', '\\n', 'fname = __file__\\n', 'print(\"\\\\ncontent of\", __file__, \"\\\\n\")\\n', 'for line in yield_line(fname):\\n', \"    print(line.strip('\\\\n'))\\n\", '\\n', '# you may also get a list from the yield:\\n', '# yield_list = list(yield_line(fname))\\n', '# print(yield_list)\\n']\n",
      "\n",
      "print yield_list one more time: should be empty list\n",
      "\n",
      "[]\n"
     ]
    }
   ],
   "source": [
    "def yield_line(file):\n",
    "    with open(fname) as file:\n",
    "        line = file.readline()\n",
    "        while line:\n",
    "            yield line\n",
    "            line = file.readline()\n",
    "\n",
    "\n",
    "# fname = __file__\n",
    "fname = \"read_file_yield.py\"\n",
    "\n",
    "for line in yield_line(fname):\n",
    "    print(line.strip('\\n'))\n",
    "\n",
    "yield_obj = yield_line(fname)\n",
    "\n",
    "print(list(yield_obj))\n",
    "\n",
    "print(\"\\nprint yield_list one more time: should be empty list\\n\")\n",
    "print(list(yield_obj))"
   ]
  },
  {
   "cell_type": "code",
   "execution_count": 35,
   "metadata": {},
   "outputs": [
    {
     "name": "stdout",
     "output_type": "stream",
     "text": [
      "0\n",
      "2\n",
      "4\n",
      "6\n",
      "8\n",
      "caught StopIteration\n"
     ]
    }
   ],
   "source": [
    "nmax = 5\n",
    "doubles = (2*n for n in range(nmax))\n",
    "doubles\n",
    "while True:\n",
    "    try:\n",
    "        number = next(doubles)\n",
    "    except StopIteration:\n",
    "        print(\"caught StopIteration\") # StopIteration e returns empty string\n",
    "        break\n",
    "    print(number)"
   ]
  }
 ],
 "metadata": {
  "kernelspec": {
   "display_name": "Python 3",
   "language": "python",
   "name": "python3"
  },
  "language_info": {
   "codemirror_mode": {
    "name": "ipython",
    "version": 3
   },
   "file_extension": ".py",
   "mimetype": "text/x-python",
   "name": "python",
   "nbconvert_exporter": "python",
   "pygments_lexer": "ipython3",
   "version": "3.6.3"
  }
 },
 "nbformat": 4,
 "nbformat_minor": 2
}
