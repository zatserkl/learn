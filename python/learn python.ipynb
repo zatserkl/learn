{
 "cells": [
  {
   "cell_type": "code",
   "execution_count": 27,
   "metadata": {},
   "outputs": [
    {
     "name": "stdout",
     "output_type": "stream",
     "text": [
      "def yield_line(file):\n",
      "    with open(fname) as file:\n",
      "        line = file.readline()\n",
      "        while line:\n",
      "            yield line\n",
      "            line = file.readline()\n",
      "\n",
      "\n",
      "fname = __file__\n",
      "print(\"\\ncontent of\", __file__, \"\\n\")\n",
      "for line in yield_line(fname):\n",
      "    print(line.strip('\\n'))\n",
      "\n",
      "# you may also get a list from the yield:\n",
      "# yield_list = list(yield_line(fname))\n",
      "# print(yield_list)\n",
      "['def yield_line(file):\\n', '    with open(fname) as file:\\n', '        line = file.readline()\\n', '        while line:\\n', '            yield line\\n', '            line = file.readline()\\n', '\\n', '\\n', 'fname = __file__\\n', 'print(\"\\\\ncontent of\", __file__, \"\\\\n\")\\n', 'for line in yield_line(fname):\\n', \"    print(line.strip('\\\\n'))\\n\", '\\n', '# you may also get a list from the yield:\\n', '# yield_list = list(yield_line(fname))\\n', '# print(yield_list)\\n']\n",
      "\n",
      "print yield_list one more time: should be empty list\n",
      "\n",
      "[]\n"
     ]
    }
   ],
   "source": [
    "def yield_line(file):\n",
    "    with open(fname) as file:\n",
    "        line = file.readline()\n",
    "        while line:\n",
    "            yield line\n",
    "            line = file.readline()\n",
    "\n",
    "\n",
    "# fname = __file__\n",
    "fname = \"read_file_yield.py\"\n",
    "\n",
    "for line in yield_line(fname):\n",
    "    print(line.strip('\\n'))\n",
    "\n",
    "yield_obj = yield_line(fname)\n",
    "\n",
    "print(list(yield_obj))\n",
    "\n",
    "print(\"\\nprint yield_list one more time: should be empty list\\n\")\n",
    "print(list(yield_obj))"
   ]
  },
  {
   "cell_type": "code",
   "execution_count": 35,
   "metadata": {},
   "outputs": [
    {
     "name": "stdout",
     "output_type": "stream",
     "text": [
      "0\n",
      "2\n",
      "4\n",
      "6\n",
      "8\n",
      "caught StopIteration\n"
     ]
    }
   ],
   "source": [
    "nmax = 5\n",
    "doubles = (2*n for n in range(nmax))\n",
    "doubles\n",
    "while True:\n",
    "    try:\n",
    "        number = next(doubles)\n",
    "    except StopIteration:\n",
    "        print(\"caught StopIteration\") # StopIteration e returns empty string\n",
    "        break\n",
    "    print(number)"
   ]
  },
  {
   "cell_type": "code",
   "execution_count": 37,
   "metadata": {},
   "outputs": [
    {
     "name": "stdout",
     "output_type": "stream",
     "text": [
      "'x'\n"
     ]
    }
   ],
   "source": [
    "d = {'a': 10, 'b': 20, 'c': 30}\n",
    "try:\n",
    "    d['x']\n",
    "except KeyError as e:\n",
    "    print(e)"
   ]
  },
  {
   "cell_type": "code",
   "execution_count": 41,
   "metadata": {},
   "outputs": [
    {
     "name": "stdout",
     "output_type": "stream",
     "text": [
      "len(buf) = 2\n",
      "[0, 1, 2, 3, 4, 5, 6, 7, 8, 9]\n",
      "45\n",
      "[10, 11, 12, 13, 14, 15, 16, 17, 18, 19]\n"
     ]
    }
   ],
   "source": [
    "from collections import deque\n",
    "\n",
    "buf = deque(maxlen=5)\n",
    "buf.append([n for n in range(10)])\n",
    "buf.append([n for n in range(10, 20)])\n",
    "print(\"len(buf) =\", len(buf))\n",
    "\n",
    "print(buf[0])\n",
    "print(sum(buf[0]))\n",
    "print(buf[1])"
   ]
  },
  {
   "cell_type": "code",
   "execution_count": 56,
   "metadata": {},
   "outputs": [
    {
     "name": "stdout",
     "output_type": "stream",
     "text": [
      "\n",
      "To convert srt --> datetime: strptime NB: method name starts from 'strp'\n",
      "To convert datetime --> str: strftime NB: method name starts from 'strf'\n",
      "\n",
      "time1_str:                     2017-06-13 11:33:01\n",
      "convert datetime1 back to str: 2017-06-13 11:33:01\n",
      "deltat as a timedelta object: 0:00:02\n",
      "deltat_seconds = 2\n"
     ]
    }
   ],
   "source": [
    "import datetime\n",
    "import math\n",
    "\n",
    "doc = \"\"\"\n",
    "To convert srt --> datetime: strptime NB: method name starts from 'strp'\n",
    "To convert datetime --> str: strftime NB: method name starts from 'strf'\n",
    "\"\"\"\n",
    "print(doc)\n",
    "\n",
    "time1_str = \"2017-06-13 11:33:01\"\n",
    "time2_str = \"2017-06-13 11:33:03\"\n",
    "\n",
    "datetime1 = datetime.datetime.strptime(time1_str, '%Y-%m-%d %H:%M:%S')\n",
    "datetime2 = datetime.datetime.strptime(time2_str, '%Y-%m-%d %H:%M:%S')\n",
    "\n",
    "# convert back to check\n",
    "print(\"time1_str:                    \", time1_str)\n",
    "print(\"convert datetime1 back to str:\", datetime.datetime.strftime(datetime1, \"%Y-%m-%d %H:%M:%S\"))\n",
    "\n",
    "deltat = datetime2 - datetime1\n",
    "print(\"deltat as a timedelta object:\", deltat)\n",
    "\n",
    "deltat_seconds = math.ceil(deltat.total_seconds()) # timedelta.total_seconds() returns float\n",
    "print(\"deltat_seconds =\", deltat_seconds)"
   ]
  }
 ],
 "metadata": {
  "kernelspec": {
   "display_name": "Python 3",
   "language": "python",
   "name": "python3"
  },
  "language_info": {
   "codemirror_mode": {
    "name": "ipython",
    "version": 3
   },
   "file_extension": ".py",
   "mimetype": "text/x-python",
   "name": "python",
   "nbconvert_exporter": "python",
   "pygments_lexer": "ipython3",
   "version": "3.6.3"
  }
 },
 "nbformat": 4,
 "nbformat_minor": 2
}
