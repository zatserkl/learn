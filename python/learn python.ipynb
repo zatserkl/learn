{
 "cells": [
  {
   "cell_type": "code",
   "execution_count": 27,
   "metadata": {},
   "outputs": [
    {
     "name": "stdout",
     "output_type": "stream",
     "text": [
      "def yield_line(file):\n",
      "    with open(fname) as file:\n",
      "        line = file.readline()\n",
      "        while line:\n",
      "            yield line\n",
      "            line = file.readline()\n",
      "\n",
      "\n",
      "fname = __file__\n",
      "print(\"\\ncontent of\", __file__, \"\\n\")\n",
      "for line in yield_line(fname):\n",
      "    print(line.strip('\\n'))\n",
      "\n",
      "# you may also get a list from the yield:\n",
      "# yield_list = list(yield_line(fname))\n",
      "# print(yield_list)\n",
      "['def yield_line(file):\\n', '    with open(fname) as file:\\n', '        line = file.readline()\\n', '        while line:\\n', '            yield line\\n', '            line = file.readline()\\n', '\\n', '\\n', 'fname = __file__\\n', 'print(\"\\\\ncontent of\", __file__, \"\\\\n\")\\n', 'for line in yield_line(fname):\\n', \"    print(line.strip('\\\\n'))\\n\", '\\n', '# you may also get a list from the yield:\\n', '# yield_list = list(yield_line(fname))\\n', '# print(yield_list)\\n']\n",
      "\n",
      "print yield_list one more time: should be empty list\n",
      "\n",
      "[]\n"
     ]
    }
   ],
   "source": [
    "def yield_line(file):\n",
    "    with open(fname) as file:\n",
    "        line = file.readline()\n",
    "        while line:\n",
    "            yield line\n",
    "            line = file.readline()\n",
    "\n",
    "\n",
    "# fname = __file__\n",
    "fname = \"read_file_yield.py\"\n",
    "\n",
    "for line in yield_line(fname):\n",
    "    print(line.strip('\\n'))\n",
    "\n",
    "yield_obj = yield_line(fname)\n",
    "\n",
    "print(list(yield_obj))\n",
    "\n",
    "print(\"\\nprint yield_list one more time: should be empty list\\n\")\n",
    "print(list(yield_obj))"
   ]
  },
  {
   "cell_type": "code",
   "execution_count": 35,
   "metadata": {},
   "outputs": [
    {
     "name": "stdout",
     "output_type": "stream",
     "text": [
      "0\n",
      "2\n",
      "4\n",
      "6\n",
      "8\n",
      "caught StopIteration\n"
     ]
    }
   ],
   "source": [
    "nmax = 5\n",
    "doubles = (2*n for n in range(nmax))\n",
    "doubles\n",
    "while True:\n",
    "    try:\n",
    "        number = next(doubles)\n",
    "    except StopIteration:\n",
    "        print(\"caught StopIteration\") # StopIteration e returns empty string\n",
    "        break\n",
    "    print(number)"
   ]
  },
  {
   "cell_type": "code",
   "execution_count": 37,
   "metadata": {},
   "outputs": [
    {
     "name": "stdout",
     "output_type": "stream",
     "text": [
      "'x'\n"
     ]
    }
   ],
   "source": [
    "d = {'a': 10, 'b': 20, 'c': 30}\n",
    "try:\n",
    "    d['x']\n",
    "except KeyError as e:\n",
    "    print(e)"
   ]
  },
  {
   "cell_type": "code",
   "execution_count": 56,
   "metadata": {},
   "outputs": [
    {
     "name": "stdout",
     "output_type": "stream",
     "text": [
      "\n",
      "To convert srt --> datetime: strptime NB: method name starts from 'strp'\n",
      "To convert datetime --> str: strftime NB: method name starts from 'strf'\n",
      "\n",
      "time1_str:                     2017-06-13 11:33:01\n",
      "convert datetime1 back to str: 2017-06-13 11:33:01\n",
      "deltat as a timedelta object: 0:00:02\n",
      "deltat_seconds = 2\n"
     ]
    }
   ],
   "source": [
    "import datetime\n",
    "import math\n",
    "\n",
    "doc = \"\"\"\n",
    "To convert srt --> datetime: strptime NB: method name starts from 'strp'\n",
    "To convert datetime --> str: strftime NB: method name starts from 'strf'\n",
    "\"\"\"\n",
    "print(doc)\n",
    "\n",
    "time1_str = \"2017-06-13 11:33:01\"\n",
    "time2_str = \"2017-06-13 11:33:03\"\n",
    "\n",
    "datetime1 = datetime.datetime.strptime(time1_str, '%Y-%m-%d %H:%M:%S')\n",
    "datetime2 = datetime.datetime.strptime(time2_str, '%Y-%m-%d %H:%M:%S')\n",
    "\n",
    "# convert back to check\n",
    "print(\"time1_str:                    \", time1_str)\n",
    "print(\"convert datetime1 back to str:\", datetime.datetime.strftime(datetime1, \"%Y-%m-%d %H:%M:%S\"))\n",
    "\n",
    "deltat = datetime2 - datetime1\n",
    "print(\"deltat as a timedelta object:\", deltat)\n",
    "\n",
    "deltat_seconds = math.ceil(deltat.total_seconds()) # timedelta.total_seconds() returns float\n",
    "print(\"deltat_seconds =\", deltat_seconds)"
   ]
  },
  {
   "cell_type": "code",
   "execution_count": 41,
   "metadata": {},
   "outputs": [
    {
     "name": "stdout",
     "output_type": "stream",
     "text": [
      "len(buf) = 2\n",
      "[0, 1, 2, 3, 4, 5, 6, 7, 8, 9]\n",
      "45\n",
      "[10, 11, 12, 13, 14, 15, 16, 17, 18, 19]\n"
     ]
    }
   ],
   "source": [
    "from collections import deque\n",
    "\n",
    "buf = deque(maxlen=5)\n",
    "buf.append([n for n in range(10)])        # NB: this adds just ONE element: a list [0, 1, ..., 9]\n",
    "buf.append([n for n in range(10, 20)])\n",
    "print(\"len(buf) =\", len(buf))\n",
    "\n",
    "print(buf[0])\n",
    "print(sum(buf[0]))\n",
    "print(buf[1])"
   ]
  },
  {
   "cell_type": "code",
   "execution_count": 5,
   "metadata": {},
   "outputs": [
    {
     "name": "stdout",
     "output_type": "stream",
     "text": [
      "deque([10, 20, 30, 40, 50])\n",
      "deque([10, 20, 30, 40])\n",
      "deque([20, 30, 40])\n",
      "40\n"
     ]
    }
   ],
   "source": [
    "from collections import deque\n",
    "\n",
    "buf = deque()\n",
    "for i in range(10, 60, 10):\n",
    "    buf.append(i)\n",
    "print(buf)\n",
    "buf.pop()\n",
    "print(buf)\n",
    "buf.popleft()\n",
    "print(buf)\n",
    "print(buf[-1])"
   ]
  },
  {
   "cell_type": "code",
   "execution_count": 31,
   "metadata": {},
   "outputs": [
    {
     "name": "stdout",
     "output_type": "stream",
     "text": [
      "{'par1': 10, 'par2': 20, 'par3': 30}\n",
      "par1 = 10 par2 = 20 par3 = 30\n",
      "par1 = 100 par2 = 200 par3 = 300\n"
     ]
    }
   ],
   "source": [
    "def dict_3_pars(par1, par2, par3):\n",
    "    print(\"par1 =\", par1, \"par2 =\", par2, \"par3 =\", par3)\n",
    "    # print(par1, par2, par3)\n",
    "\n",
    "dct = {\"par1\": 10, \"par2\":20, \"par3\":30}\n",
    "print(dct)\n",
    "dict_3_pars(**dct) # this is equivalent to call the function dict_3_pars(par1=10, par2=20, par3=30)\n",
    "dict_3_pars(par1=100, par2=200, par3=300)  # another example"
   ]
  },
  {
   "cell_type": "code",
   "execution_count": 29,
   "metadata": {},
   "outputs": [
    {
     "name": "stdout",
     "output_type": "stream",
     "text": [
      "voltage = 10 state = 20 action = 30\n",
      "\n"
     ]
    }
   ],
   "source": [
    "def parrot(voltage, state, action):\n",
    "    print(\"voltage =\", voltage, \"state =\", state, \"action =\", action)\n",
    "    print()\n",
    "\n",
    "d = {\"voltage\": 10, \"state\": 20, \"action\": 30}\n",
    "parrot(**d)"
   ]
  },
  {
   "cell_type": "code",
   "execution_count": 25,
   "metadata": {},
   "outputs": [
    {
     "name": "stdout",
     "output_type": "stream",
     "text": [
      "voltage = four million state = bleedin' demised action = VOOM\n",
      "\n",
      "This parrot wouldn't VOOM if you put four million volts through it. E's bleedin' demised !\n"
     ]
    }
   ],
   "source": [
    "def parrot(voltage, state, action):\n",
    "    print(\"voltage =\", voltage, \"state =\", state, \"action =\", action)\n",
    "    print()\n",
    "    print(\"This parrot wouldn't\", action, end=' ')\n",
    "    print(\"if you put\", voltage, \"volts through it.\", end=' ')\n",
    "    print(\"E's\", state, \"!\")\n",
    "\n",
    "d = {\"voltage\": \"four million\", \"state\": \"bleedin' demised\", \"action\": \"VOOM\"}\n",
    "parrot(**d)"
   ]
  },
  {
   "cell_type": "code",
   "execution_count": 32,
   "metadata": {},
   "outputs": [
    {
     "name": "stdout",
     "output_type": "stream",
     "text": [
      "a = 2 b = 5\n"
     ]
    }
   ],
   "source": [
    "def f2(a, b):\n",
    "    print(\"a =\", a, \"b =\", b)\n",
    "\n",
    "tup = (2, 5)\n",
    "f2(*tup)       # star to unfold one object (tup) to two objects: parameters a and b"
   ]
  },
  {
   "cell_type": "code",
   "execution_count": 37,
   "metadata": {},
   "outputs": [
    {
     "name": "stdout",
     "output_type": "stream",
     "text": [
      "<class 'tuple'> (False, 100)\n"
     ]
    }
   ],
   "source": [
    "x = 5\n",
    "y = x > 5, 100\n",
    "print(type(y), y)"
   ]
  },
  {
   "cell_type": "code",
   "execution_count": 48,
   "metadata": {},
   "outputs": [
    {
     "name": "stdout",
     "output_type": "stream",
     "text": [
      "Hi\n",
      "Bye\n"
     ]
    }
   ],
   "source": [
    "#\n",
    "# Closure\n",
    "#\n",
    "\n",
    "def outer_function(msg):\n",
    "\n",
    "    def inner_function():\n",
    "        print(msg)\n",
    "\n",
    "    return inner_function  # returns inner_function that waits to be executed\n",
    "\n",
    "f_hi = outer_function('Hi')  # f_hi is assigned to function that waites to be execute\n",
    "f_bye = outer_function('Bye')\n",
    "f_hi()\n",
    "f_bye()"
   ]
  },
  {
   "cell_type": "code",
   "execution_count": 52,
   "metadata": {},
   "outputs": [
    {
     "name": "stdout",
     "output_type": "stream",
     "text": [
      "wrapper executed this before display\n",
      "display function ran\n"
     ]
    }
   ],
   "source": [
    "# Decorator: a function that takes another function as an argument\n",
    "\n",
    "def decorator_function (original_function):\n",
    "    def wrapper_function():\n",
    "        print (\"wrapper executed this before {}\".format(original_function.__name__))\n",
    "        return original_function()\n",
    "    return wrapper_function\n",
    "\n",
    "@decorator_function  # equivalent to: display = decorator-function(display)\n",
    "def display():\n",
    "    print (\"display function ran\")\n",
    "\n",
    "# display = decorator-function(display)\n",
    "display()"
   ]
  },
  {
   "cell_type": "code",
   "execution_count": 91,
   "metadata": {},
   "outputs": [
    {
     "name": "stdout",
     "output_type": "stream",
     "text": [
      "   count   word  length   frequency\n",
      "0      5  quick       5  infrequent\n",
      "1     15  brown       5    frequent\n",
      "2      1    fox       3      unique\n",
      "3      5  jumps       5  infrequent\n",
      "4      4   over       4  infrequent\n",
      "5     21    the       3    frequent\n",
      "6      1   lazy       4      unique\n",
      "7     20    dog       3    frequent\n",
      "\n",
      "3.6666666666666665\n",
      "\n",
      "56\n",
      "14\n",
      "2\n",
      "num_words_unique_ser = 2\n",
      "\n",
      "x: type(x):<class 'pandas.core.series.Series'> x:\n",
      "0    infrequent\n",
      "1      frequent\n",
      "2        unique\n",
      "3    infrequent\n",
      "4    infrequent\n",
      "5      frequent\n",
      "6        unique\n",
      "7      frequent\n",
      "Name: frequency, dtype: object\n",
      "\n",
      "x: type(x):<class 'pandas.core.series.Series'> x:\n",
      "0    infrequent\n",
      "1      frequent\n",
      "2        unique\n",
      "3    infrequent\n",
      "4    infrequent\n",
      "5      frequent\n",
      "6        unique\n",
      "7      frequent\n",
      "Name: frequency, dtype: object\n",
      "num = frequency\n",
      "frequent      56\n",
      "infrequent    14\n",
      "unique         2\n",
      "Name: count, dtype: int64\n"
     ]
    },
    {
     "ename": "TypeError",
     "evalue": "'Series' objects are mutable, thus they cannot be hashed",
     "output_type": "error",
     "traceback": [
      "\u001b[0;31m---------------------------------------------------------------------------\u001b[0m",
      "\u001b[0;31mTypeError\u001b[0m                                 Traceback (most recent call last)",
      "\u001b[0;32m<ipython-input-91-4919e23533e0>\u001b[0m in \u001b[0;36m<module>\u001b[0;34m()\u001b[0m\n\u001b[1;32m     76\u001b[0m     \u001b[0;31m#\"num_words\": data[data.frequency == \"frequent\"][\"count\"].sum()\u001b[0m\u001b[0;34m\u001b[0m\u001b[0;34m\u001b[0m\u001b[0m\n\u001b[1;32m     77\u001b[0m     \u001b[0;31m# \"num_words\": d[data[\"frequency\"]]\u001b[0m\u001b[0;34m\u001b[0m\u001b[0;34m\u001b[0m\u001b[0m\n\u001b[0;32m---> 78\u001b[0;31m     \u001b[0;34m\"num_words\"\u001b[0m\u001b[0;34m:\u001b[0m \u001b[0md\u001b[0m\u001b[0;34m[\u001b[0m\u001b[0mdata\u001b[0m\u001b[0;34m.\u001b[0m\u001b[0mfrequency\u001b[0m\u001b[0;34m]\u001b[0m\u001b[0;34m\u001b[0m\u001b[0m\n\u001b[0m\u001b[1;32m     79\u001b[0m })\n\u001b[1;32m     80\u001b[0m \u001b[0mprint\u001b[0m\u001b[0;34m(\u001b[0m\u001b[0mdata\u001b[0m\u001b[0;34m)\u001b[0m\u001b[0;34m\u001b[0m\u001b[0m\n",
      "\u001b[0;32m~/anaconda/lib/python3.6/site-packages/pandas/core/generic.py\u001b[0m in \u001b[0;36m__hash__\u001b[0;34m(self)\u001b[0m\n\u001b[1;32m    877\u001b[0m     \u001b[0;32mdef\u001b[0m \u001b[0m__hash__\u001b[0m\u001b[0;34m(\u001b[0m\u001b[0mself\u001b[0m\u001b[0;34m)\u001b[0m\u001b[0;34m:\u001b[0m\u001b[0;34m\u001b[0m\u001b[0m\n\u001b[1;32m    878\u001b[0m         raise TypeError('{0!r} objects are mutable, thus they cannot be'\n\u001b[0;32m--> 879\u001b[0;31m                         ' hashed'.format(self.__class__.__name__))\n\u001b[0m\u001b[1;32m    880\u001b[0m \u001b[0;34m\u001b[0m\u001b[0m\n\u001b[1;32m    881\u001b[0m     \u001b[0;32mdef\u001b[0m \u001b[0m__iter__\u001b[0m\u001b[0;34m(\u001b[0m\u001b[0mself\u001b[0m\u001b[0;34m)\u001b[0m\u001b[0;34m:\u001b[0m\u001b[0;34m\u001b[0m\u001b[0m\n",
      "\u001b[0;31mTypeError\u001b[0m: 'Series' objects are mutable, thus they cannot be hashed"
     ]
    }
   ],
   "source": [
    "import pandas as pd\n",
    "\n",
    "language = \"French\"\n",
    "counted_text = {\"quick\": 5, \"brown\": 15, \"fox\": 1, \"jumps\": 5, \"over\": 4,\n",
    "                \"the\": 21, \"lazy\": 1, \"dog\": 20}\n",
    "\n",
    "data = pd.DataFrame({\n",
    "    \"word\": list(counted_text.keys()),\n",
    "    \"count\": list(counted_text.values())\n",
    "})\n",
    "\n",
    "data[\"length\"] = data[\"word\"].apply(len)\n",
    "\n",
    "data.loc[data[\"count\"] > 10,  \"frequency\"] = \"frequent\"\n",
    "data.loc[data[\"count\"] <= 10, \"frequency\"] = \"infrequent\"\n",
    "data.loc[data[\"count\"] == 1,  \"frequency\"] = \"unique\"\n",
    "\n",
    "print(data)\n",
    "print()\n",
    "# print(data[data.frequency == \"frequent\"])\n",
    "# print(data[data.frequency == \"frequent\"].word)\n",
    "# print(data[data.frequency == \"frequent\"].word.apply(len).mean())\n",
    "print(data[data.frequency == \"frequent\"].word.apply(len).mean())\n",
    "print()\n",
    "\n",
    "mean_word_length_frequent = data[data.frequency == \"frequent\"].word.apply(len).mean()\n",
    "mean_word_length_infrequent = data[data.frequency == \"infrequent\"].word.apply(len).mean()\n",
    "mean_word_length_unique = data[data.frequency == \"unique\"].word.apply(len).mean()\n",
    "\n",
    "num_words_frequent = data[data.frequency == \"frequent\"][\"count\"].sum()\n",
    "num_words_infrequent = data[data.frequency == \"infrequent\"][\"count\"].sum()\n",
    "num_words_unique = data[data.frequency == \"unique\"][\"count\"].sum()\n",
    "print(num_words_frequent)\n",
    "print(num_words_infrequent)\n",
    "print(num_words_unique)\n",
    "\n",
    "num_words_unique_ser = data[data.frequency == \"unique\"][\"count\"].sum()\n",
    "print(\"num_words_unique_ser =\", num_words_unique_ser)\n",
    "\n",
    "# sub_data.loc[data[\"frequency\"] == \"frequent\", \"mean_word_length\"] = data[data.frequency == \"frequent\"].word.apply(len).mean()\n",
    "# sub_data.loc[data[\"frequency\"] == \"infrequent\", \"mean_word_length\"] = data[data.frequency == \"infrequent\"].word.apply(len).mean()\n",
    "# sub_data.loc[data[\"frequency\"] == \"unique\", \"mean_word_length\"] = data[data.frequency == \"unique\"].word.apply(len).mean()\n",
    "\n",
    "# data.loc[data[\"frequency\"] == \"frequent\", \"num_words\"] = data[data.frequency == \"frequent\"][\"count\"].sum()\n",
    "# data.loc[data[\"frequency\"] == \"infrequent\", \"num_words\"] = data[data.frequency == \"infrequent\"][\"count\"].sum()\n",
    "# data.loc[data[\"frequency\"] == \"unique\", \"num_words\"] = data[data.frequency == \"unique\"][\"count\"].sum()\n",
    "\n",
    "# ser = data.frequency\n",
    "# ser = data[\"frequency\"]\n",
    "# print(\"\\nser =\\n\", ser)\n",
    "# ser = pd.Series([14.0, 56.0, 2.0, 14.0, 14.0, 2.0, 56.0])\n",
    "\n",
    "x = data.frequency\n",
    "print(\"\\nx: type(x):{} x:\\n{}\".format(type(x), x))\n",
    "\n",
    "x = data[\"frequency\"]\n",
    "print(\"\\nx: type(x):{} x:\\n{}\".format(type(x), x))\n",
    "\n",
    "num = data.groupby(\"frequency\")[\"count\"].sum()\n",
    "print(\"num =\", num)\n",
    "\n",
    "# print(\"--\", data.iloc[2].frequency)\n",
    "# z = data.iloc[2][\"frequency\"]\n",
    "# z = data.loc[\"frequency\"]\n",
    "# print(z)\n",
    "# print(\"--\", data[data.frequency == data.iloc.frequency])\n",
    "\n",
    "d = {\"frequent\": 100, \"infrequent\":200, \"unique\": 300}\n",
    "\n",
    "sub_data = pd.DataFrame({\n",
    "    \"language\": language,\n",
    "    \"frequency\": data[\"frequency\"],\n",
    "    # \"num_words\": data[data.frequency == \"unique\"][\"count\"].sum()\n",
    "    # \"mean_words_length\": sub_data[\"mean_words_length\"],\n",
    "    # \"num_words\": ser\n",
    "    #\"num_words\": data[data.frequency == \"frequent\"][\"count\"].sum()\n",
    "    # \"num_words\": d[data[\"frequency\"]]\n",
    "    \"num_words\": d[data.frequency]\n",
    "})\n",
    "print(data)\n",
    "print(sub_data)\n",
    "print()\n",
    "\n",
    "# sub_data.loc[data[\"frequency\"] == \"frequent\", \"mean_word_length\"] = data[data.frequency == \"frequent\"].word.apply(len).mean()\n",
    "# sub_data.loc[data[\"frequency\"] == \"infrequent\", \"mean_word_length\"] = data[data.frequency == \"infrequent\"].word.apply(len).mean()\n",
    "# sub_data.loc[data[\"frequency\"] == \"unique\", \"mean_word_length\"] = data[data.frequency == \"unique\"].word.apply(len).mean()\n",
    "\n",
    "# sub_data.loc[data[\"frequency\"] == \"frequent\", \"num_words\"] = data[data.frequency == \"frequent\"][\"count\"].sum()\n",
    "# sub_data.loc[data[\"frequency\"] == \"infrequent\", \"num_words\"] = data[data.frequency == \"infrequent\"][\"count\"].sum()\n",
    "# sub_data.loc[data[\"frequency\"] == \"unique\", \"num_words\"] = data[data.frequency == \"unique\"][\"count\"].sum()\n",
    "\n",
    "# print(sub_data)\n",
    "# print(sub_data.frequency)\n"
   ]
  },
  {
   "cell_type": "code",
   "execution_count": 3,
   "metadata": {},
   "outputs": [
    {
     "name": "stdout",
     "output_type": "stream",
     "text": [
      "None\n",
      "10\n",
      "20\n",
      "30\n"
     ]
    },
    {
     "ename": "IndexError",
     "evalue": "pop from empty list",
     "output_type": "error",
     "traceback": [
      "\u001b[0;31m---------------------------------------------------------------------------\u001b[0m",
      "\u001b[0;31mIndexError\u001b[0m                                Traceback (most recent call last)",
      "\u001b[0;32m<ipython-input-3-ccc3a590d9c6>\u001b[0m in \u001b[0;36m<module>\u001b[0;34m()\u001b[0m\n\u001b[1;32m      4\u001b[0m \u001b[0mprint\u001b[0m\u001b[0;34m(\u001b[0m\u001b[0ma\u001b[0m\u001b[0;34m.\u001b[0m\u001b[0mpop\u001b[0m\u001b[0;34m(\u001b[0m\u001b[0;34m)\u001b[0m\u001b[0;34m)\u001b[0m\u001b[0;34m\u001b[0m\u001b[0m\n\u001b[1;32m      5\u001b[0m \u001b[0mprint\u001b[0m\u001b[0;34m(\u001b[0m\u001b[0ma\u001b[0m\u001b[0;34m.\u001b[0m\u001b[0mpop\u001b[0m\u001b[0;34m(\u001b[0m\u001b[0;34m)\u001b[0m\u001b[0;34m)\u001b[0m\u001b[0;34m\u001b[0m\u001b[0m\n\u001b[0;32m----> 6\u001b[0;31m \u001b[0mprint\u001b[0m\u001b[0;34m(\u001b[0m\u001b[0ma\u001b[0m\u001b[0;34m.\u001b[0m\u001b[0mpop\u001b[0m\u001b[0;34m(\u001b[0m\u001b[0;34m)\u001b[0m\u001b[0;34m)\u001b[0m\u001b[0;34m\u001b[0m\u001b[0m\n\u001b[0m",
      "\u001b[0;31mIndexError\u001b[0m: pop from empty list"
     ]
    }
   ],
   "source": [
    "a = [10, 20, 30]\n",
    "print(a.reverse())\n",
    "print(a.pop())\n",
    "print(a.pop())\n",
    "print(a.pop())\n",
    "print(a.pop())"
   ]
  },
  {
   "cell_type": "code",
   "execution_count": 2,
   "metadata": {},
   "outputs": [
    {
     "name": "stdout",
     "output_type": "stream",
     "text": [
      "[20, 10, 40, 30]\n"
     ]
    }
   ],
   "source": [
    "alist = [20, 10, 40, 30]\n",
    "# alist.sort()\n",
    "sorted(alist)\n",
    "print(alist)"
   ]
  },
  {
   "cell_type": "code",
   "execution_count": 7,
   "metadata": {},
   "outputs": [
    {
     "name": "stdout",
     "output_type": "stream",
     "text": [
      "[1 4 2 5 3 6]\n",
      "[[1]\n",
      " [2]\n",
      " [3]\n",
      " [4]\n",
      " [5]\n",
      " [6]]\n",
      "[[1 2]\n",
      " [3 4]\n",
      " [5 6]]\n"
     ]
    }
   ],
   "source": [
    "import numpy as np\n",
    "a = np.array([[1,2,3], [4,5,6]])\n",
    "print(np.reshape(a, 6, -1))\n",
    "print(a.reshape(6, -1))\n",
    "print(a.reshape(3, -1))"
   ]
  },
  {
   "cell_type": "code",
   "execution_count": 1,
   "metadata": {},
   "outputs": [
    {
     "data": {
      "image/png": "[encoded data removed]",
      "text/plain": [
       "<matplotlib.figure.Figure at 0x1058f33c8>"
      ]
     },
     "metadata": {
      "image/png": {
       "height": 277,
       "width": 433
      }
     },
     "output_type": "display_data"
    }
   ],
   "source": [
    "import matplotlib.pyplot as plt\n",
    "import numpy as np\n",
    "\n",
    "\n",
    "x = np.arange(0, 2*np.pi, .01)\n",
    "y = np.sin(x)\n",
    "plt.plot(x, y, color='r')\n",
    "plt.text(0.1, -0.04, '$sin(0) = 0$')\n",
    "plt.text(1.5, 0.9, '$sin(90) = 1$')\n",
    "plt.text(2.0, 0, '$sin(180) = 0$')\n",
    "plt.text(4.5, -0.9, '$sin(270) = -1$')\n",
    "plt.text(6.0, 0.0, '$sin(360) = 1$')\n",
    "plt.annotate('$sin(theta)=0$', xy=(3, 0.1), xytext=(5, 0.7),\n",
    "             arrowprops=dict(facecolor='green', shrink=0.05))\n",
    "plt.title('Inserting text and annotation in plots')\n",
    "plt.xlabel('$theta$')\n",
    "plt.ylabel('$y = sin( theta)$')\n",
    "plt.grid(True)\n",
    "plt.gcf().set_size_inches(6, 4)  # gcf: get current figure\n",
    "plt.show()"
   ]
  },
  {
   "cell_type": "code",
   "execution_count": 2,
   "metadata": {},
   "outputs": [
    {
     "name": "stdout",
     "output_type": "stream",
     "text": [
      "iter 0 | J: 1604.873\n",
      "iter 100 | J: 818.593\n",
      "iter 200 | J: 715.250\n",
      "iter 300 | J: 701.464\n",
      "iter 400 | J: 699.598\n",
      "iter 500 | J: 699.342\n",
      "iter 600 | J: 699.306\n",
      "iter 700 | J: 699.301\n",
      "iter 800 | J: 699.300\n",
      "iter 900 | J: 699.300\n",
      "theta: [-2.84837957 43.20234847]\n"
     ]
    },
    {
     "data": {
      "image/png": "[encoded data removed]",
      "text/plain": [
       "<matplotlib.figure.Figure at 0x10f7a5c50>"
      ]
     },
     "metadata": {
      "image/png": {
       "height": 250,
       "width": 385
      }
     },
     "output_type": "display_data"
    },
    {
     "name": "stdout",
     "output_type": "stream",
     "text": [
      "Done!\n"
     ]
    }
   ],
   "source": [
    "# http://www.bogotobogo.com/python/python_numpy_batch_gradient_descent_algorithm.php\n",
    "\n",
    "import numpy as np\n",
    "import random\n",
    "from sklearn.datasets.samples_generator import make_regression \n",
    "import pylab\n",
    "from scipy import stats\n",
    "\n",
    "\n",
    "def gradient_descent_2(alpha, x, y, numIterations):\n",
    "    m = x.shape[0] # number of samples\n",
    "    theta = np.ones(2)\n",
    "    x_transpose = x.transpose()\n",
    "    for iter in range(0, numIterations):\n",
    "        hypothesis = np.dot(x, theta)\n",
    "        loss = hypothesis - y\n",
    "        J = np.sum(loss ** 2) / (2 * m)  # cost\n",
    "        if iter % 100 == 0:\n",
    "            print(\"iter %s | J: %.3f\" % (iter, J))\n",
    "        gradient = np.dot(x_transpose, loss) / m         \n",
    "        theta = theta - alpha * gradient  # update\n",
    "    return theta\n",
    "\n",
    "\n",
    "if __name__ == '__main__':\n",
    "\n",
    "    x, y = make_regression(n_samples=100, n_features=1, n_informative=1, \n",
    "                        random_state=0, noise=35) \n",
    "    m, n = np.shape(x)\n",
    "    x = np.c_[ np.ones(m), x] # insert column\n",
    "    alpha = 0.01 # learning rate\n",
    "    theta = gradient_descent_2(alpha, x, y, 1000)\n",
    "    print(\"theta:\", theta)\n",
    "\n",
    "    # plot\n",
    "    for i in range(x.shape[1]):\n",
    "        y_predict = theta[0] + theta[1]*x \n",
    "    pylab.plot(x[:,1],y,'o')\n",
    "    pylab.plot(x,y_predict,'k-')\n",
    "    pylab.show()\n",
    "    print(\"Done!\")"
   ]
  },
  {
   "cell_type": "code",
   "execution_count": 4,
   "metadata": {},
   "outputs": [
    {
     "data": {
      "text/plain": [
       "array([ -31.74599395,  -28.79914206,   -2.18450294,   28.96679712,\n",
       "        -30.8791169 ,   50.95046613,  -93.57631576,   16.24879305,\n",
       "         53.00911661,  -45.22174792,  -42.00928854,   19.11001507,\n",
       "       -104.92973612,  -56.59706356,   38.16097549,   86.6425451 ,\n",
       "          1.12230893,   69.27242173,  126.86525291,  -10.78662055,\n",
       "         77.56286175,   70.25640721,   47.34938459,   16.41010803,\n",
       "         77.45519541,  112.90598866,   97.17109917,    8.58493832,\n",
       "         46.16243904,   77.58257518,  -68.66251854,  -15.37643859,\n",
       "        -67.58209491,   66.59785916,  -77.1975778 ,   58.67310543,\n",
       "         59.45329793,   -2.97735959,  -59.65844597,  -28.1025301 ,\n",
       "          8.56496251,   18.82793704,  -65.40363111,   50.28677503,\n",
       "         30.31262372,  -78.37299529,   99.18489631,  -32.18139332,\n",
       "         66.33267361,  -43.60361328,    8.42455635, -101.49486272,\n",
       "        -46.78311154,  -13.82464962,   34.84757441,   25.49574035,\n",
       "        -40.33900467, -153.46417138,   76.56469745,    2.12468583,\n",
       "        -33.11694259,   -9.27070853,   22.32574327,  -98.68732704,\n",
       "       -128.71329362,  -59.89757886,  -55.6553467 ,  -61.3575238 ,\n",
       "         27.87187765,  108.47758004,   94.60351217,  -16.22563521,\n",
       "        -60.57539163,   29.58507825,  -21.66009884,  -96.3039129 ,\n",
       "         43.59282237,    2.81245212,    1.40895961,   32.41891887,\n",
       "         44.41866127,   19.58494635,  -13.7348533 ,  -43.74273429,\n",
       "         16.78504655,  -58.00030064,  -13.52219495,   45.75730762,\n",
       "         50.6816265 ,   20.3044043 ,  -30.21166631,   12.37152567,\n",
       "        -59.37163364,   -6.11610716,  -30.80406808,  -46.08376409,\n",
       "         36.80029964,    3.48370578,  -13.66228476,  -68.86587953])"
      ]
     },
     "execution_count": 4,
     "metadata": {},
     "output_type": "execute_result"
    }
   ],
   "source": [
    "y"
   ]
  },
  {
   "cell_type": "code",
   "execution_count": 5,
   "metadata": {},
   "outputs": [
    {
     "name": "stdout",
     "output_type": "stream",
     "text": [
      "       0 J: 687.021\n",
      "     100 J: 636.790\n",
      "     200 J: 630.018\n",
      "     300 J: 629.056\n",
      "     400 J: 628.912\n",
      "     500 J: 628.889\n",
      "     600 J: 628.885\n",
      "     700 J: 628.884\n",
      "     800 J: 628.884\n",
      "converged: J = 628.8837972085875\n",
      "final J = 628.8837972085875\n",
      "theta: [ 1.35864252e+00 -8.60144409e-02 -6.95272334e-01 -2.90998078e+00\n",
      "  2.73321430e-01  9.26887655e+00 -1.25819227e+00 -2.60264500e+00\n",
      " -1.11307250e+00 -2.66208647e-03 -1.28550934e+00]\n",
      "x.shape: (1000, 10)\n"
     ]
    },
    {
     "data": {
      "image/png": "[encoded data removed]",
      "text/plain": [
       "<matplotlib.figure.Figure at 0x107866198>"
      ]
     },
     "metadata": {
      "image/png": {
       "height": 250,
       "width": 385
      }
     },
     "output_type": "display_data"
    }
   ],
   "source": [
    "import numpy as np\n",
    "import matplotlib.pyplot as plt\n",
    "from sklearn.datasets.samples_generator import make_regression \n",
    "\n",
    "\n",
    "def gradient_descent_sin1(alpha, x, y, par0, max_iterations=1000000):\n",
    "    \"\"\"\n",
    "    Plain gradient descent.\n",
    "    Computes the Cost function and gradient.\n",
    "    \"\"\"\n",
    "\n",
    "    # add colunm of 1's to the data\n",
    "\n",
    "    m = x.shape[0]  # number of samples\n",
    "    X = np.c_[np.ones(m), x]        # add column of 1's\n",
    "    X_transposed = X.T              # keep transposed to speedup a bit\n",
    "\n",
    "    eps = 1e-7\n",
    "    # eps = 1e-12\n",
    "    J = 0\n",
    "    theta = np.ones(X.shape[1])\n",
    "\n",
    "    for iter in range(max_iterations):\n",
    "        hypothesis = np.dot(X, theta)\n",
    "        loss = hypothesis - y\n",
    "        Jupdate = np.sum(loss ** 2) / (2 * m)\n",
    "        if abs(J - Jupdate) < eps:\n",
    "            print(\"converged: J =\", J)\n",
    "            break\n",
    "        J = Jupdate\n",
    "\n",
    "        if iter % 100 == 0:\n",
    "            print(\"%8d J: %.3f\" % (iter, J))\n",
    "\n",
    "        gradient = np.dot(X_transposed, loss) / m         \n",
    "        theta = theta - alpha * gradient            # update\n",
    "\n",
    "    print(\"final J =\", J)\n",
    "    return theta\n",
    "\n",
    "\n",
    "if __name__ == '__main__':\n",
    "\n",
    "    n_samples_generate = 1000\n",
    "    n_features_generate = 10\n",
    "\n",
    "    # create dataset\n",
    "    x, y = make_regression(n_samples=n_samples_generate,\n",
    "                           n_features=n_features_generate,\n",
    "                           n_informative=1, random_state=0, noise=35) \n",
    "\n",
    "    alpha = 0.01                                # learning rate\n",
    "\n",
    "    par0 = []\n",
    "    theta = gradient_descent_sin1(alpha, x, y, par0, 1000)\n",
    "    print(\"theta:\", theta)\n",
    "\n",
    "    print(\"x.shape:\", x.shape)\n",
    "\n",
    "    # plot\n",
    "    for i in range(x.shape[0]):\n",
    "        y_predict = theta[0] + theta[1:]*x  # x doesn't have column of 1's\n",
    "\n",
    "    plt.plot(x[:,0], y, 'o')\n",
    "    plt.plot(x, y_predict, 'k-')\n",
    "    plt.show()"
   ]
  },
  {
   "cell_type": "code",
   "execution_count": 11,
   "metadata": {},
   "outputs": [
    {
     "name": "stdout",
     "output_type": "stream",
     "text": [
      "pi is 3.14\n",
      "this is a string\n"
     ]
    }
   ],
   "source": [
    "pi = 3.14\n",
    "string = \"pi is \"\n",
    "print(string + str(pi))\n",
    "print(\"this \", end='')\n",
    "print('is ', end='')\n",
    "print('a ', end='')\n",
    "print('string')"
   ]
  },
  {
   "cell_type": "code",
   "execution_count": 9,
   "metadata": {
    "scrolled": true
   },
   "outputs": [
    {
     "name": "stdout",
     "output_type": "stream",
     "text": [
      "Paper  Year  Authors \n",
      "An Inside Look at Google BigQuery  2012  Kazunori Sato \n",
      "MapReduce: Simplified Data Processing on Large Clusters  2004  Jeffrey Dean\n",
      "Spark: Cluster Computing with Working Sets  2010  Matei Zaharia \n"
     ]
    }
   ],
   "source": [
    "import csv\n",
    "\n",
    "fname = 'input.csv'\n",
    "with open(fname) as file:\n",
    "    text = csv.reader(file)\n",
    "    for line in text:\n",
    "        # print(line[2])\n",
    "        s = line[2]\n",
    "        # print(s.split('|')[0])\n",
    "        print(line[0], line[1], s.split('|')[0])"
   ]
  },
  {
   "cell_type": "code",
   "execution_count": 20,
   "metadata": {},
   "outputs": [
    {
     "name": "stdout",
     "output_type": "stream",
     "text": [
      "                   A         B         C         D\n",
      "2000-01-01  0.136109 -1.026295 -0.500347 -0.870226\n",
      "2000-01-02 -1.044940 -0.222966  1.468666  0.579166\n",
      "2000-01-03 -1.383606  0.842612  1.302350  0.432423\n",
      "2000-01-04 -1.160665  1.474797  1.346747  1.298958\n",
      "2000-01-05 -1.566892 -0.646590  0.109242  0.324108\n",
      "2000-01-06 -2.059640 -0.236936 -0.261808  0.326318\n",
      "2000-01-07  1.330765  0.062659 -0.387897 -0.040357\n",
      "2000-01-08 -0.252764 -0.335250  0.699044 -0.213919\n",
      "                   A         B         C         D\n",
      "2000-01-02 -1.044940 -0.222966  1.468666  0.579166\n",
      "2000-01-03 -1.383606  0.842612  1.302350  0.432423\n",
      "2000-01-04 -1.160665  1.474797  1.346747  1.298958\n",
      "2000-01-05 -1.566892 -0.646590  0.109242  0.324108\n",
      "2000-01-06 -2.059640 -0.236936 -0.261808  0.326318\n",
      "2000-01-08 -0.252764 -0.335250  0.699044 -0.213919\n",
      "                   A         B         C         D\n",
      "2000-01-02 -1.044940 -0.222966  1.468666  0.579166\n",
      "2000-01-03 -1.383606  0.842612  1.302350  0.432423\n",
      "2000-01-04 -1.160665  1.474797  1.346747  1.298958\n",
      "2000-01-05 -1.566892 -0.646590  0.109242  0.324108\n",
      "2000-01-06 -2.059640 -0.236936 -0.261808  0.326318\n",
      "2000-01-08 -0.252764 -0.335250  0.699044 -0.213919\n"
     ]
    }
   ],
   "source": [
    "import pandas as pd\n",
    "import numpy as np\n",
    "\n",
    "dates = pd.date_range('1/1/2000', periods=8)\n",
    "df = pd.DataFrame(np.random.randn(8, 4), index=dates, columns=['A', 'B', 'C', 'D'])\n",
    "print(df)\n",
    "print(df[df.A < 0])\n",
    "print(df.loc[df['A'] < 0])"
   ]
  },
  {
   "cell_type": "code",
   "execution_count": 3,
   "metadata": {},
   "outputs": [
    {
     "name": "stdout",
     "output_type": "stream",
     "text": [
      "(1, 'one')\n",
      "(2, 'two')\n",
      "(3, 'three')\n"
     ]
    }
   ],
   "source": [
    "q = []\n",
    "q.append((2, 'two'))\n",
    "q.append((1, 'one'))\n",
    "q.append((3, 'three'))\n",
    "\n",
    "q.sort(reverse=True)  # because we are going to use pop: pop extracts the last element\n",
    "while q:\n",
    "    item = q.pop()\n",
    "    print(item)"
   ]
  },
  {
   "cell_type": "code",
   "execution_count": 8,
   "metadata": {},
   "outputs": [
    {
     "name": "stdout",
     "output_type": "stream",
     "text": [
      "[(2, 'two')]\n",
      "[(2, 'two'), (5, 'five')]\n",
      "[(1, 'one'), (5, 'five'), (2, 'two')]\n",
      "[(1, 'one'), (4, 'four'), (2, 'two'), (5, 'five')]\n",
      "[(1, 'one'), (3, 'three'), (2, 'two'), (5, 'five'), (4, 'four')]\n",
      "Extract elements using heappop(): it pops the minimum elements\n",
      "(1, 'one') \t [(2, 'two'), (3, 'three'), (4, 'four'), (5, 'five')]\n",
      "(2, 'two') \t [(3, 'three'), (5, 'five'), (4, 'four')]\n",
      "(3, 'three') \t [(4, 'four'), (5, 'five')]\n",
      "(4, 'four') \t [(5, 'five')]\n",
      "(5, 'five') \t []\n"
     ]
    }
   ],
   "source": [
    "import heapq\n",
    "\n",
    "q = []\n",
    "\n",
    "heapq.heappush(q, (2, 'two'))\n",
    "print(q)\n",
    "heapq.heappush(q, (5, 'five'))\n",
    "print(q)\n",
    "heapq.heappush(q, (1, 'one'))\n",
    "print(q)\n",
    "heapq.heappush(q, (4, 'four'))\n",
    "print(q)\n",
    "heapq.heappush(q, (3, 'three'))\n",
    "print(q)\n",
    "\n",
    "print('Extract elements using heappop(): it pops the minimum elements')\n",
    "while q:\n",
    "    item = q[0]\n",
    "    heapq.heappop(q)\n",
    "    print(item, '\\t', q)"
   ]
  },
  {
   "cell_type": "code",
   "execution_count": 14,
   "metadata": {},
   "outputs": [
    {
     "name": "stdout",
     "output_type": "stream",
     "text": [
      "\n",
      "Member name: wont_fix\n",
      "Member value: 4\n"
     ]
    }
   ],
   "source": [
    "import enum\n",
    "class BugStatus(enum.Enum):\n",
    "    new = 7\n",
    "    incomplete = 6\n",
    "    invalid = 5\n",
    "    wont_fix = 4\n",
    "    in_progress = 3\n",
    "    fix_committed = 2\n",
    "    fix_released = 1\n",
    "\n",
    "print('\\nMember name: {}'.format(BugStatus.wont_fix.name))\n",
    "print('Member value: {}'.format(BugStatus.wont_fix.value))"
   ]
  },
  {
   "cell_type": "code",
   "execution_count": 12,
   "metadata": {},
   "outputs": [
    {
     "data": {
      "text/plain": [
       "[<matplotlib.lines.Line2D at 0x10f803080>]"
      ]
     },
     "execution_count": 12,
     "metadata": {},
     "output_type": "execute_result"
    },
    {
     "data": {
      "image/png": "[encoded data removed]",
      "text/plain": [
       "<Figure size 432x288 with 1 Axes>"
      ]
     },
     "metadata": {
      "image/png": {
       "height": 250,
       "width": 373
      }
     },
     "output_type": "display_data"
    },
    {
     "data": {
      "image/png": "[encoded data removed]",
      "text/plain": [
       "<Figure size 432x288 with 1 Axes>"
      ]
     },
     "metadata": {
      "image/png": {
       "height": 250,
       "width": 373
      }
     },
     "output_type": "display_data"
    }
   ],
   "source": [
    "import numpy as np\n",
    "import matplotlib.pyplot as plt\n",
    "%matplotlib inline\n",
    "\n",
    "def f(x):\n",
    "    \"\"\" some shape at t = 0 \"\"\"\n",
    "    return 3 / (10*x**2 + 1)\n",
    "\n",
    "def wave(f, x, ct=0):\n",
    "    \"\"\" f(x) at displacement ct in positive x direction \"\"\"\n",
    "    return f(x - ct)\n",
    "\n",
    "x = np.arange(-5, 10, 0.01)\n",
    "y = np.sin(x)\n",
    "\n",
    "plt.plot(x, f(x))       # for all x from -10 to 10 compute value of f(x)\n",
    "ct = 5\n",
    "plt.plot(x, f(x - ct))\n",
    "\n",
    "plt.figure()\n",
    "ct = 0\n",
    "plt.plot(x, wave(f, x, ct))\n",
    "ct = 5\n",
    "plt.plot(x, wave(f, x, ct))"
   ]
  },
  {
   "cell_type": "code",
   "execution_count": 1,
   "metadata": {},
   "outputs": [
    {
     "data": {
      "text/plain": [
       "'ABCDEABCABCX'"
      ]
     },
     "execution_count": 1,
     "metadata": {},
     "output_type": "execute_result"
    },
    {
     "data": {
      "text/plain": [
       "'ABC'"
      ]
     },
     "execution_count": 1,
     "metadata": {},
     "output_type": "execute_result"
    },
    {
     "name": "stdout",
     "output_type": "stream",
     "text": [
      "3\n",
      "3\n"
     ]
    }
   ],
   "source": [
    "def npatterns(string, pattern):\n",
    "    count = 0\n",
    "    ind = string.find(pattern)\n",
    "    pos = ind\n",
    "    while ind >= 0:\n",
    "        count += 1\n",
    "        ind = string.find(pattern, pos+len(pattern))\n",
    "        pos += ind  # if pattern was not found, ind = -1 and pos will be wrong, but we don't care because we exit the while loop\n",
    "    return count\n",
    "\n",
    "def npat(string, pattern):\n",
    "    return string.count(pattern)\n",
    "\n",
    "s = 'ABCDEABCABCX'\n",
    "s\n",
    "pattern = 'ABC'\n",
    "pattern\n",
    "print(npatterns(s, pattern))\n",
    "print(npat(s, pattern))"
   ]
  },
  {
   "cell_type": "code",
   "execution_count": 2,
   "metadata": {},
   "outputs": [
    {
     "data": {
      "application/json": {
       "cell": {
        "!": "OSMagics",
        "HTML": "Other",
        "SVG": "Other",
        "bash": "Other",
        "capture": "ExecutionMagics",
        "debug": "ExecutionMagics",
        "file": "Other",
        "html": "DisplayMagics",
        "javascript": "DisplayMagics",
        "js": "DisplayMagics",
        "latex": "DisplayMagics",
        "markdown": "DisplayMagics",
        "perl": "Other",
        "prun": "ExecutionMagics",
        "pypy": "Other",
        "python": "Other",
        "python2": "Other",
        "python3": "Other",
        "ruby": "Other",
        "script": "ScriptMagics",
        "sh": "Other",
        "svg": "DisplayMagics",
        "sx": "OSMagics",
        "system": "OSMagics",
        "time": "ExecutionMagics",
        "timeit": "ExecutionMagics",
        "writefile": "OSMagics"
       },
       "line": {
        "alias": "OSMagics",
        "alias_magic": "BasicMagics",
        "autocall": "AutoMagics",
        "automagic": "AutoMagics",
        "autosave": "KernelMagics",
        "bookmark": "OSMagics",
        "cat": "Other",
        "cd": "OSMagics",
        "clear": "KernelMagics",
        "colors": "BasicMagics",
        "config": "ConfigMagics",
        "connect_info": "KernelMagics",
        "cp": "Other",
        "debug": "ExecutionMagics",
        "dhist": "OSMagics",
        "dirs": "OSMagics",
        "doctest_mode": "BasicMagics",
        "ed": "Other",
        "edit": "KernelMagics",
        "env": "OSMagics",
        "gui": "BasicMagics",
        "hist": "Other",
        "history": "HistoryMagics",
        "killbgscripts": "ScriptMagics",
        "ldir": "Other",
        "less": "KernelMagics",
        "lf": "Other",
        "lk": "Other",
        "ll": "Other",
        "load": "CodeMagics",
        "load_ext": "ExtensionMagics",
        "loadpy": "CodeMagics",
        "logoff": "LoggingMagics",
        "logon": "LoggingMagics",
        "logstart": "LoggingMagics",
        "logstate": "LoggingMagics",
        "logstop": "LoggingMagics",
        "ls": "Other",
        "lsmagic": "BasicMagics",
        "lx": "Other",
        "macro": "ExecutionMagics",
        "magic": "BasicMagics",
        "man": "KernelMagics",
        "matplotlib": "PylabMagics",
        "mkdir": "Other",
        "more": "KernelMagics",
        "mv": "Other",
        "notebook": "BasicMagics",
        "page": "BasicMagics",
        "pastebin": "CodeMagics",
        "pdb": "ExecutionMagics",
        "pdef": "NamespaceMagics",
        "pdoc": "NamespaceMagics",
        "pfile": "NamespaceMagics",
        "pinfo": "NamespaceMagics",
        "pinfo2": "NamespaceMagics",
        "pip": "BasicMagics",
        "popd": "OSMagics",
        "pprint": "BasicMagics",
        "precision": "BasicMagics",
        "profile": "BasicMagics",
        "prun": "ExecutionMagics",
        "psearch": "NamespaceMagics",
        "psource": "NamespaceMagics",
        "pushd": "OSMagics",
        "pwd": "OSMagics",
        "pycat": "OSMagics",
        "pylab": "PylabMagics",
        "qtconsole": "KernelMagics",
        "quickref": "BasicMagics",
        "recall": "HistoryMagics",
        "rehashx": "OSMagics",
        "reload_ext": "ExtensionMagics",
        "rep": "Other",
        "rerun": "HistoryMagics",
        "reset": "NamespaceMagics",
        "reset_selective": "NamespaceMagics",
        "rm": "Other",
        "rmdir": "Other",
        "run": "ExecutionMagics",
        "save": "CodeMagics",
        "sc": "OSMagics",
        "set_env": "OSMagics",
        "store": "StoreMagics",
        "sx": "OSMagics",
        "system": "OSMagics",
        "tb": "ExecutionMagics",
        "time": "ExecutionMagics",
        "timeit": "ExecutionMagics",
        "unalias": "OSMagics",
        "unload_ext": "ExtensionMagics",
        "who": "NamespaceMagics",
        "who_ls": "NamespaceMagics",
        "whos": "NamespaceMagics",
        "xdel": "NamespaceMagics",
        "xmode": "BasicMagics"
       }
      },
      "text/plain": [
       "Available line magics:\n",
       "%alias  %alias_magic  %autocall  %automagic  %autosave  %bookmark  %cat  %cd  %clear  %colors  %config  %connect_info  %cp  %debug  %dhist  %dirs  %doctest_mode  %ed  %edit  %env  %gui  %hist  %history  %killbgscripts  %ldir  %less  %lf  %lk  %ll  %load  %load_ext  %loadpy  %logoff  %logon  %logstart  %logstate  %logstop  %ls  %lsmagic  %lx  %macro  %magic  %man  %matplotlib  %mkdir  %more  %mv  %notebook  %page  %pastebin  %pdb  %pdef  %pdoc  %pfile  %pinfo  %pinfo2  %popd  %pprint  %precision  %profile  %prun  %psearch  %psource  %pushd  %pwd  %pycat  %pylab  %qtconsole  %quickref  %recall  %rehashx  %reload_ext  %rep  %rerun  %reset  %reset_selective  %rm  %rmdir  %run  %save  %sc  %set_env  %store  %sx  %system  %tb  %time  %timeit  %unalias  %unload_ext  %who  %who_ls  %whos  %xdel  %xmode\n",
       "\n",
       "Available cell magics:\n",
       "%%!  %%HTML  %%SVG  %%bash  %%capture  %%debug  %%file  %%html  %%javascript  %%js  %%latex  %%markdown  %%perl  %%prun  %%pypy  %%python  %%python2  %%python3  %%ruby  %%script  %%sh  %%svg  %%sx  %%system  %%time  %%timeit  %%writefile\n",
       "\n",
       "Automagic is ON, % prefix IS NOT needed for line magics."
      ]
     },
     "execution_count": 2,
     "metadata": {},
     "output_type": "execute_result"
    }
   ],
   "source": [
    "%lsmagic"
   ]
  },
  {
   "cell_type": "markdown",
   "metadata": {},
   "source": [
    "$ P(A \\mid B) = \\frac{P(B \\mid A) \\, P(A)}{P(B)} $"
   ]
  },
  {
   "cell_type": "markdown",
   "metadata": {},
   "source": [
    "\\\\( P(A \\mid B) = \\frac{P(B \\mid A) \\, P(A)}{P(B)} \\\\)"
   ]
  },
  {
   "cell_type": "code",
   "execution_count": 3,
   "metadata": {},
   "outputs": [
    {
     "name": "stdout",
     "output_type": "stream",
     "text": [
      "remove element b\n",
      "goat_candidate: ['a', 'c']\n",
      "doors_goat: ['a', 'b', 'c']\n"
     ]
    }
   ],
   "source": [
    "goat_candidate = ['a', 'b', 'c']\n",
    "doors_goat = []\n",
    "element = 'b'\n",
    "if element in goat_candidate:\n",
    "    # remove car door from the list of all doors\n",
    "    doors_goat = list(goat_candidate)\n",
    "    doors_goat.remove(element)\n",
    "    \n",
    "    # remove element\n",
    "    print('remove element', element)\n",
    "    goat_candidate.remove(element)\n",
    "else:\n",
    "    print('element', element, 'was not found')\n",
    "print('goat_candidate:', goat_candidate)\n",
    "print('doors_goat:', doors_goat)"
   ]
  },
  {
   "cell_type": "code",
   "execution_count": 16,
   "metadata": {},
   "outputs": [
    {
     "name": "stdout",
     "output_type": "stream",
     "text": [
      "don't change mind: out of 1000 trials: nwin = 332, prob = 0.33\n",
      "don't change mind elaborated: out of 1000 trials: nwin = 329, prob = 0.33\n",
      "change mind: out of 1000 trials: nwin = 498, prob = 0.50\n",
      "change mind to select strictly other door: out of 1000 trials: nwin = 679, prob = 0.68\n"
     ]
    }
   ],
   "source": [
    "import random\n",
    "random.seed(1)\n",
    "\n",
    "def dont_change_mind():\n",
    "    \"\"\" The player makes a choice and sticks with it ignoring open\n",
    "    \"\"\"\n",
    "    all_doors = ('a', 'b', 'c')\n",
    "    \n",
    "    # select a door to place the car\n",
    "    door_car = random.choice(all_doors)\n",
    "    # play the customer choice\n",
    "    door_initial = random.choice(all_doors)  # 1/3\n",
    "    \n",
    "    # show one of the goats at this point\n",
    "    # ...\n",
    "    # but the choice stays the same\n",
    "    \n",
    "    return door_car == door_initial\n",
    "\n",
    "def dont_change_mind_elaborated():\n",
    "    \"\"\" Fancy version of the dont_change_mind with explicit selection of door to open. That opening is completely ignored.\n",
    "    \"\"\"\n",
    "    all_doors = ('a', 'b', 'c')\n",
    "    \n",
    "    # select a door to place the car\n",
    "    door_car = random.choice(all_doors)  # door with car\n",
    "    \n",
    "    doors_goat = list(all_doors)\n",
    "    doors_goat.remove(door_car)                # doors with goats\n",
    "\n",
    "    # play the customer choice\n",
    "    door_initial = random.choice(all_doors)\n",
    "    \n",
    "    # if the customer selected a door with goat, remove it from goats\n",
    "    if door_initial in doors_goat:\n",
    "        doors_goat.remove(door_initial)\n",
    "    \n",
    "    # select a door with goat to open\n",
    "    door_open = random.choice(doors_goat)\n",
    "    \n",
    "    # the player sticks to his initial choice\n",
    "    other_door = door_initial\n",
    "    \n",
    "    return other_door == door_car\n",
    "\n",
    "def change_mind():\n",
    "    \"\"\" After opening of one goat door the customer makes brand new selection between the rest two doors:\n",
    "    one with a car and one with a goat. Prob = 1/2\n",
    "    \"\"\"\n",
    "    all_doors = ('a', 'b', 'c')\n",
    "    \n",
    "    # select a door to place the car\n",
    "    door_car = random.choice(all_doors)  # door with car\n",
    "    \n",
    "    doors_goat = list(all_doors)\n",
    "    doors_goat.remove(door_car)                # doors with goats\n",
    "\n",
    "    # play the customer choice\n",
    "    door_initial = random.choice(all_doors)\n",
    "    \n",
    "    # if the customer selected a door with goat, remove it from goats\n",
    "    if door_initial in doors_goat:\n",
    "        doors_goat.remove(door_initial)\n",
    "    \n",
    "    # select a door with goat to open\n",
    "    door_open = random.choice(doors_goat)\n",
    "    \n",
    "    # let customer selected the other door\n",
    "    other_doors = list(all_doors)\n",
    "    other_doors.remove(door_open)  # remove the opened door\n",
    "    # customer choice from the two doors\n",
    "    assert(len(other_doors) == 2)\n",
    "    other_door = random.choice(other_doors)\n",
    "    \n",
    "    return other_door == door_car\n",
    "\n",
    "def change_mind_other_door():\n",
    "    \"\"\" Select the door other than selected initially.\n",
    "    Probability that car behind this door is 1/3, while the prob that the car behind one of the rest two doors is 2/3.\n",
    "    After the goat door is open, the prob that the car behind the other door is 2/3:\n",
    "    that 2/3 probability to win is now belongs to that one door.\n",
    "    Imagine that we have 10 doors and 1 car. Now 9 doors are covered 9/10 of prob to win. These 9 doors has at least 8 goats.\n",
    "    If I open 8 doors, just one door will be left and carry that 9/10 of prob to win.\n",
    "    \"\"\"\n",
    "    all_doors = ('a', 'b', 'c')\n",
    "    \n",
    "    # select a door to place the car\n",
    "    door_car = random.choice(all_doors)  # door with car\n",
    "    \n",
    "    doors_goat = list(all_doors)\n",
    "    doors_goat.remove(door_car)                # doors with goats\n",
    "\n",
    "    # play the customer choice\n",
    "    door_initial = random.choice(all_doors)\n",
    "    \n",
    "    # if the customer selected a door with goat, remove it from goats\n",
    "    if door_initial in doors_goat:\n",
    "        doors_goat.remove(door_initial)\n",
    "    \n",
    "    # select a door with goat to open\n",
    "    door_open = random.choice(doors_goat)\n",
    "    \n",
    "    # let customer selected the other door\n",
    "    other_doors = list(all_doors)\n",
    "    other_doors.remove(door_open)  # remove the opened door\n",
    "    # customer choice from the two doors\n",
    "    assert(len(other_doors) == 2)\n",
    "    \n",
    "    # remove door_initial and select the other door\n",
    "    other_doors.remove(door_initial)\n",
    "    assert(len(other_doors) == 1)\n",
    "    other_door = other_doors[0]\n",
    "    \n",
    "    return other_door == door_car\n",
    "\n",
    "N = 1000\n",
    "\n",
    "nwin = 0\n",
    "for _ in range(N):\n",
    "    if dont_change_mind():\n",
    "        nwin += 1\n",
    "print('don\\'t change mind: out of {0} trials: nwin = {1}, prob = {2:0.2f}'.format(N, nwin, nwin/N))\n",
    "\n",
    "nwin = 0\n",
    "for _ in range(N):\n",
    "    if dont_change_mind_elaborated():\n",
    "        nwin += 1\n",
    "print('don\\'t change mind elaborated: out of {0} trials: nwin = {1}, prob = {2:0.2f}'.format(N, nwin, nwin/N))\n",
    "\n",
    "nwin = 0\n",
    "for _ in range(N):\n",
    "    if change_mind():\n",
    "        nwin += 1\n",
    "print('change mind: out of {0} trials: nwin = {1}, prob = {2:0.2f}'.format(N, nwin, nwin/N))\n",
    "\n",
    "nwin = 0\n",
    "for _ in range(N):\n",
    "    if change_mind_other_door():\n",
    "        nwin += 1\n",
    "print('change mind to select strictly other door: out of {0} trials: nwin = {1}, prob = {2:0.2f}'.format(N, nwin, nwin/N))"
   ]
  },
  {
   "cell_type": "code",
   "execution_count": 30,
   "metadata": {},
   "outputs": [
    {
     "name": "stdout",
     "output_type": "stream",
     "text": [
      "this is factorial_decor\n",
      "call factorial(4)\n",
      "   factorial(4)\n",
      "   factorial(3)\n",
      "   factorial(2)\n",
      "   factorial(1)\n",
      "wrapper: output for (1,) is 1\n",
      "wrapper: output for (2,) is 2\n",
      "wrapper: output for (3,) is 6\n",
      "wrapper: output for (4,) is 24\n"
     ]
    },
    {
     "data": {
      "text/plain": [
       "24"
      ]
     },
     "execution_count": 30,
     "metadata": {},
     "output_type": "execute_result"
    }
   ],
   "source": [
    "# Decorator to run recursive Fibonacci with cache -- is that possible?\n",
    "\n",
    "# def factorial_decor(factorial_function):\n",
    "#     fact = factorial_function(n)\n",
    "#     print(\"fact for {} is {}\".format(n, fact))\n",
    "#     return factorial_function\n",
    "\n",
    "def factorial_decor(func):\n",
    "    # some_function here is a global variable\n",
    "    print('this is factorial_decor')\n",
    "    def wrapper(*args, **kwargs):\n",
    "        result = func(*args, **kwargs)                  # call the function with the provided arguments\n",
    "        print(\"wrapper: output for {} is {}\".format(args, result))\n",
    "        return result\n",
    "    return wrapper\n",
    "\n",
    "@factorial_decor\n",
    "def factorial(n):\n",
    "    print('   factorial({})'.format(n))\n",
    "    if n <= 1:\n",
    "        return 1\n",
    "    return n * factorial(n - 1)\n",
    "\n",
    "print('call factorial(4)')\n",
    "factorial(4)\n",
    "\n",
    "# print('call: f = factorial_decor(factorial)')\n",
    "# f = factorial_decor(factorial)\n",
    "# print('call f(4)')\n",
    "# f(4)"
   ]
  },
  {
   "cell_type": "code",
   "execution_count": 55,
   "metadata": {},
   "outputs": [
    {
     "name": "stdout",
     "output_type": "stream",
     "text": [
      "CPU times: user 2.85 ms, sys: 0 ns, total: 2.85 ms\n",
      "Wall time: 2.86 ms\n"
     ]
    },
    {
     "data": {
      "text/plain": [
       "10946"
      ]
     },
     "execution_count": 55,
     "metadata": {},
     "output_type": "execute_result"
    },
    {
     "name": "stdout",
     "output_type": "stream",
     "text": [
      "1\n",
      "1\n",
      "2\n",
      "3\n",
      "5\n"
     ]
    }
   ],
   "source": [
    "def fibonacci_direct(n):\n",
    "    if n < 2:\n",
    "        return 1\n",
    "    return fibonacci_direct(n-1) + fibonacci_direct(n-2)\n",
    "\n",
    "\n",
    "%time fibonacci_direct(20)\n",
    "\n",
    "for i in range(5):\n",
    "    print(fibonacci_direct(i))"
   ]
  },
  {
   "cell_type": "code",
   "execution_count": 53,
   "metadata": {},
   "outputs": [
    {
     "name": "stdout",
     "output_type": "stream",
     "text": [
      "CPU times: user 20 µs, sys: 2 µs, total: 22 µs\n",
      "Wall time: 26.9 µs\n"
     ]
    },
    {
     "data": {
      "text/plain": [
       "10946"
      ]
     },
     "execution_count": 53,
     "metadata": {},
     "output_type": "execute_result"
    }
   ],
   "source": [
    "def fibonacci_cache(n):\n",
    "    cache = {0:1, 1:1}  # provides cache for fibonacci\n",
    "    def fibonacci(n):\n",
    "        if n < 2:\n",
    "            return 1\n",
    "        if not n in cache:\n",
    "            cache[n] = fibonacci(n-1) + fibonacci(n-2)\n",
    "        return cache[n]\n",
    "    return fibonacci(n)\n",
    "\n",
    "\n",
    "%time fibonacci_cache(20)"
   ]
  },
  {
   "cell_type": "code",
   "execution_count": 54,
   "metadata": {},
   "outputs": [
    {
     "name": "stdout",
     "output_type": "stream",
     "text": [
      "CPU times: user 19 µs, sys: 1e+03 ns, total: 20 µs\n",
      "Wall time: 24.1 µs\n"
     ]
    },
    {
     "data": {
      "text/plain": [
       "10946"
      ]
     },
     "execution_count": 54,
     "metadata": {},
     "output_type": "execute_result"
    }
   ],
   "source": [
    "# Uses functools.lru_cache for automatic keeping of recent results of fibonacci\n",
    "# https://stackoverflow.com/questions/43432956/how-a-decorator-works-when-the-argument-is-recursive-function\n",
    "\n",
    "from functools import lru_cache\n",
    "\n",
    "@lru_cache(None)\n",
    "def fibonacci(n):\n",
    "    if n < 2:\n",
    "        return 1\n",
    "    return fibonacci(n-1) + fibonacci(n-2)\n",
    "\n",
    "\n",
    "%time fibonacci(20)"
   ]
  },
  {
   "cell_type": "code",
   "execution_count": 15,
   "metadata": {},
   "outputs": [
    {
     "name": "stdout",
     "output_type": "stream",
     "text": [
      "(10, 20)\n",
      "{'x': 100, 'y': 200}\n"
     ]
    }
   ],
   "source": [
    "def fargs(*args, **kwargs):\n",
    "    print(args)\n",
    "    print(kwargs)\n",
    "\n",
    "fargs(10, 20, x=100, y=200)"
   ]
  },
  {
   "cell_type": "code",
   "execution_count": 21,
   "metadata": {},
   "outputs": [
    {
     "name": "stdout",
     "output_type": "stream",
     "text": [
      "direct call of f_args_kwargs(10, 20, x=100, y=200)\n",
      "10 20\n",
      "(10, 20)\n",
      "{'x': 100, 'y': 200}\n",
      "\n",
      "call call_f_args_kwargs(10, 20, x=100, y=200)\n",
      "--> call call_f_args_kwargs(*args, **kwargs)\n",
      "10 20\n",
      "(10, 20)\n",
      "{'x': 100, 'y': 200}\n"
     ]
    }
   ],
   "source": [
    "def f_args_kwargs(*args, **kwargs):\n",
    "    print(*args)       # prints a tuple: (10, 20)\n",
    "    print(args)        # prints content of the tuple: 10, 20\n",
    "    # print(**kwargs)  # TypeError: 'x' is an invalid keyword argument for this function\n",
    "    print(kwargs)      # prints dictionary: {'x': 100, 'y': 200}\n",
    "\n",
    "def call_f_args_kwargs(*args, **kwargs):\n",
    "    print('--> call call_f_args_kwargs(*args, **kwargs)')\n",
    "    f_args_kwargs(*args, **kwargs)\n",
    "\n",
    "print('direct call of f_args_kwargs(10, 20, x=100, y=200)')\n",
    "f_args_kwargs(10, 20, x=100, y=200)\n",
    "print()\n",
    "print('call call_f_args_kwargs(10, 20, x=100, y=200)')\n",
    "call_f_args_kwargs(10, 20, x=100, y=200)"
   ]
  },
  {
   "cell_type": "code",
   "execution_count": 15,
   "metadata": {},
   "outputs": [
    {
     "data": {
      "text/plain": [
       "{'a': 1, 'b': 3, 'c': 4}"
      ]
     },
     "execution_count": 15,
     "metadata": {},
     "output_type": "execute_result"
    },
    {
     "data": {
      "text/plain": [
       "{'b': 2, 'c': 4, 'a': 1}"
      ]
     },
     "execution_count": 15,
     "metadata": {},
     "output_type": "execute_result"
    }
   ],
   "source": [
    "d1 = {'a': 1, 'b': 2}\n",
    "d2 = {'b': 3, 'c': 4}\n",
    "d3 = {**d1, **d2}         # the field 'b' will be overwritten by d2\n",
    "d3\n",
    "d3 = {**d2, **d1}         # the field 'b' will be overwritten by d1\n",
    "d3"
   ]
  },
  {
   "cell_type": "code",
   "execution_count": 11,
   "metadata": {},
   "outputs": [
    {
     "data": {
      "text/plain": [
       "array([[[ 0,  1,  2,  3],\n",
       "        [ 4,  5,  6,  7],\n",
       "        [ 8,  9, 10, 11],\n",
       "        [12, 13, 14, 15]],\n",
       "\n",
       "       [[16, 17, 18, 19],\n",
       "        [20, 21, 22, 23],\n",
       "        [24, 25, 26, 27],\n",
       "        [28, 29, 30, 31]],\n",
       "\n",
       "       [[32, 33, 34, 35],\n",
       "        [36, 37, 38, 39],\n",
       "        [40, 41, 42, 43],\n",
       "        [44, 45, 46, 47]]])"
      ]
     },
     "execution_count": 11,
     "metadata": {},
     "output_type": "execute_result"
    },
    {
     "data": {
      "text/plain": [
       "array([[[ 0,  1],\n",
       "        [ 2,  3]],\n",
       "\n",
       "       [[ 4,  5],\n",
       "        [ 6,  7]],\n",
       "\n",
       "       [[ 8,  9],\n",
       "        [10, 11]]])"
      ]
     },
     "execution_count": 11,
     "metadata": {},
     "output_type": "execute_result"
    }
   ],
   "source": [
    "import numpy as np\n",
    "\n",
    "a = np.arange(48).reshape((3, 4, 4))\n",
    "a\n",
    "np.resize(a, (3, 2, 2))"
   ]
  },
  {
   "cell_type": "code",
   "execution_count": 23,
   "metadata": {},
   "outputs": [
    {
     "data": {
      "text/plain": [
       "array([[0, 1],\n",
       "       [2, 3],\n",
       "       [4, 5]])"
      ]
     },
     "execution_count": 23,
     "metadata": {},
     "output_type": "execute_result"
    },
    {
     "data": {
      "text/plain": [
       "array([[0, 1, 2, 3, 4, 5]])"
      ]
     },
     "execution_count": 23,
     "metadata": {},
     "output_type": "execute_result"
    },
    {
     "data": {
      "text/plain": [
       "array([[7, 8, 9]])"
      ]
     },
     "execution_count": 23,
     "metadata": {},
     "output_type": "execute_result"
    },
    {
     "data": {
      "text/plain": [
       "array([[0, 1, 2],\n",
       "       [3, 4, 5],\n",
       "       [7, 8, 9]])"
      ]
     },
     "execution_count": 23,
     "metadata": {},
     "output_type": "execute_result"
    }
   ],
   "source": [
    "np.arange(6).reshape(3, 2)\n",
    "a = np.arange(6).reshape(3, 2).reshape(1, -1)\n",
    "a\n",
    "b = np.arange(7, 10).reshape(1, -1)\n",
    "b\n",
    "c = np.append(a, b).reshape(3,-1)\n",
    "c"
   ]
  },
  {
   "cell_type": "code",
   "execution_count": 39,
   "metadata": {},
   "outputs": [
    {
     "data": {
      "text/plain": [
       "array([[1, 2, 3, 4],\n",
       "       [5, 6, 7, 8],\n",
       "       [0, 0, 0, 0]])"
      ]
     },
     "execution_count": 39,
     "metadata": {},
     "output_type": "execute_result"
    },
    {
     "data": {
      "text/plain": [
       "array([4, 8, 0])"
      ]
     },
     "execution_count": 39,
     "metadata": {},
     "output_type": "execute_result"
    },
    {
     "data": {
      "text/plain": [
       "array([[10],\n",
       "       [20],\n",
       "       [30]])"
      ]
     },
     "execution_count": 39,
     "metadata": {},
     "output_type": "execute_result"
    },
    {
     "data": {
      "text/plain": [
       "array([[ 1,  2,  3, 10],\n",
       "       [ 5,  6,  7, 20],\n",
       "       [ 0,  0,  0, 30]])"
      ]
     },
     "execution_count": 39,
     "metadata": {},
     "output_type": "execute_result"
    }
   ],
   "source": [
    "a = np.array([[1, 2, 3, 4], [5, 6, 7, 8], [0, 0, 0, 0]]).reshape(3, 4)\n",
    "a\n",
    "a[:, 3]\n",
    "v = np.array([10, 20, 30]).reshape(3, 1)\n",
    "v\n",
    "a[:, 3] = v.reshape(1, 3)\n",
    "a"
   ]
  },
  {
   "cell_type": "code",
   "execution_count": 43,
   "metadata": {},
   "outputs": [
    {
     "data": {
      "text/plain": [
       "array([[1, 2, 3, 4],\n",
       "       [5, 6, 7, 8],\n",
       "       [0, 0, 0, 0]])"
      ]
     },
     "execution_count": 43,
     "metadata": {},
     "output_type": "execute_result"
    },
    {
     "data": {
      "text/plain": [
       "array([4, 8, 0])"
      ]
     },
     "execution_count": 43,
     "metadata": {},
     "output_type": "execute_result"
    },
    {
     "data": {
      "text/plain": [
       "array([[10],\n",
       "       [20],\n",
       "       [30]])"
      ]
     },
     "execution_count": 43,
     "metadata": {},
     "output_type": "execute_result"
    },
    {
     "name": "stdout",
     "output_type": "stream",
     "text": [
      "*** NB: slice of column gives row-vector: a[:, 3].shape: (3,)\n"
     ]
    },
    {
     "data": {
      "text/plain": [
       "array([[ 1,  2,  3, 10],\n",
       "       [ 5,  6,  7, 20],\n",
       "       [ 0,  0,  0, 30]])"
      ]
     },
     "execution_count": 43,
     "metadata": {},
     "output_type": "execute_result"
    }
   ],
   "source": [
    "a = np.array([[1, 2, 3, 4], [5, 6, 7, 8], [0, 0, 0, 0]]).reshape(3, 4)\n",
    "a\n",
    "a[:, 3]\n",
    "v = np.array([10, 20, 30]).reshape(3, 1)\n",
    "v\n",
    "print('*** NB: slice of column gives row-vector: a[:, 3].shape:', a[:, 3].shape)\n",
    "\n",
    "# a[:, 3] = v.reshape(1, 3)            # the same as copyto\n",
    "np.copyto(a[:, 3], v.reshape(1, 3))    # the same as a[:, 3] = v.reshape(1, 3)\n",
    "a"
   ]
  },
  {
   "cell_type": "code",
   "execution_count": 44,
   "metadata": {},
   "outputs": [
    {
     "name": "stdout",
     "output_type": "stream",
     "text": [
      "4.58 ms ± 107 µs per loop (mean ± std. dev. of 7 runs, 100 loops each)\n"
     ]
    }
   ],
   "source": [
    "%%timeit\n",
    "list_a = []\n",
    "for _ in range(10000):\n",
    "    list_a.append([1, 2, 3])\n",
    "list_a = np.asarray(list_a)"
   ]
  },
  {
   "cell_type": "code",
   "execution_count": 57,
   "metadata": {},
   "outputs": [
    {
     "name": "stdout",
     "output_type": "stream",
     "text": [
      "106 ms ± 437 µs per loop (mean ± std. dev. of 7 runs, 10 loops each)\n"
     ]
    }
   ],
   "source": [
    "%%timeit\n",
    "arr_a = np.empty((3,), dtype=int)\n",
    "# print(arr_a.shape)\n",
    "# print(np.array([1, 2, 3]).shape)\n",
    "\n",
    "for _ in range(10000):\n",
    "    arr_a = np.append(arr_a, np.array([1, 2, 3]), axis=0)"
   ]
  },
  {
   "cell_type": "code",
   "execution_count": 59,
   "metadata": {},
   "outputs": [
    {
     "name": "stdout",
     "output_type": "stream",
     "text": [
      "A.shape: (6,) a.shape: (3,)\n"
     ]
    },
    {
     "data": {
      "text/plain": [
       "array([0, 0, 0, 1, 2, 3])"
      ]
     },
     "execution_count": 59,
     "metadata": {},
     "output_type": "execute_result"
    }
   ],
   "source": [
    "A = np.array([0, 0, 0, 0, 0, 0])\n",
    "a = np.array([1, 2, 3])\n",
    "print('A.shape:', A.shape, 'a.shape:', a.shape)\n",
    "A[3:] = a\n",
    "A"
   ]
  },
  {
   "cell_type": "code",
   "execution_count": 73,
   "metadata": {},
   "outputs": [
    {
     "name": "stdout",
     "output_type": "stream",
     "text": [
      "A.shape: (9,) a.shape: (3,)\n"
     ]
    },
    {
     "data": {
      "text/plain": [
       "array([ 1,  2,  3, 10, 20, 30,  0,  0,  0])"
      ]
     },
     "execution_count": 73,
     "metadata": {},
     "output_type": "execute_result"
    }
   ],
   "source": [
    "A = np.array([0, 0, 0, 0, 0, 0, 0, 0, 0]).reshape(-1,)\n",
    "a = np.array([1, 2, 3]).reshape(-1,)\n",
    "print('A.shape:', A.shape, 'a.shape:', a.shape)\n",
    "A[0:3] = a\n",
    "a *= 10\n",
    "A[3: 3+a.shape[0]] = a  # <--------- you have to specify both limits to avoid broadcating\n",
    "A"
   ]
  },
  {
   "cell_type": "code",
   "execution_count": 71,
   "metadata": {},
   "outputs": [
    {
     "name": "stdout",
     "output_type": "stream",
     "text": [
      "pic7x7.shape: (12,) pic7x7: [0 0 0 0 0 0 0 0 0 0 0 0]\n",
      "pic.shape: (4,) pic: [0 1 2 3]\n",
      "pic.shape: (4,) pic: [3 4 5 6]\n",
      "pic.shape: (4,) pic: [6 7 8 9]\n"
     ]
    },
    {
     "data": {
      "text/plain": [
       "array([0, 1, 2, 3, 3, 4, 5, 6, 6, 7, 8, 9], dtype=uint8)"
      ]
     },
     "execution_count": 71,
     "metadata": {},
     "output_type": "execute_result"
    }
   ],
   "source": [
    "N = 3\n",
    "# pic7x7 = np.empty((2*2 * N), dtype=np.uint8).reshape((-1,))\n",
    "pic7x7 = np.zeros((2*2 * N), dtype=np.uint8).reshape((-1,))     # zeroed to better see\n",
    "print('pic7x7.shape:', pic7x7.shape, 'pic7x7:', pic7x7)\n",
    "for i in range(N):\n",
    "    pic = np.array([n for n in range(i*N, i*N+4)]).reshape((-1,))\n",
    "    print('pic.shape:', pic.shape, 'pic:', pic)\n",
    "    pic7x7[i*2*2: i*2*2+pic.shape[0]] = pic\n",
    "\n",
    "pic7x7"
   ]
  },
  {
   "cell_type": "code",
   "execution_count": 83,
   "metadata": {},
   "outputs": [
    {
     "data": {
      "text/plain": [
       "array([[ 1,  2,  3,  4],\n",
       "       [ 5,  6,  7,  8],\n",
       "       [ 9, 10, 11, 12],\n",
       "       [13, 14, 15, 16]], dtype=uint8)"
      ]
     },
     "execution_count": 83,
     "metadata": {},
     "output_type": "execute_result"
    },
    {
     "data": {
      "text/plain": [
       "array([[ 3,  5],\n",
       "       [11, 13]], dtype=uint8)"
      ]
     },
     "execution_count": 83,
     "metadata": {},
     "output_type": "execute_result"
    },
    {
     "data": {
      "text/plain": [
       "array([[  3.5,   5.5],\n",
       "       [ 11.5,  13.5]])"
      ]
     },
     "execution_count": 83,
     "metadata": {},
     "output_type": "execute_result"
    }
   ],
   "source": [
    "from skimage import transform\n",
    "# NB: import skimage does not work because transform is a submodule\n",
    "# read about that in https://stackoverflow.com/questions/32876962/python-module-import-why-are-components-only-available-when-explicitly-importe\n",
    "\n",
    "pic4x4 = np.array([\n",
    "    [ 1,  2,  3,  4],\n",
    "    [ 5,  6,  7,  8],\n",
    "    [ 9, 10, 11, 12],\n",
    "    [13, 14, 15, 16]], dtype=np.uint8)\n",
    "pic4x4\n",
    "\n",
    "pic2x2 = transform.resize(pic4x4, (2,2), mode='constant') * 255\n",
    "pic2x2.astype(np.uint8).reshape((2,2))\n",
    "pic2x2"
   ]
  },
  {
   "cell_type": "code",
   "execution_count": 90,
   "metadata": {},
   "outputs": [
    {
     "data": {
      "text/plain": [
       "array([[11, 12, 13],\n",
       "       [21, 22, 23]], dtype=uint8)"
      ]
     },
     "execution_count": 90,
     "metadata": {},
     "output_type": "execute_result"
    },
    {
     "name": "stdout",
     "output_type": "stream",
     "text": [
      " 11  12  13\r\n",
      " 21  22  23\r\n"
     ]
    }
   ],
   "source": [
    "fname = 'a.txt'\n",
    "a = np.array([[11, 12, 13], [21, 22, 23]])\n",
    "np.savetxt(fname, a, '%3d')\n",
    "\n",
    "b = np.loadtxt(fname, np.uint8)\n",
    "b\n",
    "!cat 'a.txt'"
   ]
  },
  {
   "cell_type": "code",
   "execution_count": 92,
   "metadata": {},
   "outputs": [
    {
     "name": "stdout",
     "output_type": "stream",
     "text": [
      "open existing file a.npy\n"
     ]
    },
    {
     "data": {
      "text/plain": [
       "array([[11, 12, 13],\n",
       "       [21, 22, 23]])"
      ]
     },
     "execution_count": 92,
     "metadata": {},
     "output_type": "execute_result"
    }
   ],
   "source": [
    "import os\n",
    "\n",
    "fname = 'a.npy'\n",
    "a = np.array([[11, 12, 13], [21, 22, 23]])\n",
    "np.save(fname, a)\n",
    "\n",
    "b = None\n",
    "if os.path.isfile(fname):\n",
    "    print('open existing file', fname)\n",
    "    b = np.load(fname)\n",
    "else:\n",
    "    print('Could not find file', fname)\n",
    "b"
   ]
  },
  {
   "cell_type": "code",
   "execution_count": 93,
   "metadata": {},
   "outputs": [
    {
     "data": {
      "text/plain": [
       "[10, 20, 30]"
      ]
     },
     "execution_count": 93,
     "metadata": {},
     "output_type": "execute_result"
    }
   ],
   "source": [
    "class DataStore:\n",
    "    def __init__(self):\n",
    "        self.x = [10, 20, 30]\n",
    "\n",
    "dataStore = DataStore()\n",
    "x = dataStore.x\n",
    "x"
   ]
  },
  {
   "cell_type": "code",
   "execution_count": 95,
   "metadata": {},
   "outputs": [
    {
     "data": {
      "text/plain": [
       "40"
      ]
     },
     "execution_count": 95,
     "metadata": {},
     "output_type": "execute_result"
    },
    {
     "data": {
      "text/plain": [
       "2"
      ]
     },
     "execution_count": 95,
     "metadata": {},
     "output_type": "execute_result"
    }
   ],
   "source": [
    "a = np.array([20, 10, 40, 30])\n",
    "amax = np.max(a)\n",
    "amax\n",
    "imax = np.argmax(a)\n",
    "imax"
   ]
  },
  {
   "cell_type": "code",
   "execution_count": 108,
   "metadata": {},
   "outputs": [
    {
     "data": {
      "text/plain": [
       "array([ True,  True,  True,  True,  True,  True,  True,  True, False,  True], dtype=bool)"
      ]
     },
     "execution_count": 108,
     "metadata": {},
     "output_type": "execute_result"
    },
    {
     "data": {
      "text/plain": [
       "array([7, 2, 1, 0, 4, 1, 4, 9, 5, 9])"
      ]
     },
     "execution_count": 108,
     "metadata": {},
     "output_type": "execute_result"
    },
    {
     "data": {
      "text/plain": [
       "array([7, 2, 1, 0, 4, 1, 4, 9, 1, 9])"
      ]
     },
     "execution_count": 108,
     "metadata": {},
     "output_type": "execute_result"
    },
    {
     "data": {
      "text/plain": [
       "(array([0, 1, 2, 3, 4, 5, 6, 7, 9]),)"
      ]
     },
     "execution_count": 108,
     "metadata": {},
     "output_type": "execute_result"
    },
    {
     "name": "stdout",
     "output_type": "stream",
     "text": [
      "<class 'tuple'>\n"
     ]
    },
    {
     "data": {
      "text/plain": [
       "9"
      ]
     },
     "execution_count": 108,
     "metadata": {},
     "output_type": "execute_result"
    }
   ],
   "source": [
    "a = np.array([7, 2, 1, 0, 4, 1, 4, 9, 5, 9])\n",
    "b = np.array([7, 2, 1, 0, 4, 1, 4, 9, 1, 9])\n",
    "a == b\n",
    "correct = np.nonzero(a == b)\n",
    "a\n",
    "b\n",
    "correct\n",
    "print(type(correct))\n",
    "len(correct[0])"
   ]
  },
  {
   "cell_type": "code",
   "execution_count": 112,
   "metadata": {},
   "outputs": [
    {
     "data": {
      "text/plain": [
       "9427"
      ]
     },
     "execution_count": 112,
     "metadata": {},
     "output_type": "execute_result"
    },
    {
     "data": {
      "text/plain": [
       "9799"
      ]
     },
     "execution_count": 112,
     "metadata": {},
     "output_type": "execute_result"
    },
    {
     "data": {
      "text/plain": [
       "372"
      ]
     },
     "execution_count": 112,
     "metadata": {},
     "output_type": "execute_result"
    }
   ],
   "source": [
    "7557 + 1447 + 423\n",
    "7557 + 1447 + 795\n",
    "795 - 423"
   ]
  },
  {
   "cell_type": "code",
   "execution_count": 11,
   "metadata": {},
   "outputs": [
    {
     "name": "stdout",
     "output_type": "stream",
     "text": [
      "[2]\n"
     ]
    },
    {
     "data": {
      "text/plain": [
       "4"
      ]
     },
     "execution_count": 11,
     "metadata": {},
     "output_type": "execute_result"
    },
    {
     "name": "stdout",
     "output_type": "stream",
     "text": [
      "[2]\n"
     ]
    }
   ],
   "source": [
    "a1 = [10, 20, 30, 40, 50]\n",
    "a2 = [10, 20, 300, 40]\n",
    "\n",
    "# diff = [i for i in range(len(a1)) if a1[i] != a2[i]]  # works but problem for len(a1) > len(a2)\n",
    "\n",
    "length = min(len(a1), len(a2))\n",
    "diff = [i for i in range(length) if a1[i] != a2[i]]\n",
    "print(diff)\n",
    "\n",
    "len(list(zip(a1, a2)))  # use zip to get min(len(a1), len(a2)). Overcomplecated.\n",
    "\n",
    "diff = [i for i in range(len(list(zip(a1, a2)))) if a1[i] != a2[i]]\n",
    "print(diff)"
   ]
  },
  {
   "cell_type": "code",
   "execution_count": 2,
   "metadata": {},
   "outputs": [
    {
     "name": "stdout",
     "output_type": "stream",
     "text": [
      "[10, 20, 30, 40]\n",
      "['a', 'b', 'c', 'd']\n"
     ]
    }
   ],
   "source": [
    "dct = {'a': 10, 'b': 20, 'c': 30, 'd': 40}\n",
    "lst_num = [v for k, v in dct.items()]\n",
    "print(lst_num)\n",
    "lst_letter = [k for k, v in dct.items()]\n",
    "print(lst_letter)"
   ]
  },
  {
   "cell_type": "code",
   "execution_count": null,
   "metadata": {},
   "outputs": [],
   "source": [
    "def mismatch(pattern, k, d=1):\n",
    "    '''pattern is a string with the correct pattern\n",
    "    '''\n",
    "    pattern_correct = 'ACGT'\n",
    "    bases = ['A', 'C', 'G', 'T']\n",
    "    # combinations = [pattern_correct]  # list of all combinations with d mismatch\n",
    "    combinations = set()\n",
    "    combinations.add(pattern)\n",
    "\n",
    "    for pos in range(k):\n",
    "        # make one mismatch\n",
    "        s = pattern\n",
    "        s_out = ''\n",
    "        for base in bases:\n",
    "            s_out = s.replace()"
   ]
  },
  {
   "cell_type": "code",
   "execution_count": 16,
   "metadata": {},
   "outputs": [
    {
     "data": {
      "text/plain": [
       "array([ True,  True,  True, False], dtype=bool)"
      ]
     },
     "execution_count": 16,
     "metadata": {},
     "output_type": "execute_result"
    },
    {
     "data": {
      "text/plain": [
       "3"
      ]
     },
     "execution_count": 16,
     "metadata": {},
     "output_type": "execute_result"
    },
    {
     "data": {
      "text/plain": [
       "3"
      ]
     },
     "execution_count": 16,
     "metadata": {},
     "output_type": "execute_result"
    }
   ],
   "source": [
    "import numpy as np\n",
    "\n",
    "def n_mismatch(text, pattern):\n",
    "    \"\"\"Find the number of mismatched between text and pattern.\n",
    "    Use len(pattern) of the text\n",
    "    \"\"\"\n",
    "    pass\n",
    "    \n",
    "    \n",
    "text =   'ACGGTAAGGAAGTATTTACGT'\n",
    "pattern = 'ACGT'\n",
    "\n",
    "# a = np.array(['a', 'b', 'c'])\n",
    "# b = np.array(['a', 'b', 'd'])\n",
    "# a == b\n",
    "\n",
    "pattern_arr = np.array(list(pattern))\n",
    "text_arr = np.array(list(text[:4]))\n",
    "text_arr == pattern_arr\n",
    "np.sum(text_arr == pattern_arr)\n",
    "\n",
    "# in one line\n",
    "i = 0\n",
    "np.sum(np.array(list(text[i:i+4])) == np.array(list(pattern)))"
   ]
  },
  {
   "cell_type": "code",
   "execution_count": 77,
   "metadata": {},
   "outputs": [
    {
     "data": {
      "text/plain": [
       "array([[  1.,  20.],\n",
       "       [  3.,  40.],\n",
       "       [  5.,  60.]])"
      ]
     },
     "execution_count": 77,
     "metadata": {},
     "output_type": "execute_result"
    },
    {
     "data": {
      "text/plain": [
       "numpy.float64"
      ]
     },
     "execution_count": 77,
     "metadata": {},
     "output_type": "execute_result"
    },
    {
     "data": {
      "text/plain": [
       "array([[ 0.26666484, -0.87305395,  0.40824829],\n",
       "       [ 0.53437327, -0.21858302, -0.81649658],\n",
       "       [ 0.80208171,  0.43588791,  0.40824829]])"
      ]
     },
     "execution_count": 77,
     "metadata": {},
     "output_type": "execute_result"
    },
    {
     "name": "stdout",
     "output_type": "stream",
     "text": [
      "[ 75.06379992   0.65264208]\n"
     ]
    },
    {
     "data": {
      "text/plain": [
       "array([[ 0.07833594,  0.99692702],\n",
       "       [ 0.99692702, -0.07833594]])"
      ]
     },
     "execution_count": 77,
     "metadata": {},
     "output_type": "execute_result"
    },
    {
     "name": "stdout",
     "output_type": "stream",
     "text": [
      "reconstruct the original matrix\n",
      "should be: (3x3) * (3x2) * (2x2)\n",
      "to make [3x2] matrix with diagonal equal s create zero matrix and populate it with diag(s)\n",
      "multiply now\n"
     ]
    },
    {
     "data": {
      "text/plain": [
       "array([[  1.,  20.],\n",
       "       [  3.,  40.],\n",
       "       [  5.,  60.]])"
      ]
     },
     "execution_count": 77,
     "metadata": {},
     "output_type": "execute_result"
    },
    {
     "name": "stdout",
     "output_type": "stream",
     "text": [
      "<class 'numpy.float64'>\n"
     ]
    }
   ],
   "source": [
    "# Singular Value Decomposition\n",
    "\n",
    "import numpy as np\n",
    "from scipy import linalg\n",
    "\n",
    "A = np.array([[1, 20],\n",
    "    [3, 40],\n",
    "    [5, 60]], dtype=np.float)\n",
    "A\n",
    "type(A[0,0])\n",
    "\n",
    "U, s, VT = linalg.svd(A)\n",
    "U\n",
    "print(s)  # use print statement, to avoid error message for s.resize(3*3)\n",
    "VT\n",
    "\n",
    "print('reconstruct the original matrix')\n",
    "print('should be: (3x3) * (3x2) * (2x2)')\n",
    "\n",
    "print('to make [3x2] matrix with diagonal equal s create zero matrix and populate it with diag(s)')\n",
    "S = np.zeros((A.shape[0], A.shape[1]))\n",
    "S[:A.shape[1], :A.shape[1]] = np.diag(s)\n",
    "\n",
    "print('multiply now')\n",
    "AA = np.dot(U, np.dot(S, VT))\n",
    "AA\n",
    "print(type(A[0,0]))"
   ]
  },
  {
   "cell_type": "code",
   "execution_count": 39,
   "metadata": {},
   "outputs": [
    {
     "data": {
      "text/plain": [
       "'Probability of dice'"
      ]
     },
     "execution_count": 39,
     "metadata": {},
     "output_type": "execute_result"
    },
    {
     "name": "stdout",
     "output_type": "stream",
     "text": [
      "prob = 167190 / 1000000 = 0.16719\n",
      "expected 0.16666666666666666\n"
     ]
    }
   ],
   "source": [
    "\"\"\"Probability of dice\"\"\"\n",
    "\n",
    "import random\n",
    "\n",
    "random.seed(1)\n",
    "\n",
    "nthrows = 1000000  # how many times to throw the dice\n",
    "success_number = 6  # the dice we consider as a success\n",
    "n_success = 0  # the number of successes\n",
    "\n",
    "for _ in range(nthrows):\n",
    "    curr = random.randrange(1, 7)\n",
    "    if curr == success_number:\n",
    "        n_success += 1\n",
    "\n",
    "# calculate our probability\n",
    "prob = n_success / nthrows\n",
    "\n",
    "print('prob =', n_success, '/', nthrows, '=', prob)\n",
    "print('expected', 1/6)"
   ]
  },
  {
   "cell_type": "code",
   "execution_count": 60,
   "metadata": {},
   "outputs": [
    {
     "name": "stdout",
     "output_type": "stream",
     "text": [
      "CAGATTTTCATATTATGCAGAAAATCTACTT\n"
     ]
    }
   ],
   "source": [
    "import random\n",
    "\n",
    "random.seed(1)\n",
    "\n",
    "DNA = \"\"\n",
    "n_bases = 1000\n",
    "for _ in range(n_bases):\n",
    "    curr_base = random.choice(['A', 'C', 'G', 'T'])\n",
    "    DNA = DNA + curr_base\n",
    "\n",
    "print(DNA[:31])"
   ]
  },
  {
   "cell_type": "code",
   "execution_count": 17,
   "metadata": {},
   "outputs": [
    {
     "name": "stdout",
     "output_type": "stream",
     "text": [
      "x1mean, x2mean: 0.314629307783 0.419932186279 x1mean*x2mean = 0.132122973085\n",
      "sum_prod / N**2 = 0.132122973085\n"
     ]
    }
   ],
   "source": [
    "import numpy as np\n",
    "\n",
    "N = 10\n",
    "np.random.seed(1)\n",
    "x1 = np.random.random(N)\n",
    "x2 = np.random.random(N)\n",
    "# x2 = 2 * x1\n",
    "\n",
    "x1mean = np.mean(x1)\n",
    "x2mean = np.mean(x2)\n",
    "print('x1mean, x2mean:', x1mean, x2mean, 'x1mean*x2mean =', x1mean*x2mean)\n",
    "\n",
    "# sum(x1*x2) / N  # this is not what I want\n",
    "\n",
    "sum_prod = 0\n",
    "for i in range(N):\n",
    "    for j in range(0, N):\n",
    "        sum_prod += x1[i] * x2[j]\n",
    "\n",
    "print('sum_prod / N**2 =', sum_prod / N**2)"
   ]
  },
  {
   "cell_type": "code",
   "execution_count": 21,
   "metadata": {},
   "outputs": [
    {
     "name": "stdout",
     "output_type": "stream",
     "text": [
      "[-1, 1, 1, 1, 10, 50]\n"
     ]
    },
    {
     "data": {
      "text/plain": [
       "1"
      ]
     },
     "execution_count": 21,
     "metadata": {},
     "output_type": "execute_result"
    }
   ],
   "source": [
    "def solution(A):\n",
    "    n = len(A)\n",
    "    L = [-1] + A\n",
    "    print(L)\n",
    "    count = 0\n",
    "    pos = (n + 1) // 2\n",
    "    candidate = L[pos]\n",
    "    for i in range(1, n + 1):\n",
    "        if (L[i] == candidate):\n",
    "            count = count + 1\n",
    "\n",
    "    # if (count > pos):\n",
    "    if (2*count > n):\n",
    "        return candidate\n",
    "    return -1\n",
    "\n",
    "A = [1, 1, 1, 1, 50]  # processed fine\n",
    "A = [1, 1, 1, 10, 50]  # problem\n",
    "solution(A)"
   ]
  },
  {
   "cell_type": "code",
   "execution_count": 26,
   "metadata": {},
   "outputs": [
    {
     "data": {
      "text/plain": [
       "'A'"
      ]
     },
     "execution_count": 26,
     "metadata": {},
     "output_type": "execute_result"
    },
    {
     "data": {
      "text/plain": [
       "False"
      ]
     },
     "execution_count": 26,
     "metadata": {},
     "output_type": "execute_result"
    },
    {
     "data": {
      "text/plain": [
       "True"
      ]
     },
     "execution_count": 26,
     "metadata": {},
     "output_type": "execute_result"
    }
   ],
   "source": [
    "a = np.array(['a', 'B', 'c'])\n",
    "a[0].upper()\n",
    "a[0].isupper()\n",
    "\n",
    "a[1].isupper()"
   ]
  },
  {
   "cell_type": "code",
   "execution_count": 27,
   "metadata": {},
   "outputs": [
    {
     "data": {
      "text/plain": [
       "[4, 3, 2, 1]"
      ]
     },
     "execution_count": 27,
     "metadata": {},
     "output_type": "execute_result"
    }
   ],
   "source": [
    "# https://codility.com/media/train/0-Arrays.pdf\n",
    "\n",
    "def reverse(A):\n",
    "    N = len(A)\n",
    "    for i in range(N // 2):\n",
    "        k = N - i - 1\n",
    "        A[i], A[k] = A[k], A[i]  # NB: swap without tmp value!\n",
    "    return A\n",
    "\n",
    "A = [1, 2, 3, 4]\n",
    "reverse(A)"
   ]
  },
  {
   "cell_type": "code",
   "execution_count": 3,
   "metadata": {},
   "outputs": [
    {
     "name": "stdout",
     "output_type": "stream",
     "text": [
      "3999380 / 10000000 = 0.399938\n",
      "6000047 / 10000000 = 0.6000047\n"
     ]
    }
   ],
   "source": [
    "import random\n",
    "\n",
    "random.seed(1)\n",
    "\n",
    "N = 1000000\n",
    "n_gt = 0\n",
    "n_ge = 0\n",
    "for _ in range(N):\n",
    "    r1 = random.choice(range(5))\n",
    "    r2 = random.choice(range(5))\n",
    "    if r1 > r2:\n",
    "        n_gt += 1\n",
    "    if r1 >= r2:\n",
    "        n_ge += 1\n",
    "\n",
    "print(n_gt, '/', N, '=', n_gt/N)\n",
    "print(n_ge, '/', N, '=', n_ge/N)\n",
    "\n",
    "# 3999380 / 10000000 = 0.399938\n",
    "# 6000047 / 10000000 = 0.6000047"
   ]
  },
  {
   "cell_type": "code",
   "execution_count": 4,
   "metadata": {},
   "outputs": [
    {
     "name": "stdout",
     "output_type": "stream",
     "text": [
      "6\n",
      "3\n",
      "[2, 2, 4, 3, 0, 3, 6, 1, 3, 4, 5, 4, 1, 2, 4, 1, 1, 3, 5, 5]\n"
     ]
    },
    {
     "data": {
      "text/plain": [
       "(array([ 142551.,  143285.,  142583.,  142473.,  142952.,  143131.,  143025.]),\n",
       " array([0, 1, 2, 3, 4, 5, 6, 7]),\n",
       " <a list of 7 Patch objects>)"
      ]
     },
     "execution_count": 4,
     "metadata": {},
     "output_type": "execute_result"
    },
    {
     "data": {
      "image/png": "[encoded data removed]",
      "text/plain": [
       "<Figure size 432x288 with 1 Axes>"
      ]
     },
     "metadata": {
      "image/png": {
       "height": 250,
       "width": 396
      }
     },
     "output_type": "display_data"
    }
   ],
   "source": [
    "import random\n",
    "import matplotlib.pyplot as plt\n",
    "%matplotlib inline\n",
    "\n",
    "def dice(n_use, n_emu):\n",
    "    \"\"\"Parameters:\n",
    "    n_use: the number of sides of our dice\n",
    "    n_emu: the of sides for dice to emulate\n",
    "    \"\"\"\n",
    "    numbers = [random.choice(range(n_use)) for _ in range(n_emu)]\n",
    "\n",
    "    val_max = max(numbers)\n",
    "    pos = [i for i, val in enumerate(numbers) if val == val_max]\n",
    "    \n",
    "    if len(pos) == 1:\n",
    "        return pos[0]\n",
    "    else:\n",
    "        return pos[dice(n_use, len(pos))]  # recursive solution\n",
    "\n",
    "random.seed(1)\n",
    "\n",
    "# n_use = 5\n",
    "n_use = 2        # NB: 2\n",
    "n_emu = 7\n",
    "\n",
    "print(dice(n_use, n_emu))\n",
    "print(dice(n_use, n_emu))\n",
    "\n",
    "N = 1000000\n",
    "# numbers = [n for n = dice(n_use, n_emu)]\n",
    "numbers = []\n",
    "for _ in range(N):\n",
    "    numbers.append(dice(n_use, n_emu))\n",
    "\n",
    "print(numbers[:20])\n",
    "\n",
    "plt.hist(numbers, range(n_emu+1))"
   ]
  },
  {
   "cell_type": "code",
   "execution_count": 19,
   "metadata": {},
   "outputs": [
    {
     "name": "stdout",
     "output_type": "stream",
     "text": [
      "4\n",
      "6\n",
      "[2, 3, 5, 6, 3, 4, 6, 2, 3, 3, 0, 3, 4, 2, 2, 3, 2, 2, 2, 0]\n"
     ]
    },
    {
     "data": {
      "text/plain": [
       "(array([ 143109.,  142540.,  143192.,  142998.,  141944.,  143639.,  142578.]),\n",
       " array([0, 1, 2, 3, 4, 5, 6, 7]),\n",
       " <a list of 7 Patch objects>)"
      ]
     },
     "execution_count": 19,
     "metadata": {},
     "output_type": "execute_result"
    },
    {
     "data": {
      "image/png": "[encoded data removed]",
      "text/plain": [
       "<Figure size 432x288 with 1 Axes>"
      ]
     },
     "metadata": {
      "image/png": {
       "height": 250,
       "width": 396
      }
     },
     "output_type": "display_data"
    }
   ],
   "source": [
    "import random\n",
    "from collections import Counter\n",
    "import matplotlib.pyplot as plt\n",
    "%matplotlib inline\n",
    "\n",
    "def dice(n_use, n_emu):\n",
    "    \"\"\"Parameters:\n",
    "    n_use: the number of sides of our dice\n",
    "    n_emu: the of sides for dice to emulate\n",
    "    \"\"\"\n",
    "    numbers = [random.choice(range(n_use)) for _ in range(n_emu)]\n",
    "    \n",
    "    # find the number that appeared the smallest number of times\n",
    "    count_dict = Counter(numbers)\n",
    "    \n",
    "    val_min = min(count_dict)\n",
    "    count = count_dict[val_min]\n",
    "    \n",
    "    if count == 1:\n",
    "        return numbers.index(val_min)\n",
    "    elif count < n_use:\n",
    "        # throw the dice. If the number is less than len(pos), return pos[number]\n",
    "        pos = [i for i, val in enumerate(numbers) if val == val_min]\n",
    "        ind = count + 1\n",
    "        while ind >= count:\n",
    "            ind = random.choice(range(n_use))\n",
    "        return pos[ind]\n",
    "    else:\n",
    "        # recursive solution\n",
    "        pos = [i for i, val in enumerate(numbers) if val == val_min]\n",
    "        return pos[dice(n_use, count)]\n",
    "\n",
    "random.seed(1)\n",
    "\n",
    "n_use = 5\n",
    "# n_use = 2        # NB: 2\n",
    "n_emu = 7\n",
    "\n",
    "print(dice(n_use, n_emu))\n",
    "print(dice(n_use, n_emu))\n",
    "\n",
    "N = 1000000\n",
    "# numbers = [n for n = dice(n_use, n_emu)]\n",
    "numbers = []\n",
    "for _ in range(N):\n",
    "    numbers.append(dice(n_use, n_emu))\n",
    "\n",
    "print(numbers[:20])\n",
    "\n",
    "plt.hist(numbers, range(n_emu+1))"
   ]
  },
  {
   "cell_type": "code",
   "execution_count": 21,
   "metadata": {},
   "outputs": [
    {
     "name": "stdout",
     "output_type": "stream",
     "text": [
      "4\n",
      "6\n",
      "the dice was thrown 8250986 times for N = 1000000\n",
      "[2, 3, 5, 6, 3, 4, 6, 2, 3, 3, 0, 3, 4, 2, 2, 3, 2, 2, 2, 0]\n"
     ]
    },
    {
     "data": {
      "text/plain": [
       "(array([ 143109.,  142540.,  143192.,  142998.,  141944.,  143639.,  142578.]),\n",
       " array([0, 1, 2, 3, 4, 5, 6, 7]),\n",
       " <a list of 7 Patch objects>)"
      ]
     },
     "execution_count": 21,
     "metadata": {},
     "output_type": "execute_result"
    },
    {
     "data": {
      "image/png": "[encoded data removed]",
      "text/plain": [
       "<Figure size 432x288 with 1 Axes>"
      ]
     },
     "metadata": {
      "image/png": {
       "height": 250,
       "width": 396
      }
     },
     "output_type": "display_data"
    }
   ],
   "source": [
    "import random\n",
    "from collections import Counter\n",
    "import matplotlib.pyplot as plt\n",
    "%matplotlib inline\n",
    "\n",
    "N_THROWN = 0\n",
    "\n",
    "def throw_dice(n_sides):\n",
    "    global N_THROWN\n",
    "    N_THROWN += 1\n",
    "    return random.choice(range(n_sides))\n",
    "\n",
    "def dice(n_use, n_emu):\n",
    "    \"\"\"Parameters:\n",
    "    n_use: the number of sides of our dice\n",
    "    n_emu: the of sides for dice to emulate\n",
    "    \"\"\"\n",
    "    # numbers = [random.choice(range(n_use)) for _ in range(n_emu)]\n",
    "    numbers = [throw_dice(n_use) for _ in range(n_emu)]\n",
    "    \n",
    "    # find the number that appeared the smallest number of times\n",
    "    count_dict = Counter(numbers)\n",
    "    \n",
    "    val_min = min(count_dict)\n",
    "    count = count_dict[val_min]\n",
    "    \n",
    "    if count == 1:\n",
    "        return numbers.index(val_min)\n",
    "    elif count < n_use:\n",
    "        # throw the dice. If the number is less than len(pos), return pos[number]\n",
    "        pos = [i for i, val in enumerate(numbers) if val == val_min]\n",
    "        ind = count + 1\n",
    "        while ind >= count:\n",
    "            # ind = random.choice(range(n_use))\n",
    "            ind = throw_dice(n_use)\n",
    "        return pos[ind]\n",
    "    else:\n",
    "        # recursive solution\n",
    "        pos = [i for i, val in enumerate(numbers) if val == val_min]\n",
    "        return pos[dice(n_use, count)]\n",
    "\n",
    "random.seed(1)\n",
    "\n",
    "n_use = 5\n",
    "# n_use = 2        # NB: 2\n",
    "n_emu = 7\n",
    "\n",
    "print(dice(n_use, n_emu))\n",
    "print(dice(n_use, n_emu))\n",
    "\n",
    "N = 1000000\n",
    "N_THROWN = 0\n",
    "# numbers = [n for n = dice(n_use, n_emu)]\n",
    "numbers = []\n",
    "for _ in range(N):\n",
    "    numbers.append(dice(n_use, n_emu))\n",
    "\n",
    "print('the dice was thrown', N_THROWN, 'times for N =', N)\n",
    "\n",
    "print(numbers[:20])\n",
    "\n",
    "plt.hist(numbers, range(n_emu+1))"
   ]
  },
  {
   "cell_type": "code",
   "execution_count": 24,
   "metadata": {},
   "outputs": [
    {
     "name": "stdout",
     "output_type": "stream",
     "text": [
      "3\n",
      "6\n",
      "the dice was thrown 13998205 times for N = 1000000 ratio = 13.998205\n",
      "[2, 1, 2, 3, 0, 1, 4, 1, 1, 3, 6, 6, 3, 0, 6, 0, 5, 2, 5, 0]\n"
     ]
    },
    {
     "data": {
      "text/plain": [
       "(array([ 143122.,  142455.,  142419.,  142961.,  142689.,  143219.,  143135.]),\n",
       " array([0, 1, 2, 3, 4, 5, 6, 7]),\n",
       " <a list of 7 Patch objects>)"
      ]
     },
     "execution_count": 24,
     "metadata": {},
     "output_type": "execute_result"
    },
    {
     "data": {
      "image/png": "[encoded data removed]",
      "text/plain": [
       "<Figure size 432x288 with 1 Axes>"
      ]
     },
     "metadata": {
      "image/png": {
       "height": 250,
       "width": 396
      }
     },
     "output_type": "display_data"
    }
   ],
   "source": [
    "# Correct solution, can be improved a bit\n",
    "\n",
    "import random\n",
    "from collections import Counter\n",
    "import matplotlib.pyplot as plt\n",
    "%matplotlib inline\n",
    "\n",
    "N_THROWN = 0  # global variable to be used by throw_dice\n",
    "\n",
    "def throw_dice(n_sides):\n",
    "    global N_THROWN\n",
    "    N_THROWN += 1\n",
    "    return random.choice(range(n_sides))\n",
    "\n",
    "def dice(n_use, n_emu):\n",
    "    \"\"\"Parameters:\n",
    "    n_use: the number of sides of our dice\n",
    "    n_emu: the of sides for dice to emulate\n",
    "    \"\"\"\n",
    "    numbers = [throw_dice(n_use) for _ in range(n_emu)]\n",
    "    \n",
    "    # find the number that appeared the smallest number of times\n",
    "    count_dict = Counter(numbers)\n",
    "    \n",
    "    val_min = min(count_dict)\n",
    "    count = count_dict[val_min]\n",
    "    \n",
    "    if count == 1:\n",
    "        return numbers.index(val_min)\n",
    "    \n",
    "    # positions of this element\n",
    "    pos = [i for i, val in enumerate(numbers) if val == val_min]\n",
    "    \n",
    "    if count < n_use:\n",
    "        # throw the dice. If the number is less than len(pos), return pos[number]\n",
    "        ind = count  # condition to enter the while loop\n",
    "        while ind >= count:\n",
    "            ind = throw_dice(n_use)\n",
    "        return pos[ind]\n",
    "    else:\n",
    "        # recursive solution\n",
    "        return pos[dice(n_use, count)]\n",
    "\n",
    "random.seed(1)\n",
    "\n",
    "# n_use = 5\n",
    "n_use = 2        # NB: 2\n",
    "n_emu = 7\n",
    "\n",
    "print(dice(n_use, n_emu))\n",
    "print(dice(n_use, n_emu))\n",
    "\n",
    "N = 1000000\n",
    "N_THROWN = 0\n",
    "# numbers = [n for n = dice(n_use, n_emu)]\n",
    "numbers = []\n",
    "for _ in range(N):\n",
    "    numbers.append(dice(n_use, n_emu))\n",
    "\n",
    "print('the dice was thrown', N_THROWN, 'times for N =', N, 'ratio =', N_THROWN / N)\n",
    "\n",
    "print(numbers[:20])\n",
    "\n",
    "plt.hist(numbers, range(n_emu+1))"
   ]
  },
  {
   "cell_type": "code",
   "execution_count": 26,
   "metadata": {},
   "outputs": [
    {
     "name": "stdout",
     "output_type": "stream",
     "text": [
      "4\n",
      "2\n",
      "the dice was thrown 7603091 times for N = 1000000 ratio = 7.603091\n",
      "[0, 0, 5, 6, 1, 0, 1, 0, 1, 5, 2, 5, 6, 4, 4, 5, 4, 2, 2, 0]\n"
     ]
    },
    {
     "data": {
      "text/plain": [
       "(array([ 161385.,  155249.,  149639.,  143967.,  137270.,  130169.,  122321.]),\n",
       " array([0, 1, 2, 3, 4, 5, 6, 7]),\n",
       " <a list of 7 Patch objects>)"
      ]
     },
     "execution_count": 26,
     "metadata": {},
     "output_type": "execute_result"
    },
    {
     "data": {
      "image/png": "[encoded data removed]",
      "text/plain": [
       "<Figure size 432x288 with 1 Axes>"
      ]
     },
     "metadata": {
      "image/png": {
       "height": 250,
       "width": 396
      }
     },
     "output_type": "display_data"
    }
   ],
   "source": [
    "# This is a wrong solution ##########################\n",
    "\n",
    "import random\n",
    "from collections import Counter\n",
    "import matplotlib.pyplot as plt\n",
    "%matplotlib inline\n",
    "\n",
    "N_THROWN = 0  # global variable to be used by throw_dice\n",
    "\n",
    "def throw_dice(n_sides):\n",
    "    global N_THROWN\n",
    "    N_THROWN += 1\n",
    "    return random.choice(range(n_sides))\n",
    "\n",
    "def dice(n_use, n_emu):\n",
    "    \"\"\"Parameters:\n",
    "    n_use: the number of sides of our dice\n",
    "    n_emu: the of sides for dice to emulate\n",
    "    \"\"\"\n",
    "    numbers = [throw_dice(n_use) for _ in range(n_emu)]\n",
    "    \n",
    "    # find the number that appeared the smallest number of times\n",
    "    count_dict = Counter(numbers)\n",
    "    \n",
    "    val_min = min(count_dict)\n",
    "    count = count_dict[val_min]\n",
    "    \n",
    "    if count == 1:\n",
    "        return numbers.index(val_min)\n",
    "    \n",
    "    # positions of this element\n",
    "    pos = [i for i, val in enumerate(numbers) if val == val_min]\n",
    "    \n",
    "    if count < n_use:\n",
    "        # # throw the dice. If the number is less than len(pos), return pos[number]\n",
    "        # ind = count  # condition to enter the while loop\n",
    "        # while ind >= count:\n",
    "        #     ind = throw_dice(n_use)\n",
    "        # return pos[ind]\n",
    "        return pos[throw_dice(n_use) % count]  # This is wrong!!!!!!!!!!!!!!!!!!!!!!!!!!!!!!!!!!!!!!!!!!!!!!\n",
    "    else:\n",
    "        # recursive solution\n",
    "        return pos[dice(n_use, count)]\n",
    "\n",
    "random.seed(1)\n",
    "\n",
    "n_use = 5\n",
    "# n_use = 2        # NB: 2\n",
    "n_emu = 7\n",
    "\n",
    "print(dice(n_use, n_emu))\n",
    "print(dice(n_use, n_emu))\n",
    "\n",
    "N = 1000000\n",
    "N_THROWN = 0\n",
    "# numbers = [n for n = dice(n_use, n_emu)]\n",
    "numbers = []\n",
    "for _ in range(N):\n",
    "    numbers.append(dice(n_use, n_emu))\n",
    "\n",
    "print('the dice was thrown', N_THROWN, 'times for N =', N, 'ratio =', N_THROWN / N)\n",
    "\n",
    "print(numbers[:20])\n",
    "\n",
    "plt.hist(numbers, range(n_emu+1))"
   ]
  },
  {
   "cell_type": "code",
   "execution_count": 28,
   "metadata": {},
   "outputs": [
    {
     "name": "stdout",
     "output_type": "stream",
     "text": [
      "4\n",
      "2\n",
      "the dice was thrown 7806799 times for N = 1000000 ratio = 7.806799\n",
      "[4, 2, 6, 6, 3, 4, 6, 2, 3, 4, 1, 4, 5, 3, 3, 4, 3, 0, 4, 2]\n"
     ]
    },
    {
     "data": {
      "text/plain": [
       "(array([ 142709.,  143144.,  142935.,  143187.,  142441.,  143208.,  142376.]),\n",
       " array([0, 1, 2, 3, 4, 5, 6, 7]),\n",
       " <a list of 7 Patch objects>)"
      ]
     },
     "execution_count": 28,
     "metadata": {},
     "output_type": "execute_result"
    },
    {
     "data": {
      "image/png": "[encoded data removed]",
      "text/plain": [
       "<Figure size 432x288 with 1 Axes>"
      ]
     },
     "metadata": {
      "image/png": {
       "height": 250,
       "width": 396
      }
     },
     "output_type": "display_data"
    }
   ],
   "source": [
    "# This is a wrong solution ##########################\n",
    "\n",
    "import random\n",
    "from collections import Counter\n",
    "import matplotlib.pyplot as plt\n",
    "%matplotlib inline\n",
    "\n",
    "N_THROWN = 0  # global variable to be used by throw_dice\n",
    "\n",
    "def throw_dice(n_sides):\n",
    "    global N_THROWN\n",
    "    N_THROWN += 1\n",
    "    return random.choice(range(n_sides))\n",
    "\n",
    "def dice(n_use, n_emu):\n",
    "    \"\"\"Parameters:\n",
    "    n_use: the number of sides of our dice\n",
    "    n_emu: the of sides for dice to emulate\n",
    "    \"\"\"\n",
    "    numbers = [throw_dice(n_use) for _ in range(n_emu)]\n",
    "    \n",
    "    # find the number that appeared the smallest number of times\n",
    "    count_dict = Counter(numbers)\n",
    "    \n",
    "    val_min = min(count_dict)\n",
    "    count = count_dict[val_min]\n",
    "    \n",
    "    if count == 1:\n",
    "        return numbers.index(val_min)\n",
    "    \n",
    "    # positions of this element\n",
    "    pos = [i for i, val in enumerate(numbers) if val == val_min]\n",
    "    \n",
    "    if count < n_use:\n",
    "        # throw the dice. If the number is less than len(pos), return pos[number]\n",
    "        quot = (n_use // count) * count\n",
    "        ind = count  # condition to enter the while loop\n",
    "        while ind >= count:\n",
    "            ind = throw_dice(n_use)\n",
    "            if ind < quot:\n",
    "                # return pos[ind % count]\n",
    "                ind = ind % count\n",
    "        return pos[ind]\n",
    "        \n",
    "        # return pos[throw_dice(n_use) % count]  # This is wrong!!!!!!!!!!!!!!!!!!!!!!!!!!!!!!!!!!!!!!!!!!!!!!\n",
    "    else:\n",
    "        # recursive solution\n",
    "        return pos[dice(n_use, count)]\n",
    "\n",
    "random.seed(1)\n",
    "\n",
    "n_use = 5\n",
    "# n_use = 2        # NB: 2\n",
    "n_emu = 7\n",
    "\n",
    "print(dice(n_use, n_emu))\n",
    "print(dice(n_use, n_emu))\n",
    "\n",
    "N = 1000000\n",
    "N_THROWN = 0\n",
    "# numbers = [n for n = dice(n_use, n_emu)]\n",
    "numbers = []\n",
    "for _ in range(N):\n",
    "    numbers.append(dice(n_use, n_emu))\n",
    "\n",
    "print('the dice was thrown', N_THROWN, 'times for N =', N, 'ratio =', N_THROWN / N)\n",
    "\n",
    "print(numbers[:20])\n",
    "\n",
    "plt.hist(numbers, range(n_emu+1))"
   ]
  },
  {
   "cell_type": "code",
   "execution_count": 14,
   "metadata": {},
   "outputs": [
    {
     "name": "stdout",
     "output_type": "stream",
     "text": [
      "10 : 1\n"
     ]
    }
   ],
   "source": [
    "from collections import Counter\n",
    "\n",
    "count_dict = Counter([20, 20, 100, 40, 40, 40, 10, 30, 30, 30])\n",
    "val_min = min(count_dict)\n",
    "count = count_dict[val_min]\n",
    "print(val_min, ':', count)"
   ]
  },
  {
   "cell_type": "code",
   "execution_count": 34,
   "metadata": {},
   "outputs": [
    {
     "name": "stdout",
     "output_type": "stream",
     "text": [
      "        5\n",
      "\n",
      "1234567890\n",
      "/Users/zatserkl/learn/python\r\n"
     ]
    },
    {
     "data": {
      "text/plain": [
       "10"
      ]
     },
     "execution_count": 34,
     "metadata": {},
     "output_type": "execute_result"
    },
    {
     "data": {
      "text/plain": [
       "10"
      ]
     },
     "execution_count": 34,
     "metadata": {},
     "output_type": "execute_result"
    },
    {
     "data": {
      "text/plain": [
       "10"
      ]
     },
     "execution_count": 34,
     "metadata": {},
     "output_type": "execute_result"
    },
    {
     "data": {
      "text/plain": [
       "10"
      ]
     },
     "execution_count": 34,
     "metadata": {},
     "output_type": "execute_result"
    },
    {
     "data": {
      "text/plain": [
       "10"
      ]
     },
     "execution_count": 34,
     "metadata": {},
     "output_type": "execute_result"
    },
    {
     "data": {
      "text/plain": [
       "10"
      ]
     },
     "execution_count": 34,
     "metadata": {},
     "output_type": "execute_result"
    },
    {
     "data": {
      "text/plain": [
       "10"
      ]
     },
     "execution_count": 34,
     "metadata": {},
     "output_type": "execute_result"
    },
    {
     "data": {
      "text/plain": [
       "10"
      ]
     },
     "execution_count": 34,
     "metadata": {},
     "output_type": "execute_result"
    },
    {
     "data": {
      "text/plain": [
       "10"
      ]
     },
     "execution_count": 34,
     "metadata": {},
     "output_type": "execute_result"
    },
    {
     "data": {
      "text/plain": [
       "10"
      ]
     },
     "execution_count": 34,
     "metadata": {},
     "output_type": "execute_result"
    },
    {
     "data": {
      "text/plain": [
       "10"
      ]
     },
     "execution_count": 34,
     "metadata": {},
     "output_type": "execute_result"
    },
    {
     "data": {
      "text/plain": [
       "10"
      ]
     },
     "execution_count": 34,
     "metadata": {},
     "output_type": "execute_result"
    },
    {
     "data": {
      "text/plain": [
       "10"
      ]
     },
     "execution_count": 34,
     "metadata": {},
     "output_type": "execute_result"
    },
    {
     "data": {
      "text/plain": [
       "10"
      ]
     },
     "execution_count": 34,
     "metadata": {},
     "output_type": "execute_result"
    },
    {
     "data": {
      "text/plain": [
       "10"
      ]
     },
     "execution_count": 34,
     "metadata": {},
     "output_type": "execute_result"
    },
    {
     "data": {
      "text/plain": [
       "10"
      ]
     },
     "execution_count": 34,
     "metadata": {},
     "output_type": "execute_result"
    },
    {
     "data": {
      "text/plain": [
       "10"
      ]
     },
     "execution_count": 34,
     "metadata": {},
     "output_type": "execute_result"
    },
    {
     "data": {
      "text/plain": [
       "10"
      ]
     },
     "execution_count": 34,
     "metadata": {},
     "output_type": "execute_result"
    },
    {
     "data": {
      "text/plain": [
       "10"
      ]
     },
     "execution_count": 34,
     "metadata": {},
     "output_type": "execute_result"
    },
    {
     "data": {
      "text/plain": [
       "10"
      ]
     },
     "execution_count": 34,
     "metadata": {},
     "output_type": "execute_result"
    },
    {
     "data": {
      "text/plain": [
       "10"
      ]
     },
     "execution_count": 34,
     "metadata": {},
     "output_type": "execute_result"
    },
    {
     "data": {
      "text/plain": [
       "10"
      ]
     },
     "execution_count": 34,
     "metadata": {},
     "output_type": "execute_result"
    },
    {
     "data": {
      "text/plain": [
       "10"
      ]
     },
     "execution_count": 34,
     "metadata": {},
     "output_type": "execute_result"
    },
    {
     "data": {
      "text/plain": [
       "10"
      ]
     },
     "execution_count": 34,
     "metadata": {},
     "output_type": "execute_result"
    },
    {
     "data": {
      "text/plain": [
       "10"
      ]
     },
     "execution_count": 34,
     "metadata": {},
     "output_type": "execute_result"
    },
    {
     "data": {
      "text/plain": [
       "10"
      ]
     },
     "execution_count": 34,
     "metadata": {},
     "output_type": "execute_result"
    },
    {
     "data": {
      "text/plain": [
       "10"
      ]
     },
     "execution_count": 34,
     "metadata": {},
     "output_type": "execute_result"
    },
    {
     "data": {
      "text/plain": [
       "10"
      ]
     },
     "execution_count": 34,
     "metadata": {},
     "output_type": "execute_result"
    },
    {
     "data": {
      "text/plain": [
       "10"
      ]
     },
     "execution_count": 34,
     "metadata": {},
     "output_type": "execute_result"
    },
    {
     "data": {
      "text/plain": [
       "10"
      ]
     },
     "execution_count": 34,
     "metadata": {},
     "output_type": "execute_result"
    },
    {
     "data": {
      "text/plain": [
       "10"
      ]
     },
     "execution_count": 34,
     "metadata": {},
     "output_type": "execute_result"
    },
    {
     "data": {
      "text/plain": [
       "10"
      ]
     },
     "execution_count": 34,
     "metadata": {},
     "output_type": "execute_result"
    },
    {
     "data": {
      "text/plain": [
       "10"
      ]
     },
     "execution_count": 34,
     "metadata": {},
     "output_type": "execute_result"
    },
    {
     "data": {
      "text/plain": [
       "10"
      ]
     },
     "execution_count": 34,
     "metadata": {},
     "output_type": "execute_result"
    },
    {
     "data": {
      "text/plain": [
       "10"
      ]
     },
     "execution_count": 34,
     "metadata": {},
     "output_type": "execute_result"
    },
    {
     "data": {
      "text/plain": [
       "10"
      ]
     },
     "execution_count": 34,
     "metadata": {},
     "output_type": "execute_result"
    },
    {
     "data": {
      "text/plain": [
       "10"
      ]
     },
     "execution_count": 34,
     "metadata": {},
     "output_type": "execute_result"
    },
    {
     "data": {
      "text/plain": [
       "10"
      ]
     },
     "execution_count": 34,
     "metadata": {},
     "output_type": "execute_result"
    },
    {
     "data": {
      "text/plain": [
       "10"
      ]
     },
     "execution_count": 34,
     "metadata": {},
     "output_type": "execute_result"
    },
    {
     "data": {
      "text/plain": [
       "10"
      ]
     },
     "execution_count": 34,
     "metadata": {},
     "output_type": "execute_result"
    },
    {
     "data": {
      "text/plain": [
       "10"
      ]
     },
     "execution_count": 34,
     "metadata": {},
     "output_type": "execute_result"
    },
    {
     "data": {
      "text/plain": [
       "10"
      ]
     },
     "execution_count": 34,
     "metadata": {},
     "output_type": "execute_result"
    },
    {
     "data": {
      "text/plain": [
       "10"
      ]
     },
     "execution_count": 34,
     "metadata": {},
     "output_type": "execute_result"
    },
    {
     "data": {
      "text/plain": [
       "10"
      ]
     },
     "execution_count": 34,
     "metadata": {},
     "output_type": "execute_result"
    },
    {
     "data": {
      "text/plain": [
       "10"
      ]
     },
     "execution_count": 34,
     "metadata": {},
     "output_type": "execute_result"
    },
    {
     "data": {
      "text/plain": [
       "10"
      ]
     },
     "execution_count": 34,
     "metadata": {},
     "output_type": "execute_result"
    },
    {
     "data": {
      "text/plain": [
       "10"
      ]
     },
     "execution_count": 34,
     "metadata": {},
     "output_type": "execute_result"
    },
    {
     "data": {
      "text/plain": [
       "10"
      ]
     },
     "execution_count": 34,
     "metadata": {},
     "output_type": "execute_result"
    },
    {
     "data": {
      "text/plain": [
       "10"
      ]
     },
     "execution_count": 34,
     "metadata": {},
     "output_type": "execute_result"
    },
    {
     "data": {
      "text/plain": [
       "10"
      ]
     },
     "execution_count": 34,
     "metadata": {},
     "output_type": "execute_result"
    },
    {
     "data": {
      "text/plain": [
       "10"
      ]
     },
     "execution_count": 34,
     "metadata": {},
     "output_type": "execute_result"
    },
    {
     "data": {
      "text/plain": [
       "10"
      ]
     },
     "execution_count": 34,
     "metadata": {},
     "output_type": "execute_result"
    },
    {
     "data": {
      "text/plain": [
       "10"
      ]
     },
     "execution_count": 34,
     "metadata": {},
     "output_type": "execute_result"
    },
    {
     "data": {
      "text/plain": [
       "10"
      ]
     },
     "execution_count": 34,
     "metadata": {},
     "output_type": "execute_result"
    },
    {
     "data": {
      "text/plain": [
       "10"
      ]
     },
     "execution_count": 34,
     "metadata": {},
     "output_type": "execute_result"
    },
    {
     "data": {
      "text/plain": [
       "10"
      ]
     },
     "execution_count": 34,
     "metadata": {},
     "output_type": "execute_result"
    },
    {
     "data": {
      "text/plain": [
       "10"
      ]
     },
     "execution_count": 34,
     "metadata": {},
     "output_type": "execute_result"
    },
    {
     "data": {
      "text/plain": [
       "10"
      ]
     },
     "execution_count": 34,
     "metadata": {},
     "output_type": "execute_result"
    },
    {
     "data": {
      "text/plain": [
       "10"
      ]
     },
     "execution_count": 34,
     "metadata": {},
     "output_type": "execute_result"
    },
    {
     "data": {
      "text/plain": [
       "10"
      ]
     },
     "execution_count": 34,
     "metadata": {},
     "output_type": "execute_result"
    },
    {
     "data": {
      "text/plain": [
       "10"
      ]
     },
     "execution_count": 34,
     "metadata": {},
     "output_type": "execute_result"
    },
    {
     "data": {
      "text/plain": [
       "10"
      ]
     },
     "execution_count": 34,
     "metadata": {},
     "output_type": "execute_result"
    },
    {
     "data": {
      "text/plain": [
       "10"
      ]
     },
     "execution_count": 34,
     "metadata": {},
     "output_type": "execute_result"
    },
    {
     "data": {
      "text/plain": [
       "10"
      ]
     },
     "execution_count": 34,
     "metadata": {},
     "output_type": "execute_result"
    },
    {
     "data": {
      "text/plain": [
       "10"
      ]
     },
     "execution_count": 34,
     "metadata": {},
     "output_type": "execute_result"
    },
    {
     "data": {
      "text/plain": [
       "10"
      ]
     },
     "execution_count": 34,
     "metadata": {},
     "output_type": "execute_result"
    },
    {
     "data": {
      "text/plain": [
       "10"
      ]
     },
     "execution_count": 34,
     "metadata": {},
     "output_type": "execute_result"
    },
    {
     "data": {
      "text/plain": [
       "10"
      ]
     },
     "execution_count": 34,
     "metadata": {},
     "output_type": "execute_result"
    },
    {
     "data": {
      "text/plain": [
       "10"
      ]
     },
     "execution_count": 34,
     "metadata": {},
     "output_type": "execute_result"
    },
    {
     "data": {
      "text/plain": [
       "10"
      ]
     },
     "execution_count": 34,
     "metadata": {},
     "output_type": "execute_result"
    },
    {
     "data": {
      "text/plain": [
       "10"
      ]
     },
     "execution_count": 34,
     "metadata": {},
     "output_type": "execute_result"
    },
    {
     "data": {
      "text/plain": [
       "10"
      ]
     },
     "execution_count": 34,
     "metadata": {},
     "output_type": "execute_result"
    },
    {
     "data": {
      "text/plain": [
       "10"
      ]
     },
     "execution_count": 34,
     "metadata": {},
     "output_type": "execute_result"
    },
    {
     "data": {
      "text/plain": [
       "10"
      ]
     },
     "execution_count": 34,
     "metadata": {},
     "output_type": "execute_result"
    },
    {
     "data": {
      "text/plain": [
       "10"
      ]
     },
     "execution_count": 34,
     "metadata": {},
     "output_type": "execute_result"
    },
    {
     "data": {
      "text/plain": [
       "10"
      ]
     },
     "execution_count": 34,
     "metadata": {},
     "output_type": "execute_result"
    },
    {
     "data": {
      "text/plain": [
       "10"
      ]
     },
     "execution_count": 34,
     "metadata": {},
     "output_type": "execute_result"
    },
    {
     "data": {
      "text/plain": [
       "10"
      ]
     },
     "execution_count": 34,
     "metadata": {},
     "output_type": "execute_result"
    },
    {
     "data": {
      "text/plain": [
       "10"
      ]
     },
     "execution_count": 34,
     "metadata": {},
     "output_type": "execute_result"
    },
    {
     "data": {
      "text/plain": [
       "10"
      ]
     },
     "execution_count": 34,
     "metadata": {},
     "output_type": "execute_result"
    },
    {
     "data": {
      "text/plain": [
       "10"
      ]
     },
     "execution_count": 34,
     "metadata": {},
     "output_type": "execute_result"
    },
    {
     "data": {
      "text/plain": [
       "10"
      ]
     },
     "execution_count": 34,
     "metadata": {},
     "output_type": "execute_result"
    },
    {
     "data": {
      "text/plain": [
       "10"
      ]
     },
     "execution_count": 34,
     "metadata": {},
     "output_type": "execute_result"
    },
    {
     "data": {
      "text/plain": [
       "10"
      ]
     },
     "execution_count": 34,
     "metadata": {},
     "output_type": "execute_result"
    },
    {
     "data": {
      "text/plain": [
       "10"
      ]
     },
     "execution_count": 34,
     "metadata": {},
     "output_type": "execute_result"
    },
    {
     "data": {
      "text/plain": [
       "10"
      ]
     },
     "execution_count": 34,
     "metadata": {},
     "output_type": "execute_result"
    },
    {
     "data": {
      "text/plain": [
       "10"
      ]
     },
     "execution_count": 34,
     "metadata": {},
     "output_type": "execute_result"
    },
    {
     "data": {
      "text/plain": [
       "10"
      ]
     },
     "execution_count": 34,
     "metadata": {},
     "output_type": "execute_result"
    },
    {
     "data": {
      "text/plain": [
       "10"
      ]
     },
     "execution_count": 34,
     "metadata": {},
     "output_type": "execute_result"
    },
    {
     "data": {
      "text/plain": [
       "10"
      ]
     },
     "execution_count": 34,
     "metadata": {},
     "output_type": "execute_result"
    },
    {
     "data": {
      "text/plain": [
       "10"
      ]
     },
     "execution_count": 34,
     "metadata": {},
     "output_type": "execute_result"
    },
    {
     "data": {
      "text/plain": [
       "10"
      ]
     },
     "execution_count": 34,
     "metadata": {},
     "output_type": "execute_result"
    },
    {
     "data": {
      "text/plain": [
       "10"
      ]
     },
     "execution_count": 34,
     "metadata": {},
     "output_type": "execute_result"
    },
    {
     "data": {
      "text/plain": [
       "10"
      ]
     },
     "execution_count": 34,
     "metadata": {},
     "output_type": "execute_result"
    },
    {
     "data": {
      "text/plain": [
       "10"
      ]
     },
     "execution_count": 34,
     "metadata": {},
     "output_type": "execute_result"
    },
    {
     "data": {
      "text/plain": [
       "10"
      ]
     },
     "execution_count": 34,
     "metadata": {},
     "output_type": "execute_result"
    },
    {
     "data": {
      "text/plain": [
       "10"
      ]
     },
     "execution_count": 34,
     "metadata": {},
     "output_type": "execute_result"
    },
    {
     "data": {
      "text/plain": [
       "10"
      ]
     },
     "execution_count": 34,
     "metadata": {},
     "output_type": "execute_result"
    },
    {
     "data": {
      "text/plain": [
       "10"
      ]
     },
     "execution_count": 34,
     "metadata": {},
     "output_type": "execute_result"
    },
    {
     "data": {
      "text/plain": [
       "10"
      ]
     },
     "execution_count": 34,
     "metadata": {},
     "output_type": "execute_result"
    },
    {
     "name": "stdout",
     "output_type": "stream",
     "text": [
      "Wrote file large_file.txt\n"
     ]
    }
   ],
   "source": [
    "print('{0:9d}\\n'.format(5))\n",
    "print('1234567890')\n",
    "\n",
    "!pwd\n",
    "ofname = 'large_file.txt'\n",
    "with open(ofname, 'w') as file:\n",
    "    for i in range(100):\n",
    "        file.write('{0:9d}\\n'.format(i))\n",
    "print('Wrote file', ofname)"
   ]
  },
  {
   "cell_type": "code",
   "execution_count": 39,
   "metadata": {},
   "outputs": [
    {
     "data": {
      "text/plain": [
       "[<matplotlib.lines.Line2D at 0x1160e14e0>]"
      ]
     },
     "execution_count": 39,
     "metadata": {},
     "output_type": "execute_result"
    },
    {
     "data": {
      "text/plain": [
       "[<matplotlib.lines.Line2D at 0x10ebacb70>]"
      ]
     },
     "execution_count": 39,
     "metadata": {},
     "output_type": "execute_result"
    },
    {
     "data": {
      "image/png": "[encoded data removed]",
      "text/plain": [
       "<Figure size 432x288 with 1 Axes>"
      ]
     },
     "metadata": {
      "image/png": {
       "height": 250,
       "width": 388
      }
     },
     "output_type": "display_data"
    }
   ],
   "source": [
    "import numpy as np\n",
    "import matplotlib.pyplot as plt\n",
    "%matplotlib inline\n",
    "\n",
    "x = np.arange(-5, 5, 0.1)\n",
    "plt.plot(x, np.tanh(x))\n",
    "plt.plot(x, 1 - np.tanh(x)**2)\n",
    "plt.grid()"
   ]
  }
 ],
 "metadata": {
  "kernelspec": {
   "display_name": "Python 3",
   "language": "python",
   "name": "python3"
  },
  "language_info": {
   "codemirror_mode": {
    "name": "ipython",
    "version": 3
   },
   "file_extension": ".py",
   "mimetype": "text/x-python",
   "name": "python",
   "nbconvert_exporter": "python",
   "pygments_lexer": "ipython3",
   "version": "3.6.5"
  }
 },
 "nbformat": 4,
 "nbformat_minor": 2
}
