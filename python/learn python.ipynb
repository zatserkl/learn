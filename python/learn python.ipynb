{
 "cells": [
  {
   "cell_type": "code",
   "execution_count": 27,
   "metadata": {},
   "outputs": [
    {
     "name": "stdout",
     "output_type": "stream",
     "text": [
      "def yield_line(file):\n",
      "    with open(fname) as file:\n",
      "        line = file.readline()\n",
      "        while line:\n",
      "            yield line\n",
      "            line = file.readline()\n",
      "\n",
      "\n",
      "fname = __file__\n",
      "print(\"\\ncontent of\", __file__, \"\\n\")\n",
      "for line in yield_line(fname):\n",
      "    print(line.strip('\\n'))\n",
      "\n",
      "# you may also get a list from the yield:\n",
      "# yield_list = list(yield_line(fname))\n",
      "# print(yield_list)\n",
      "['def yield_line(file):\\n', '    with open(fname) as file:\\n', '        line = file.readline()\\n', '        while line:\\n', '            yield line\\n', '            line = file.readline()\\n', '\\n', '\\n', 'fname = __file__\\n', 'print(\"\\\\ncontent of\", __file__, \"\\\\n\")\\n', 'for line in yield_line(fname):\\n', \"    print(line.strip('\\\\n'))\\n\", '\\n', '# you may also get a list from the yield:\\n', '# yield_list = list(yield_line(fname))\\n', '# print(yield_list)\\n']\n",
      "\n",
      "print yield_list one more time: should be empty list\n",
      "\n",
      "[]\n"
     ]
    }
   ],
   "source": [
    "def yield_line(file):\n",
    "    with open(fname) as file:\n",
    "        line = file.readline()\n",
    "        while line:\n",
    "            yield line\n",
    "            line = file.readline()\n",
    "\n",
    "\n",
    "# fname = __file__\n",
    "fname = \"read_file_yield.py\"\n",
    "\n",
    "for line in yield_line(fname):\n",
    "    print(line.strip('\\n'))\n",
    "\n",
    "yield_obj = yield_line(fname)\n",
    "\n",
    "print(list(yield_obj))\n",
    "\n",
    "print(\"\\nprint yield_list one more time: should be empty list\\n\")\n",
    "print(list(yield_obj))"
   ]
  },
  {
   "cell_type": "code",
   "execution_count": 35,
   "metadata": {},
   "outputs": [
    {
     "name": "stdout",
     "output_type": "stream",
     "text": [
      "0\n",
      "2\n",
      "4\n",
      "6\n",
      "8\n",
      "caught StopIteration\n"
     ]
    }
   ],
   "source": [
    "nmax = 5\n",
    "doubles = (2*n for n in range(nmax))\n",
    "doubles\n",
    "while True:\n",
    "    try:\n",
    "        number = next(doubles)\n",
    "    except StopIteration:\n",
    "        print(\"caught StopIteration\") # StopIteration e returns empty string\n",
    "        break\n",
    "    print(number)"
   ]
  },
  {
   "cell_type": "code",
   "execution_count": 37,
   "metadata": {},
   "outputs": [
    {
     "name": "stdout",
     "output_type": "stream",
     "text": [
      "'x'\n"
     ]
    }
   ],
   "source": [
    "d = {'a': 10, 'b': 20, 'c': 30}\n",
    "try:\n",
    "    d['x']\n",
    "except KeyError as e:\n",
    "    print(e)"
   ]
  },
  {
   "cell_type": "code",
   "execution_count": 56,
   "metadata": {},
   "outputs": [
    {
     "name": "stdout",
     "output_type": "stream",
     "text": [
      "\n",
      "To convert srt --> datetime: strptime NB: method name starts from 'strp'\n",
      "To convert datetime --> str: strftime NB: method name starts from 'strf'\n",
      "\n",
      "time1_str:                     2017-06-13 11:33:01\n",
      "convert datetime1 back to str: 2017-06-13 11:33:01\n",
      "deltat as a timedelta object: 0:00:02\n",
      "deltat_seconds = 2\n"
     ]
    }
   ],
   "source": [
    "import datetime\n",
    "import math\n",
    "\n",
    "doc = \"\"\"\n",
    "To convert srt --> datetime: strptime NB: method name starts from 'strp'\n",
    "To convert datetime --> str: strftime NB: method name starts from 'strf'\n",
    "\"\"\"\n",
    "print(doc)\n",
    "\n",
    "time1_str = \"2017-06-13 11:33:01\"\n",
    "time2_str = \"2017-06-13 11:33:03\"\n",
    "\n",
    "datetime1 = datetime.datetime.strptime(time1_str, '%Y-%m-%d %H:%M:%S')\n",
    "datetime2 = datetime.datetime.strptime(time2_str, '%Y-%m-%d %H:%M:%S')\n",
    "\n",
    "# convert back to check\n",
    "print(\"time1_str:                    \", time1_str)\n",
    "print(\"convert datetime1 back to str:\", datetime.datetime.strftime(datetime1, \"%Y-%m-%d %H:%M:%S\"))\n",
    "\n",
    "deltat = datetime2 - datetime1\n",
    "print(\"deltat as a timedelta object:\", deltat)\n",
    "\n",
    "deltat_seconds = math.ceil(deltat.total_seconds()) # timedelta.total_seconds() returns float\n",
    "print(\"deltat_seconds =\", deltat_seconds)"
   ]
  },
  {
   "cell_type": "code",
   "execution_count": 41,
   "metadata": {},
   "outputs": [
    {
     "name": "stdout",
     "output_type": "stream",
     "text": [
      "len(buf) = 2\n",
      "[0, 1, 2, 3, 4, 5, 6, 7, 8, 9]\n",
      "45\n",
      "[10, 11, 12, 13, 14, 15, 16, 17, 18, 19]\n"
     ]
    }
   ],
   "source": [
    "from collections import deque\n",
    "\n",
    "buf = deque(maxlen=5)\n",
    "buf.append([n for n in range(10)])        # NB: this adds just ONE element: a list [0, 1, ..., 9]\n",
    "buf.append([n for n in range(10, 20)])\n",
    "print(\"len(buf) =\", len(buf))\n",
    "\n",
    "print(buf[0])\n",
    "print(sum(buf[0]))\n",
    "print(buf[1])"
   ]
  },
  {
   "cell_type": "code",
   "execution_count": 5,
   "metadata": {},
   "outputs": [
    {
     "name": "stdout",
     "output_type": "stream",
     "text": [
      "deque([10, 20, 30, 40, 50])\n",
      "deque([10, 20, 30, 40])\n",
      "deque([20, 30, 40])\n",
      "40\n"
     ]
    }
   ],
   "source": [
    "from collections import deque\n",
    "\n",
    "buf = deque()\n",
    "for i in range(10, 60, 10):\n",
    "    buf.append(i)\n",
    "print(buf)\n",
    "buf.pop()\n",
    "print(buf)\n",
    "buf.popleft()\n",
    "print(buf)\n",
    "print(buf[-1])"
   ]
  },
  {
   "cell_type": "code",
   "execution_count": 31,
   "metadata": {},
   "outputs": [
    {
     "name": "stdout",
     "output_type": "stream",
     "text": [
      "{'par1': 10, 'par2': 20, 'par3': 30}\n",
      "par1 = 10 par2 = 20 par3 = 30\n",
      "par1 = 100 par2 = 200 par3 = 300\n"
     ]
    }
   ],
   "source": [
    "def dict_3_pars(par1, par2, par3):\n",
    "    print(\"par1 =\", par1, \"par2 =\", par2, \"par3 =\", par3)\n",
    "    # print(par1, par2, par3)\n",
    "\n",
    "dct = {\"par1\": 10, \"par2\":20, \"par3\":30}\n",
    "print(dct)\n",
    "dict_3_pars(**dct) # this is equivalent to call the function dict_3_pars(par1=10, par2=20, par3=30)\n",
    "dict_3_pars(par1=100, par2=200, par3=300)  # another example"
   ]
  },
  {
   "cell_type": "code",
   "execution_count": 29,
   "metadata": {},
   "outputs": [
    {
     "name": "stdout",
     "output_type": "stream",
     "text": [
      "voltage = 10 state = 20 action = 30\n",
      "\n"
     ]
    }
   ],
   "source": [
    "def parrot(voltage, state, action):\n",
    "    print(\"voltage =\", voltage, \"state =\", state, \"action =\", action)\n",
    "    print()\n",
    "\n",
    "d = {\"voltage\": 10, \"state\": 20, \"action\": 30}\n",
    "parrot(**d)"
   ]
  },
  {
   "cell_type": "code",
   "execution_count": 25,
   "metadata": {},
   "outputs": [
    {
     "name": "stdout",
     "output_type": "stream",
     "text": [
      "voltage = four million state = bleedin' demised action = VOOM\n",
      "\n",
      "This parrot wouldn't VOOM if you put four million volts through it. E's bleedin' demised !\n"
     ]
    }
   ],
   "source": [
    "def parrot(voltage, state, action):\n",
    "    print(\"voltage =\", voltage, \"state =\", state, \"action =\", action)\n",
    "    print()\n",
    "    print(\"This parrot wouldn't\", action, end=' ')\n",
    "    print(\"if you put\", voltage, \"volts through it.\", end=' ')\n",
    "    print(\"E's\", state, \"!\")\n",
    "\n",
    "d = {\"voltage\": \"four million\", \"state\": \"bleedin' demised\", \"action\": \"VOOM\"}\n",
    "parrot(**d)"
   ]
  },
  {
   "cell_type": "code",
   "execution_count": 32,
   "metadata": {},
   "outputs": [
    {
     "name": "stdout",
     "output_type": "stream",
     "text": [
      "a = 2 b = 5\n"
     ]
    }
   ],
   "source": [
    "def f2(a, b):\n",
    "    print(\"a =\", a, \"b =\", b)\n",
    "\n",
    "tup = (2, 5)\n",
    "f2(*tup)       # star to unfold one object (tup) to two objects: parameters a and b"
   ]
  },
  {
   "cell_type": "code",
   "execution_count": 37,
   "metadata": {},
   "outputs": [
    {
     "name": "stdout",
     "output_type": "stream",
     "text": [
      "<class 'tuple'> (False, 100)\n"
     ]
    }
   ],
   "source": [
    "x = 5\n",
    "y = x > 5, 100\n",
    "print(type(y), y)"
   ]
  },
  {
   "cell_type": "code",
   "execution_count": 48,
   "metadata": {},
   "outputs": [
    {
     "name": "stdout",
     "output_type": "stream",
     "text": [
      "Hi\n",
      "Bye\n"
     ]
    }
   ],
   "source": [
    "#\n",
    "# Closure\n",
    "#\n",
    "\n",
    "def outer_function(msg):\n",
    "\n",
    "    def inner_function():\n",
    "        print(msg)\n",
    "\n",
    "    return inner_function  # returns inner_function that waits to be executed\n",
    "\n",
    "f_hi = outer_function('Hi')  # f_hi is assigned to function that waites to be execute\n",
    "f_bye = outer_function('Bye')\n",
    "f_hi()\n",
    "f_bye()"
   ]
  },
  {
   "cell_type": "code",
   "execution_count": 52,
   "metadata": {},
   "outputs": [
    {
     "name": "stdout",
     "output_type": "stream",
     "text": [
      "wrapper executed this before display\n",
      "display function ran\n"
     ]
    }
   ],
   "source": [
    "# Decorator: a function that takes another function as an argument\n",
    "\n",
    "def decorator_function (original_function):\n",
    "    def wrapper_function():\n",
    "        print (\"wrapper executed this before {}\".format(original_function.__name__))\n",
    "        return original_function()\n",
    "    return wrapper_function\n",
    "\n",
    "@decorator_function  # equivalent to: display = decorator-function(display)\n",
    "def display():\n",
    "    print (\"display function ran\")\n",
    "\n",
    "# display = decorator-function(display)\n",
    "display()"
   ]
  },
  {
   "cell_type": "code",
   "execution_count": 91,
   "metadata": {},
   "outputs": [
    {
     "name": "stdout",
     "output_type": "stream",
     "text": [
      "   count   word  length   frequency\n",
      "0      5  quick       5  infrequent\n",
      "1     15  brown       5    frequent\n",
      "2      1    fox       3      unique\n",
      "3      5  jumps       5  infrequent\n",
      "4      4   over       4  infrequent\n",
      "5     21    the       3    frequent\n",
      "6      1   lazy       4      unique\n",
      "7     20    dog       3    frequent\n",
      "\n",
      "3.6666666666666665\n",
      "\n",
      "56\n",
      "14\n",
      "2\n",
      "num_words_unique_ser = 2\n",
      "\n",
      "x: type(x):<class 'pandas.core.series.Series'> x:\n",
      "0    infrequent\n",
      "1      frequent\n",
      "2        unique\n",
      "3    infrequent\n",
      "4    infrequent\n",
      "5      frequent\n",
      "6        unique\n",
      "7      frequent\n",
      "Name: frequency, dtype: object\n",
      "\n",
      "x: type(x):<class 'pandas.core.series.Series'> x:\n",
      "0    infrequent\n",
      "1      frequent\n",
      "2        unique\n",
      "3    infrequent\n",
      "4    infrequent\n",
      "5      frequent\n",
      "6        unique\n",
      "7      frequent\n",
      "Name: frequency, dtype: object\n",
      "num = frequency\n",
      "frequent      56\n",
      "infrequent    14\n",
      "unique         2\n",
      "Name: count, dtype: int64\n"
     ]
    },
    {
     "ename": "TypeError",
     "evalue": "'Series' objects are mutable, thus they cannot be hashed",
     "output_type": "error",
     "traceback": [
      "\u001b[0;31m---------------------------------------------------------------------------\u001b[0m",
      "\u001b[0;31mTypeError\u001b[0m                                 Traceback (most recent call last)",
      "\u001b[0;32m<ipython-input-91-4919e23533e0>\u001b[0m in \u001b[0;36m<module>\u001b[0;34m()\u001b[0m\n\u001b[1;32m     76\u001b[0m     \u001b[0;31m#\"num_words\": data[data.frequency == \"frequent\"][\"count\"].sum()\u001b[0m\u001b[0;34m\u001b[0m\u001b[0;34m\u001b[0m\u001b[0m\n\u001b[1;32m     77\u001b[0m     \u001b[0;31m# \"num_words\": d[data[\"frequency\"]]\u001b[0m\u001b[0;34m\u001b[0m\u001b[0;34m\u001b[0m\u001b[0m\n\u001b[0;32m---> 78\u001b[0;31m     \u001b[0;34m\"num_words\"\u001b[0m\u001b[0;34m:\u001b[0m \u001b[0md\u001b[0m\u001b[0;34m[\u001b[0m\u001b[0mdata\u001b[0m\u001b[0;34m.\u001b[0m\u001b[0mfrequency\u001b[0m\u001b[0;34m]\u001b[0m\u001b[0;34m\u001b[0m\u001b[0m\n\u001b[0m\u001b[1;32m     79\u001b[0m })\n\u001b[1;32m     80\u001b[0m \u001b[0mprint\u001b[0m\u001b[0;34m(\u001b[0m\u001b[0mdata\u001b[0m\u001b[0;34m)\u001b[0m\u001b[0;34m\u001b[0m\u001b[0m\n",
      "\u001b[0;32m~/anaconda/lib/python3.6/site-packages/pandas/core/generic.py\u001b[0m in \u001b[0;36m__hash__\u001b[0;34m(self)\u001b[0m\n\u001b[1;32m    877\u001b[0m     \u001b[0;32mdef\u001b[0m \u001b[0m__hash__\u001b[0m\u001b[0;34m(\u001b[0m\u001b[0mself\u001b[0m\u001b[0;34m)\u001b[0m\u001b[0;34m:\u001b[0m\u001b[0;34m\u001b[0m\u001b[0m\n\u001b[1;32m    878\u001b[0m         raise TypeError('{0!r} objects are mutable, thus they cannot be'\n\u001b[0;32m--> 879\u001b[0;31m                         ' hashed'.format(self.__class__.__name__))\n\u001b[0m\u001b[1;32m    880\u001b[0m \u001b[0;34m\u001b[0m\u001b[0m\n\u001b[1;32m    881\u001b[0m     \u001b[0;32mdef\u001b[0m \u001b[0m__iter__\u001b[0m\u001b[0;34m(\u001b[0m\u001b[0mself\u001b[0m\u001b[0;34m)\u001b[0m\u001b[0;34m:\u001b[0m\u001b[0;34m\u001b[0m\u001b[0m\n",
      "\u001b[0;31mTypeError\u001b[0m: 'Series' objects are mutable, thus they cannot be hashed"
     ]
    }
   ],
   "source": [
    "import pandas as pd\n",
    "\n",
    "language = \"French\"\n",
    "counted_text = {\"quick\": 5, \"brown\": 15, \"fox\": 1, \"jumps\": 5, \"over\": 4,\n",
    "                \"the\": 21, \"lazy\": 1, \"dog\": 20}\n",
    "\n",
    "data = pd.DataFrame({\n",
    "    \"word\": list(counted_text.keys()),\n",
    "    \"count\": list(counted_text.values())\n",
    "})\n",
    "\n",
    "data[\"length\"] = data[\"word\"].apply(len)\n",
    "\n",
    "data.loc[data[\"count\"] > 10,  \"frequency\"] = \"frequent\"\n",
    "data.loc[data[\"count\"] <= 10, \"frequency\"] = \"infrequent\"\n",
    "data.loc[data[\"count\"] == 1,  \"frequency\"] = \"unique\"\n",
    "\n",
    "print(data)\n",
    "print()\n",
    "# print(data[data.frequency == \"frequent\"])\n",
    "# print(data[data.frequency == \"frequent\"].word)\n",
    "# print(data[data.frequency == \"frequent\"].word.apply(len).mean())\n",
    "print(data[data.frequency == \"frequent\"].word.apply(len).mean())\n",
    "print()\n",
    "\n",
    "mean_word_length_frequent = data[data.frequency == \"frequent\"].word.apply(len).mean()\n",
    "mean_word_length_infrequent = data[data.frequency == \"infrequent\"].word.apply(len).mean()\n",
    "mean_word_length_unique = data[data.frequency == \"unique\"].word.apply(len).mean()\n",
    "\n",
    "num_words_frequent = data[data.frequency == \"frequent\"][\"count\"].sum()\n",
    "num_words_infrequent = data[data.frequency == \"infrequent\"][\"count\"].sum()\n",
    "num_words_unique = data[data.frequency == \"unique\"][\"count\"].sum()\n",
    "print(num_words_frequent)\n",
    "print(num_words_infrequent)\n",
    "print(num_words_unique)\n",
    "\n",
    "num_words_unique_ser = data[data.frequency == \"unique\"][\"count\"].sum()\n",
    "print(\"num_words_unique_ser =\", num_words_unique_ser)\n",
    "\n",
    "# sub_data.loc[data[\"frequency\"] == \"frequent\", \"mean_word_length\"] = data[data.frequency == \"frequent\"].word.apply(len).mean()\n",
    "# sub_data.loc[data[\"frequency\"] == \"infrequent\", \"mean_word_length\"] = data[data.frequency == \"infrequent\"].word.apply(len).mean()\n",
    "# sub_data.loc[data[\"frequency\"] == \"unique\", \"mean_word_length\"] = data[data.frequency == \"unique\"].word.apply(len).mean()\n",
    "\n",
    "# data.loc[data[\"frequency\"] == \"frequent\", \"num_words\"] = data[data.frequency == \"frequent\"][\"count\"].sum()\n",
    "# data.loc[data[\"frequency\"] == \"infrequent\", \"num_words\"] = data[data.frequency == \"infrequent\"][\"count\"].sum()\n",
    "# data.loc[data[\"frequency\"] == \"unique\", \"num_words\"] = data[data.frequency == \"unique\"][\"count\"].sum()\n",
    "\n",
    "# ser = data.frequency\n",
    "# ser = data[\"frequency\"]\n",
    "# print(\"\\nser =\\n\", ser)\n",
    "# ser = pd.Series([14.0, 56.0, 2.0, 14.0, 14.0, 2.0, 56.0])\n",
    "\n",
    "x = data.frequency\n",
    "print(\"\\nx: type(x):{} x:\\n{}\".format(type(x), x))\n",
    "\n",
    "x = data[\"frequency\"]\n",
    "print(\"\\nx: type(x):{} x:\\n{}\".format(type(x), x))\n",
    "\n",
    "num = data.groupby(\"frequency\")[\"count\"].sum()\n",
    "print(\"num =\", num)\n",
    "\n",
    "# print(\"--\", data.iloc[2].frequency)\n",
    "# z = data.iloc[2][\"frequency\"]\n",
    "# z = data.loc[\"frequency\"]\n",
    "# print(z)\n",
    "# print(\"--\", data[data.frequency == data.iloc.frequency])\n",
    "\n",
    "d = {\"frequent\": 100, \"infrequent\":200, \"unique\": 300}\n",
    "\n",
    "sub_data = pd.DataFrame({\n",
    "    \"language\": language,\n",
    "    \"frequency\": data[\"frequency\"],\n",
    "    # \"num_words\": data[data.frequency == \"unique\"][\"count\"].sum()\n",
    "    # \"mean_words_length\": sub_data[\"mean_words_length\"],\n",
    "    # \"num_words\": ser\n",
    "    #\"num_words\": data[data.frequency == \"frequent\"][\"count\"].sum()\n",
    "    # \"num_words\": d[data[\"frequency\"]]\n",
    "    \"num_words\": d[data.frequency]\n",
    "})\n",
    "print(data)\n",
    "print(sub_data)\n",
    "print()\n",
    "\n",
    "# sub_data.loc[data[\"frequency\"] == \"frequent\", \"mean_word_length\"] = data[data.frequency == \"frequent\"].word.apply(len).mean()\n",
    "# sub_data.loc[data[\"frequency\"] == \"infrequent\", \"mean_word_length\"] = data[data.frequency == \"infrequent\"].word.apply(len).mean()\n",
    "# sub_data.loc[data[\"frequency\"] == \"unique\", \"mean_word_length\"] = data[data.frequency == \"unique\"].word.apply(len).mean()\n",
    "\n",
    "# sub_data.loc[data[\"frequency\"] == \"frequent\", \"num_words\"] = data[data.frequency == \"frequent\"][\"count\"].sum()\n",
    "# sub_data.loc[data[\"frequency\"] == \"infrequent\", \"num_words\"] = data[data.frequency == \"infrequent\"][\"count\"].sum()\n",
    "# sub_data.loc[data[\"frequency\"] == \"unique\", \"num_words\"] = data[data.frequency == \"unique\"][\"count\"].sum()\n",
    "\n",
    "# print(sub_data)\n",
    "# print(sub_data.frequency)\n"
   ]
  },
  {
   "cell_type": "code",
   "execution_count": 3,
   "metadata": {},
   "outputs": [
    {
     "name": "stdout",
     "output_type": "stream",
     "text": [
      "None\n",
      "10\n",
      "20\n",
      "30\n"
     ]
    },
    {
     "ename": "IndexError",
     "evalue": "pop from empty list",
     "output_type": "error",
     "traceback": [
      "\u001b[0;31m---------------------------------------------------------------------------\u001b[0m",
      "\u001b[0;31mIndexError\u001b[0m                                Traceback (most recent call last)",
      "\u001b[0;32m<ipython-input-3-ccc3a590d9c6>\u001b[0m in \u001b[0;36m<module>\u001b[0;34m()\u001b[0m\n\u001b[1;32m      4\u001b[0m \u001b[0mprint\u001b[0m\u001b[0;34m(\u001b[0m\u001b[0ma\u001b[0m\u001b[0;34m.\u001b[0m\u001b[0mpop\u001b[0m\u001b[0;34m(\u001b[0m\u001b[0;34m)\u001b[0m\u001b[0;34m)\u001b[0m\u001b[0;34m\u001b[0m\u001b[0m\n\u001b[1;32m      5\u001b[0m \u001b[0mprint\u001b[0m\u001b[0;34m(\u001b[0m\u001b[0ma\u001b[0m\u001b[0;34m.\u001b[0m\u001b[0mpop\u001b[0m\u001b[0;34m(\u001b[0m\u001b[0;34m)\u001b[0m\u001b[0;34m)\u001b[0m\u001b[0;34m\u001b[0m\u001b[0m\n\u001b[0;32m----> 6\u001b[0;31m \u001b[0mprint\u001b[0m\u001b[0;34m(\u001b[0m\u001b[0ma\u001b[0m\u001b[0;34m.\u001b[0m\u001b[0mpop\u001b[0m\u001b[0;34m(\u001b[0m\u001b[0;34m)\u001b[0m\u001b[0;34m)\u001b[0m\u001b[0;34m\u001b[0m\u001b[0m\n\u001b[0m",
      "\u001b[0;31mIndexError\u001b[0m: pop from empty list"
     ]
    }
   ],
   "source": [
    "a = [10, 20, 30]\n",
    "print(a.reverse())\n",
    "print(a.pop())\n",
    "print(a.pop())\n",
    "print(a.pop())\n",
    "print(a.pop())"
   ]
  },
  {
   "cell_type": "code",
   "execution_count": 2,
   "metadata": {},
   "outputs": [
    {
     "name": "stdout",
     "output_type": "stream",
     "text": [
      "[20, 10, 40, 30]\n"
     ]
    }
   ],
   "source": [
    "alist = [20, 10, 40, 30]\n",
    "# alist.sort()\n",
    "sorted(alist)\n",
    "print(alist)"
   ]
  },
  {
   "cell_type": "code",
   "execution_count": 7,
   "metadata": {},
   "outputs": [
    {
     "name": "stdout",
     "output_type": "stream",
     "text": [
      "[1 4 2 5 3 6]\n",
      "[[1]\n",
      " [2]\n",
      " [3]\n",
      " [4]\n",
      " [5]\n",
      " [6]]\n",
      "[[1 2]\n",
      " [3 4]\n",
      " [5 6]]\n"
     ]
    }
   ],
   "source": [
    "import numpy as np\n",
    "a = np.array([[1,2,3], [4,5,6]])\n",
    "print(np.reshape(a, 6, -1))\n",
    "print(a.reshape(6, -1))\n",
    "print(a.reshape(3, -1))"
   ]
  },
  {
   "cell_type": "code",
   "execution_count": 1,
   "metadata": {},
   "outputs": [
    {
     "data": {
      "image/png": "[encoded data removed]",
      "text/plain": [
       "<matplotlib.figure.Figure at 0x1058f33c8>"
      ]
     },
     "metadata": {
      "image/png": {
       "height": 277,
       "width": 433
      }
     },
     "output_type": "display_data"
    }
   ],
   "source": [
    "import matplotlib.pyplot as plt\n",
    "import numpy as np\n",
    "\n",
    "\n",
    "x = np.arange(0, 2*np.pi, .01)\n",
    "y = np.sin(x)\n",
    "plt.plot(x, y, color='r')\n",
    "plt.text(0.1, -0.04, '$sin(0) = 0$')\n",
    "plt.text(1.5, 0.9, '$sin(90) = 1$')\n",
    "plt.text(2.0, 0, '$sin(180) = 0$')\n",
    "plt.text(4.5, -0.9, '$sin(270) = -1$')\n",
    "plt.text(6.0, 0.0, '$sin(360) = 1$')\n",
    "plt.annotate('$sin(theta)=0$', xy=(3, 0.1), xytext=(5, 0.7),\n",
    "             arrowprops=dict(facecolor='green', shrink=0.05))\n",
    "plt.title('Inserting text and annotation in plots')\n",
    "plt.xlabel('$theta$')\n",
    "plt.ylabel('$y = sin( theta)$')\n",
    "plt.grid(True)\n",
    "plt.gcf().set_size_inches(6, 4)  # gcf: get current figure\n",
    "plt.show()"
   ]
  },
  {
   "cell_type": "code",
   "execution_count": 2,
   "metadata": {},
   "outputs": [
    {
     "name": "stdout",
     "output_type": "stream",
     "text": [
      "iter 0 | J: 1604.873\n",
      "iter 100 | J: 818.593\n",
      "iter 200 | J: 715.250\n",
      "iter 300 | J: 701.464\n",
      "iter 400 | J: 699.598\n",
      "iter 500 | J: 699.342\n",
      "iter 600 | J: 699.306\n",
      "iter 700 | J: 699.301\n",
      "iter 800 | J: 699.300\n",
      "iter 900 | J: 699.300\n",
      "theta: [-2.84837957 43.20234847]\n"
     ]
    },
    {
     "data": {
      "image/png": "[encoded data removed]",
      "text/plain": [
       "<matplotlib.figure.Figure at 0x10f7a5c50>"
      ]
     },
     "metadata": {
      "image/png": {
       "height": 250,
       "width": 385
      }
     },
     "output_type": "display_data"
    },
    {
     "name": "stdout",
     "output_type": "stream",
     "text": [
      "Done!\n"
     ]
    }
   ],
   "source": [
    "# http://www.bogotobogo.com/python/python_numpy_batch_gradient_descent_algorithm.php\n",
    "\n",
    "import numpy as np\n",
    "import random\n",
    "from sklearn.datasets.samples_generator import make_regression \n",
    "import pylab\n",
    "from scipy import stats\n",
    "\n",
    "\n",
    "def gradient_descent_2(alpha, x, y, numIterations):\n",
    "    m = x.shape[0] # number of samples\n",
    "    theta = np.ones(2)\n",
    "    x_transpose = x.transpose()\n",
    "    for iter in range(0, numIterations):\n",
    "        hypothesis = np.dot(x, theta)\n",
    "        loss = hypothesis - y\n",
    "        J = np.sum(loss ** 2) / (2 * m)  # cost\n",
    "        if iter % 100 == 0:\n",
    "            print(\"iter %s | J: %.3f\" % (iter, J))\n",
    "        gradient = np.dot(x_transpose, loss) / m         \n",
    "        theta = theta - alpha * gradient  # update\n",
    "    return theta\n",
    "\n",
    "\n",
    "if __name__ == '__main__':\n",
    "\n",
    "    x, y = make_regression(n_samples=100, n_features=1, n_informative=1, \n",
    "                        random_state=0, noise=35) \n",
    "    m, n = np.shape(x)\n",
    "    x = np.c_[ np.ones(m), x] # insert column\n",
    "    alpha = 0.01 # learning rate\n",
    "    theta = gradient_descent_2(alpha, x, y, 1000)\n",
    "    print(\"theta:\", theta)\n",
    "\n",
    "    # plot\n",
    "    for i in range(x.shape[1]):\n",
    "        y_predict = theta[0] + theta[1]*x \n",
    "    pylab.plot(x[:,1],y,'o')\n",
    "    pylab.plot(x,y_predict,'k-')\n",
    "    pylab.show()\n",
    "    print(\"Done!\")"
   ]
  },
  {
   "cell_type": "code",
   "execution_count": 4,
   "metadata": {},
   "outputs": [
    {
     "data": {
      "text/plain": [
       "array([ -31.74599395,  -28.79914206,   -2.18450294,   28.96679712,\n",
       "        -30.8791169 ,   50.95046613,  -93.57631576,   16.24879305,\n",
       "         53.00911661,  -45.22174792,  -42.00928854,   19.11001507,\n",
       "       -104.92973612,  -56.59706356,   38.16097549,   86.6425451 ,\n",
       "          1.12230893,   69.27242173,  126.86525291,  -10.78662055,\n",
       "         77.56286175,   70.25640721,   47.34938459,   16.41010803,\n",
       "         77.45519541,  112.90598866,   97.17109917,    8.58493832,\n",
       "         46.16243904,   77.58257518,  -68.66251854,  -15.37643859,\n",
       "        -67.58209491,   66.59785916,  -77.1975778 ,   58.67310543,\n",
       "         59.45329793,   -2.97735959,  -59.65844597,  -28.1025301 ,\n",
       "          8.56496251,   18.82793704,  -65.40363111,   50.28677503,\n",
       "         30.31262372,  -78.37299529,   99.18489631,  -32.18139332,\n",
       "         66.33267361,  -43.60361328,    8.42455635, -101.49486272,\n",
       "        -46.78311154,  -13.82464962,   34.84757441,   25.49574035,\n",
       "        -40.33900467, -153.46417138,   76.56469745,    2.12468583,\n",
       "        -33.11694259,   -9.27070853,   22.32574327,  -98.68732704,\n",
       "       -128.71329362,  -59.89757886,  -55.6553467 ,  -61.3575238 ,\n",
       "         27.87187765,  108.47758004,   94.60351217,  -16.22563521,\n",
       "        -60.57539163,   29.58507825,  -21.66009884,  -96.3039129 ,\n",
       "         43.59282237,    2.81245212,    1.40895961,   32.41891887,\n",
       "         44.41866127,   19.58494635,  -13.7348533 ,  -43.74273429,\n",
       "         16.78504655,  -58.00030064,  -13.52219495,   45.75730762,\n",
       "         50.6816265 ,   20.3044043 ,  -30.21166631,   12.37152567,\n",
       "        -59.37163364,   -6.11610716,  -30.80406808,  -46.08376409,\n",
       "         36.80029964,    3.48370578,  -13.66228476,  -68.86587953])"
      ]
     },
     "execution_count": 4,
     "metadata": {},
     "output_type": "execute_result"
    }
   ],
   "source": [
    "y"
   ]
  },
  {
   "cell_type": "code",
   "execution_count": 5,
   "metadata": {},
   "outputs": [
    {
     "name": "stdout",
     "output_type": "stream",
     "text": [
      "       0 J: 687.021\n",
      "     100 J: 636.790\n",
      "     200 J: 630.018\n",
      "     300 J: 629.056\n",
      "     400 J: 628.912\n",
      "     500 J: 628.889\n",
      "     600 J: 628.885\n",
      "     700 J: 628.884\n",
      "     800 J: 628.884\n",
      "converged: J = 628.8837972085875\n",
      "final J = 628.8837972085875\n",
      "theta: [ 1.35864252e+00 -8.60144409e-02 -6.95272334e-01 -2.90998078e+00\n",
      "  2.73321430e-01  9.26887655e+00 -1.25819227e+00 -2.60264500e+00\n",
      " -1.11307250e+00 -2.66208647e-03 -1.28550934e+00]\n",
      "x.shape: (1000, 10)\n"
     ]
    },
    {
     "data": {
      "image/png": "[encoded data removed]",
      "text/plain": [
       "<matplotlib.figure.Figure at 0x107866198>"
      ]
     },
     "metadata": {
      "image/png": {
       "height": 250,
       "width": 385
      }
     },
     "output_type": "display_data"
    }
   ],
   "source": [
    "import numpy as np\n",
    "import matplotlib.pyplot as plt\n",
    "from sklearn.datasets.samples_generator import make_regression \n",
    "\n",
    "\n",
    "def gradient_descent_sin1(alpha, x, y, par0, max_iterations=1000000):\n",
    "    \"\"\"\n",
    "    Plain gradient descent.\n",
    "    Computes the Cost function and gradient.\n",
    "    \"\"\"\n",
    "\n",
    "    # add colunm of 1's to the data\n",
    "\n",
    "    m = x.shape[0]  # number of samples\n",
    "    X = np.c_[np.ones(m), x]        # add column of 1's\n",
    "    X_transposed = X.T              # keep transposed to speedup a bit\n",
    "\n",
    "    eps = 1e-7\n",
    "    # eps = 1e-12\n",
    "    J = 0\n",
    "    theta = np.ones(X.shape[1])\n",
    "\n",
    "    for iter in range(max_iterations):\n",
    "        hypothesis = np.dot(X, theta)\n",
    "        loss = hypothesis - y\n",
    "        Jupdate = np.sum(loss ** 2) / (2 * m)\n",
    "        if abs(J - Jupdate) < eps:\n",
    "            print(\"converged: J =\", J)\n",
    "            break\n",
    "        J = Jupdate\n",
    "\n",
    "        if iter % 100 == 0:\n",
    "            print(\"%8d J: %.3f\" % (iter, J))\n",
    "\n",
    "        gradient = np.dot(X_transposed, loss) / m         \n",
    "        theta = theta - alpha * gradient            # update\n",
    "\n",
    "    print(\"final J =\", J)\n",
    "    return theta\n",
    "\n",
    "\n",
    "if __name__ == '__main__':\n",
    "\n",
    "    n_samples_generate = 1000\n",
    "    n_features_generate = 10\n",
    "\n",
    "    # create dataset\n",
    "    x, y = make_regression(n_samples=n_samples_generate,\n",
    "                           n_features=n_features_generate,\n",
    "                           n_informative=1, random_state=0, noise=35) \n",
    "\n",
    "    alpha = 0.01                                # learning rate\n",
    "\n",
    "    par0 = []\n",
    "    theta = gradient_descent_sin1(alpha, x, y, par0, 1000)\n",
    "    print(\"theta:\", theta)\n",
    "\n",
    "    print(\"x.shape:\", x.shape)\n",
    "\n",
    "    # plot\n",
    "    for i in range(x.shape[0]):\n",
    "        y_predict = theta[0] + theta[1:]*x  # x doesn't have column of 1's\n",
    "\n",
    "    plt.plot(x[:,0], y, 'o')\n",
    "    plt.plot(x, y_predict, 'k-')\n",
    "    plt.show()"
   ]
  },
  {
   "cell_type": "code",
   "execution_count": 11,
   "metadata": {},
   "outputs": [
    {
     "name": "stdout",
     "output_type": "stream",
     "text": [
      "pi is 3.14\n",
      "this is a string\n"
     ]
    }
   ],
   "source": [
    "pi = 3.14\n",
    "string = \"pi is \"\n",
    "print(string + str(pi))\n",
    "print(\"this \", end='')\n",
    "print('is ', end='')\n",
    "print('a ', end='')\n",
    "print('string')"
   ]
  },
  {
   "cell_type": "code",
   "execution_count": 9,
   "metadata": {
    "scrolled": true
   },
   "outputs": [
    {
     "name": "stdout",
     "output_type": "stream",
     "text": [
      "Paper  Year  Authors \n",
      "An Inside Look at Google BigQuery  2012  Kazunori Sato \n",
      "MapReduce: Simplified Data Processing on Large Clusters  2004  Jeffrey Dean\n",
      "Spark: Cluster Computing with Working Sets  2010  Matei Zaharia \n"
     ]
    }
   ],
   "source": [
    "import csv\n",
    "\n",
    "fname = 'input.csv'\n",
    "with open(fname) as file:\n",
    "    text = csv.reader(file)\n",
    "    for line in text:\n",
    "        # print(line[2])\n",
    "        s = line[2]\n",
    "        # print(s.split('|')[0])\n",
    "        print(line[0], line[1], s.split('|')[0])"
   ]
  },
  {
   "cell_type": "code",
   "execution_count": 20,
   "metadata": {},
   "outputs": [
    {
     "name": "stdout",
     "output_type": "stream",
     "text": [
      "                   A         B         C         D\n",
      "2000-01-01  0.136109 -1.026295 -0.500347 -0.870226\n",
      "2000-01-02 -1.044940 -0.222966  1.468666  0.579166\n",
      "2000-01-03 -1.383606  0.842612  1.302350  0.432423\n",
      "2000-01-04 -1.160665  1.474797  1.346747  1.298958\n",
      "2000-01-05 -1.566892 -0.646590  0.109242  0.324108\n",
      "2000-01-06 -2.059640 -0.236936 -0.261808  0.326318\n",
      "2000-01-07  1.330765  0.062659 -0.387897 -0.040357\n",
      "2000-01-08 -0.252764 -0.335250  0.699044 -0.213919\n",
      "                   A         B         C         D\n",
      "2000-01-02 -1.044940 -0.222966  1.468666  0.579166\n",
      "2000-01-03 -1.383606  0.842612  1.302350  0.432423\n",
      "2000-01-04 -1.160665  1.474797  1.346747  1.298958\n",
      "2000-01-05 -1.566892 -0.646590  0.109242  0.324108\n",
      "2000-01-06 -2.059640 -0.236936 -0.261808  0.326318\n",
      "2000-01-08 -0.252764 -0.335250  0.699044 -0.213919\n",
      "                   A         B         C         D\n",
      "2000-01-02 -1.044940 -0.222966  1.468666  0.579166\n",
      "2000-01-03 -1.383606  0.842612  1.302350  0.432423\n",
      "2000-01-04 -1.160665  1.474797  1.346747  1.298958\n",
      "2000-01-05 -1.566892 -0.646590  0.109242  0.324108\n",
      "2000-01-06 -2.059640 -0.236936 -0.261808  0.326318\n",
      "2000-01-08 -0.252764 -0.335250  0.699044 -0.213919\n"
     ]
    }
   ],
   "source": [
    "import pandas as pd\n",
    "import numpy as np\n",
    "\n",
    "dates = pd.date_range('1/1/2000', periods=8)\n",
    "df = pd.DataFrame(np.random.randn(8, 4), index=dates, columns=['A', 'B', 'C', 'D'])\n",
    "print(df)\n",
    "print(df[df.A < 0])\n",
    "print(df.loc[df['A'] < 0])"
   ]
  },
  {
   "cell_type": "code",
   "execution_count": 3,
   "metadata": {},
   "outputs": [
    {
     "name": "stdout",
     "output_type": "stream",
     "text": [
      "(1, 'one')\n",
      "(2, 'two')\n",
      "(3, 'three')\n"
     ]
    }
   ],
   "source": [
    "q = []\n",
    "q.append((2, 'two'))\n",
    "q.append((1, 'one'))\n",
    "q.append((3, 'three'))\n",
    "\n",
    "q.sort(reverse=True)  # because we are going to use pop: pop extracts the last element\n",
    "while q:\n",
    "    item = q.pop()\n",
    "    print(item)"
   ]
  },
  {
   "cell_type": "code",
   "execution_count": 8,
   "metadata": {},
   "outputs": [
    {
     "name": "stdout",
     "output_type": "stream",
     "text": [
      "[(2, 'two')]\n",
      "[(2, 'two'), (5, 'five')]\n",
      "[(1, 'one'), (5, 'five'), (2, 'two')]\n",
      "[(1, 'one'), (4, 'four'), (2, 'two'), (5, 'five')]\n",
      "[(1, 'one'), (3, 'three'), (2, 'two'), (5, 'five'), (4, 'four')]\n",
      "Extract elements using heappop(): it pops the minimum elements\n",
      "(1, 'one') \t [(2, 'two'), (3, 'three'), (4, 'four'), (5, 'five')]\n",
      "(2, 'two') \t [(3, 'three'), (5, 'five'), (4, 'four')]\n",
      "(3, 'three') \t [(4, 'four'), (5, 'five')]\n",
      "(4, 'four') \t [(5, 'five')]\n",
      "(5, 'five') \t []\n"
     ]
    }
   ],
   "source": [
    "import heapq\n",
    "\n",
    "q = []\n",
    "\n",
    "heapq.heappush(q, (2, 'two'))\n",
    "print(q)\n",
    "heapq.heappush(q, (5, 'five'))\n",
    "print(q)\n",
    "heapq.heappush(q, (1, 'one'))\n",
    "print(q)\n",
    "heapq.heappush(q, (4, 'four'))\n",
    "print(q)\n",
    "heapq.heappush(q, (3, 'three'))\n",
    "print(q)\n",
    "\n",
    "print('Extract elements using heappop(): it pops the minimum elements')\n",
    "while q:\n",
    "    item = q[0]\n",
    "    heapq.heappop(q)\n",
    "    print(item, '\\t', q)"
   ]
  },
  {
   "cell_type": "code",
   "execution_count": 14,
   "metadata": {},
   "outputs": [
    {
     "name": "stdout",
     "output_type": "stream",
     "text": [
      "\n",
      "Member name: wont_fix\n",
      "Member value: 4\n"
     ]
    }
   ],
   "source": [
    "import enum\n",
    "class BugStatus(enum.Enum):\n",
    "    new = 7\n",
    "    incomplete = 6\n",
    "    invalid = 5\n",
    "    wont_fix = 4\n",
    "    in_progress = 3\n",
    "    fix_committed = 2\n",
    "    fix_released = 1\n",
    "\n",
    "print('\\nMember name: {}'.format(BugStatus.wont_fix.name))\n",
    "print('Member value: {}'.format(BugStatus.wont_fix.value))"
   ]
  },
  {
   "cell_type": "code",
   "execution_count": 12,
   "metadata": {},
   "outputs": [
    {
     "data": {
      "text/plain": [
       "[<matplotlib.lines.Line2D at 0x10f803080>]"
      ]
     },
     "execution_count": 12,
     "metadata": {},
     "output_type": "execute_result"
    },
    {
     "data": {
      "image/png": "[encoded data removed]",
      "text/plain": [
       "<Figure size 432x288 with 1 Axes>"
      ]
     },
     "metadata": {
      "image/png": {
       "height": 250,
       "width": 373
      }
     },
     "output_type": "display_data"
    },
    {
     "data": {
      "image/png": "[encoded data removed]",
      "text/plain": [
       "<Figure size 432x288 with 1 Axes>"
      ]
     },
     "metadata": {
      "image/png": {
       "height": 250,
       "width": 373
      }
     },
     "output_type": "display_data"
    }
   ],
   "source": [
    "import numpy as np\n",
    "import matplotlib.pyplot as plt\n",
    "%matplotlib inline\n",
    "\n",
    "def f(x):\n",
    "    \"\"\" some shape at t = 0 \"\"\"\n",
    "    return 3 / (10*x**2 + 1)\n",
    "\n",
    "def wave(f, x, ct=0):\n",
    "    \"\"\" f(x) at displacement ct in positive x direction \"\"\"\n",
    "    return f(x - ct)\n",
    "\n",
    "x = np.arange(-5, 10, 0.01)\n",
    "y = np.sin(x)\n",
    "\n",
    "plt.plot(x, f(x))       # for all x from -10 to 10 compute value of f(x)\n",
    "ct = 5\n",
    "plt.plot(x, f(x - ct))\n",
    "\n",
    "plt.figure()\n",
    "ct = 0\n",
    "plt.plot(x, wave(f, x, ct))\n",
    "ct = 5\n",
    "plt.plot(x, wave(f, x, ct))"
   ]
  },
  {
   "cell_type": "code",
   "execution_count": 1,
   "metadata": {},
   "outputs": [
    {
     "data": {
      "text/plain": [
       "'ABCDEABCABCX'"
      ]
     },
     "execution_count": 1,
     "metadata": {},
     "output_type": "execute_result"
    },
    {
     "data": {
      "text/plain": [
       "'ABC'"
      ]
     },
     "execution_count": 1,
     "metadata": {},
     "output_type": "execute_result"
    },
    {
     "name": "stdout",
     "output_type": "stream",
     "text": [
      "3\n",
      "3\n"
     ]
    }
   ],
   "source": [
    "def npatterns(string, pattern):\n",
    "    count = 0\n",
    "    ind = string.find(pattern)\n",
    "    pos = ind\n",
    "    while ind >= 0:\n",
    "        count += 1\n",
    "        ind = string.find(pattern, pos+len(pattern))\n",
    "        pos += ind  # if pattern was not found, ind = -1 and pos will be wrong, but we don't care because we exit the while loop\n",
    "    return count\n",
    "\n",
    "def npat(string, pattern):\n",
    "    return string.count(pattern)\n",
    "\n",
    "s = 'ABCDEABCABCX'\n",
    "s\n",
    "pattern = 'ABC'\n",
    "pattern\n",
    "print(npatterns(s, pattern))\n",
    "print(npat(s, pattern))"
   ]
  },
  {
   "cell_type": "code",
   "execution_count": 2,
   "metadata": {},
   "outputs": [
    {
     "data": {
      "application/json": {
       "cell": {
        "!": "OSMagics",
        "HTML": "Other",
        "SVG": "Other",
        "bash": "Other",
        "capture": "ExecutionMagics",
        "debug": "ExecutionMagics",
        "file": "Other",
        "html": "DisplayMagics",
        "javascript": "DisplayMagics",
        "js": "DisplayMagics",
        "latex": "DisplayMagics",
        "markdown": "DisplayMagics",
        "perl": "Other",
        "prun": "ExecutionMagics",
        "pypy": "Other",
        "python": "Other",
        "python2": "Other",
        "python3": "Other",
        "ruby": "Other",
        "script": "ScriptMagics",
        "sh": "Other",
        "svg": "DisplayMagics",
        "sx": "OSMagics",
        "system": "OSMagics",
        "time": "ExecutionMagics",
        "timeit": "ExecutionMagics",
        "writefile": "OSMagics"
       },
       "line": {
        "alias": "OSMagics",
        "alias_magic": "BasicMagics",
        "autocall": "AutoMagics",
        "automagic": "AutoMagics",
        "autosave": "KernelMagics",
        "bookmark": "OSMagics",
        "cat": "Other",
        "cd": "OSMagics",
        "clear": "KernelMagics",
        "colors": "BasicMagics",
        "config": "ConfigMagics",
        "connect_info": "KernelMagics",
        "cp": "Other",
        "debug": "ExecutionMagics",
        "dhist": "OSMagics",
        "dirs": "OSMagics",
        "doctest_mode": "BasicMagics",
        "ed": "Other",
        "edit": "KernelMagics",
        "env": "OSMagics",
        "gui": "BasicMagics",
        "hist": "Other",
        "history": "HistoryMagics",
        "killbgscripts": "ScriptMagics",
        "ldir": "Other",
        "less": "KernelMagics",
        "lf": "Other",
        "lk": "Other",
        "ll": "Other",
        "load": "CodeMagics",
        "load_ext": "ExtensionMagics",
        "loadpy": "CodeMagics",
        "logoff": "LoggingMagics",
        "logon": "LoggingMagics",
        "logstart": "LoggingMagics",
        "logstate": "LoggingMagics",
        "logstop": "LoggingMagics",
        "ls": "Other",
        "lsmagic": "BasicMagics",
        "lx": "Other",
        "macro": "ExecutionMagics",
        "magic": "BasicMagics",
        "man": "KernelMagics",
        "matplotlib": "PylabMagics",
        "mkdir": "Other",
        "more": "KernelMagics",
        "mv": "Other",
        "notebook": "BasicMagics",
        "page": "BasicMagics",
        "pastebin": "CodeMagics",
        "pdb": "ExecutionMagics",
        "pdef": "NamespaceMagics",
        "pdoc": "NamespaceMagics",
        "pfile": "NamespaceMagics",
        "pinfo": "NamespaceMagics",
        "pinfo2": "NamespaceMagics",
        "pip": "BasicMagics",
        "popd": "OSMagics",
        "pprint": "BasicMagics",
        "precision": "BasicMagics",
        "profile": "BasicMagics",
        "prun": "ExecutionMagics",
        "psearch": "NamespaceMagics",
        "psource": "NamespaceMagics",
        "pushd": "OSMagics",
        "pwd": "OSMagics",
        "pycat": "OSMagics",
        "pylab": "PylabMagics",
        "qtconsole": "KernelMagics",
        "quickref": "BasicMagics",
        "recall": "HistoryMagics",
        "rehashx": "OSMagics",
        "reload_ext": "ExtensionMagics",
        "rep": "Other",
        "rerun": "HistoryMagics",
        "reset": "NamespaceMagics",
        "reset_selective": "NamespaceMagics",
        "rm": "Other",
        "rmdir": "Other",
        "run": "ExecutionMagics",
        "save": "CodeMagics",
        "sc": "OSMagics",
        "set_env": "OSMagics",
        "store": "StoreMagics",
        "sx": "OSMagics",
        "system": "OSMagics",
        "tb": "ExecutionMagics",
        "time": "ExecutionMagics",
        "timeit": "ExecutionMagics",
        "unalias": "OSMagics",
        "unload_ext": "ExtensionMagics",
        "who": "NamespaceMagics",
        "who_ls": "NamespaceMagics",
        "whos": "NamespaceMagics",
        "xdel": "NamespaceMagics",
        "xmode": "BasicMagics"
       }
      },
      "text/plain": [
       "Available line magics:\n",
       "%alias  %alias_magic  %autocall  %automagic  %autosave  %bookmark  %cat  %cd  %clear  %colors  %config  %connect_info  %cp  %debug  %dhist  %dirs  %doctest_mode  %ed  %edit  %env  %gui  %hist  %history  %killbgscripts  %ldir  %less  %lf  %lk  %ll  %load  %load_ext  %loadpy  %logoff  %logon  %logstart  %logstate  %logstop  %ls  %lsmagic  %lx  %macro  %magic  %man  %matplotlib  %mkdir  %more  %mv  %notebook  %page  %pastebin  %pdb  %pdef  %pdoc  %pfile  %pinfo  %pinfo2  %popd  %pprint  %precision  %profile  %prun  %psearch  %psource  %pushd  %pwd  %pycat  %pylab  %qtconsole  %quickref  %recall  %rehashx  %reload_ext  %rep  %rerun  %reset  %reset_selective  %rm  %rmdir  %run  %save  %sc  %set_env  %store  %sx  %system  %tb  %time  %timeit  %unalias  %unload_ext  %who  %who_ls  %whos  %xdel  %xmode\n",
       "\n",
       "Available cell magics:\n",
       "%%!  %%HTML  %%SVG  %%bash  %%capture  %%debug  %%file  %%html  %%javascript  %%js  %%latex  %%markdown  %%perl  %%prun  %%pypy  %%python  %%python2  %%python3  %%ruby  %%script  %%sh  %%svg  %%sx  %%system  %%time  %%timeit  %%writefile\n",
       "\n",
       "Automagic is ON, % prefix IS NOT needed for line magics."
      ]
     },
     "execution_count": 2,
     "metadata": {},
     "output_type": "execute_result"
    }
   ],
   "source": [
    "%lsmagic"
   ]
  },
  {
   "cell_type": "markdown",
   "metadata": {},
   "source": [
    "$ P(A \\mid B) = \\frac{P(B \\mid A) \\, P(A)}{P(B)} $"
   ]
  },
  {
   "cell_type": "markdown",
   "metadata": {},
   "source": [
    "\\\\( P(A \\mid B) = \\frac{P(B \\mid A) \\, P(A)}{P(B)} \\\\)"
   ]
  },
  {
   "cell_type": "code",
   "execution_count": 3,
   "metadata": {},
   "outputs": [
    {
     "name": "stdout",
     "output_type": "stream",
     "text": [
      "remove element b\n",
      "goat_candidate: ['a', 'c']\n",
      "doors_goat: ['a', 'b', 'c']\n"
     ]
    }
   ],
   "source": [
    "goat_candidate = ['a', 'b', 'c']\n",
    "doors_goat = []\n",
    "element = 'b'\n",
    "if element in goat_candidate:\n",
    "    # remove car door from the list of all doors\n",
    "    doors_goat = list(goat_candidate)\n",
    "    doors_goat.remove(element)\n",
    "    \n",
    "    # remove element\n",
    "    print('remove element', element)\n",
    "    goat_candidate.remove(element)\n",
    "else:\n",
    "    print('element', element, 'was not found')\n",
    "print('goat_candidate:', goat_candidate)\n",
    "print('doors_goat:', doors_goat)"
   ]
  },
  {
   "cell_type": "code",
   "execution_count": 16,
   "metadata": {},
   "outputs": [
    {
     "name": "stdout",
     "output_type": "stream",
     "text": [
      "don't change mind: out of 1000 trials: nwin = 332, prob = 0.33\n",
      "don't change mind elaborated: out of 1000 trials: nwin = 329, prob = 0.33\n",
      "change mind: out of 1000 trials: nwin = 498, prob = 0.50\n",
      "change mind to select strictly other door: out of 1000 trials: nwin = 679, prob = 0.68\n"
     ]
    }
   ],
   "source": [
    "import random\n",
    "random.seed(1)\n",
    "\n",
    "def dont_change_mind():\n",
    "    \"\"\" The player makes a choice and sticks with it ignoring open\n",
    "    \"\"\"\n",
    "    all_doors = ('a', 'b', 'c')\n",
    "    \n",
    "    # select a door to place the car\n",
    "    door_car = random.choice(all_doors)\n",
    "    # play the customer choice\n",
    "    door_initial = random.choice(all_doors)  # 1/3\n",
    "    \n",
    "    # show one of the goats at this point\n",
    "    # ...\n",
    "    # but the choice stays the same\n",
    "    \n",
    "    return door_car == door_initial\n",
    "\n",
    "def dont_change_mind_elaborated():\n",
    "    \"\"\" Fancy version of the dont_change_mind with explicit selection of door to open. That opening is completely ignored.\n",
    "    \"\"\"\n",
    "    all_doors = ('a', 'b', 'c')\n",
    "    \n",
    "    # select a door to place the car\n",
    "    door_car = random.choice(all_doors)  # door with car\n",
    "    \n",
    "    doors_goat = list(all_doors)\n",
    "    doors_goat.remove(door_car)                # doors with goats\n",
    "\n",
    "    # play the customer choice\n",
    "    door_initial = random.choice(all_doors)\n",
    "    \n",
    "    # if the customer selected a door with goat, remove it from goats\n",
    "    if door_initial in doors_goat:\n",
    "        doors_goat.remove(door_initial)\n",
    "    \n",
    "    # select a door with goat to open\n",
    "    door_open = random.choice(doors_goat)\n",
    "    \n",
    "    # the player sticks to his initial choice\n",
    "    other_door = door_initial\n",
    "    \n",
    "    return other_door == door_car\n",
    "\n",
    "def change_mind():\n",
    "    \"\"\" After opening of one goat door the customer makes brand new selection between the rest two doors:\n",
    "    one with a car and one with a goat. Prob = 1/2\n",
    "    \"\"\"\n",
    "    all_doors = ('a', 'b', 'c')\n",
    "    \n",
    "    # select a door to place the car\n",
    "    door_car = random.choice(all_doors)  # door with car\n",
    "    \n",
    "    doors_goat = list(all_doors)\n",
    "    doors_goat.remove(door_car)                # doors with goats\n",
    "\n",
    "    # play the customer choice\n",
    "    door_initial = random.choice(all_doors)\n",
    "    \n",
    "    # if the customer selected a door with goat, remove it from goats\n",
    "    if door_initial in doors_goat:\n",
    "        doors_goat.remove(door_initial)\n",
    "    \n",
    "    # select a door with goat to open\n",
    "    door_open = random.choice(doors_goat)\n",
    "    \n",
    "    # let customer selected the other door\n",
    "    other_doors = list(all_doors)\n",
    "    other_doors.remove(door_open)  # remove the opened door\n",
    "    # customer choice from the two doors\n",
    "    assert(len(other_doors) == 2)\n",
    "    other_door = random.choice(other_doors)\n",
    "    \n",
    "    return other_door == door_car\n",
    "\n",
    "def change_mind_other_door():\n",
    "    \"\"\" Select the door other than selected initially.\n",
    "    Probability that car behind this door is 1/3, while the prob that the car behind one of the rest two doors is 2/3.\n",
    "    After the goat door is open, the prob that the car behind the other door is 2/3:\n",
    "    that 2/3 probability to win is now belongs to that one door.\n",
    "    Imagine that we have 10 doors and 1 car. Now 9 doors are covered 9/10 of prob to win. These 9 doors has at least 8 goats.\n",
    "    If I open 8 doors, just one door will be left and carry that 9/10 of prob to win.\n",
    "    \"\"\"\n",
    "    all_doors = ('a', 'b', 'c')\n",
    "    \n",
    "    # select a door to place the car\n",
    "    door_car = random.choice(all_doors)  # door with car\n",
    "    \n",
    "    doors_goat = list(all_doors)\n",
    "    doors_goat.remove(door_car)                # doors with goats\n",
    "\n",
    "    # play the customer choice\n",
    "    door_initial = random.choice(all_doors)\n",
    "    \n",
    "    # if the customer selected a door with goat, remove it from goats\n",
    "    if door_initial in doors_goat:\n",
    "        doors_goat.remove(door_initial)\n",
    "    \n",
    "    # select a door with goat to open\n",
    "    door_open = random.choice(doors_goat)\n",
    "    \n",
    "    # let customer selected the other door\n",
    "    other_doors = list(all_doors)\n",
    "    other_doors.remove(door_open)  # remove the opened door\n",
    "    # customer choice from the two doors\n",
    "    assert(len(other_doors) == 2)\n",
    "    \n",
    "    # remove door_initial and select the other door\n",
    "    other_doors.remove(door_initial)\n",
    "    assert(len(other_doors) == 1)\n",
    "    other_door = other_doors[0]\n",
    "    \n",
    "    return other_door == door_car\n",
    "\n",
    "N = 1000\n",
    "\n",
    "nwin = 0\n",
    "for _ in range(N):\n",
    "    if dont_change_mind():\n",
    "        nwin += 1\n",
    "print('don\\'t change mind: out of {0} trials: nwin = {1}, prob = {2:0.2f}'.format(N, nwin, nwin/N))\n",
    "\n",
    "nwin = 0\n",
    "for _ in range(N):\n",
    "    if dont_change_mind_elaborated():\n",
    "        nwin += 1\n",
    "print('don\\'t change mind elaborated: out of {0} trials: nwin = {1}, prob = {2:0.2f}'.format(N, nwin, nwin/N))\n",
    "\n",
    "nwin = 0\n",
    "for _ in range(N):\n",
    "    if change_mind():\n",
    "        nwin += 1\n",
    "print('change mind: out of {0} trials: nwin = {1}, prob = {2:0.2f}'.format(N, nwin, nwin/N))\n",
    "\n",
    "nwin = 0\n",
    "for _ in range(N):\n",
    "    if change_mind_other_door():\n",
    "        nwin += 1\n",
    "print('change mind to select strictly other door: out of {0} trials: nwin = {1}, prob = {2:0.2f}'.format(N, nwin, nwin/N))"
   ]
  },
  {
   "cell_type": "code",
   "execution_count": 30,
   "metadata": {},
   "outputs": [
    {
     "name": "stdout",
     "output_type": "stream",
     "text": [
      "this is factorial_decor\n",
      "call factorial(4)\n",
      "   factorial(4)\n",
      "   factorial(3)\n",
      "   factorial(2)\n",
      "   factorial(1)\n",
      "wrapper: output for (1,) is 1\n",
      "wrapper: output for (2,) is 2\n",
      "wrapper: output for (3,) is 6\n",
      "wrapper: output for (4,) is 24\n"
     ]
    },
    {
     "data": {
      "text/plain": [
       "24"
      ]
     },
     "execution_count": 30,
     "metadata": {},
     "output_type": "execute_result"
    }
   ],
   "source": [
    "# Decorator to run recursive Fibonacci with cache -- is that possible?\n",
    "\n",
    "# def factorial_decor(factorial_function):\n",
    "#     fact = factorial_function(n)\n",
    "#     print(\"fact for {} is {}\".format(n, fact))\n",
    "#     return factorial_function\n",
    "\n",
    "def factorial_decor(func):\n",
    "    # some_function here is a global variable\n",
    "    print('this is factorial_decor')\n",
    "    def wrapper(*args, **kwargs):\n",
    "        result = func(*args, **kwargs)                  # call the function with the provided arguments\n",
    "        print(\"wrapper: output for {} is {}\".format(args, result))\n",
    "        return result\n",
    "    return wrapper\n",
    "\n",
    "@factorial_decor\n",
    "def factorial(n):\n",
    "    print('   factorial({})'.format(n))\n",
    "    if n <= 1:\n",
    "        return 1\n",
    "    return n * factorial(n - 1)\n",
    "\n",
    "print('call factorial(4)')\n",
    "factorial(4)\n",
    "\n",
    "# print('call: f = factorial_decor(factorial)')\n",
    "# f = factorial_decor(factorial)\n",
    "# print('call f(4)')\n",
    "# f(4)"
   ]
  },
  {
   "cell_type": "code",
   "execution_count": 55,
   "metadata": {},
   "outputs": [
    {
     "name": "stdout",
     "output_type": "stream",
     "text": [
      "CPU times: user 2.85 ms, sys: 0 ns, total: 2.85 ms\n",
      "Wall time: 2.86 ms\n"
     ]
    },
    {
     "data": {
      "text/plain": [
       "10946"
      ]
     },
     "execution_count": 55,
     "metadata": {},
     "output_type": "execute_result"
    },
    {
     "name": "stdout",
     "output_type": "stream",
     "text": [
      "1\n",
      "1\n",
      "2\n",
      "3\n",
      "5\n"
     ]
    }
   ],
   "source": [
    "def fibonacci_direct(n):\n",
    "    if n < 2:\n",
    "        return 1\n",
    "    return fibonacci_direct(n-1) + fibonacci_direct(n-2)\n",
    "\n",
    "\n",
    "%time fibonacci_direct(20)\n",
    "\n",
    "for i in range(5):\n",
    "    print(fibonacci_direct(i))"
   ]
  },
  {
   "cell_type": "code",
   "execution_count": 53,
   "metadata": {},
   "outputs": [
    {
     "name": "stdout",
     "output_type": "stream",
     "text": [
      "CPU times: user 20 µs, sys: 2 µs, total: 22 µs\n",
      "Wall time: 26.9 µs\n"
     ]
    },
    {
     "data": {
      "text/plain": [
       "10946"
      ]
     },
     "execution_count": 53,
     "metadata": {},
     "output_type": "execute_result"
    }
   ],
   "source": [
    "def fibonacci_cache(n):\n",
    "    cache = {0:1, 1:1}  # provides cache for fibonacci\n",
    "    def fibonacci(n):\n",
    "        if n < 2:\n",
    "            return 1\n",
    "        if not n in cache:\n",
    "            cache[n] = fibonacci(n-1) + fibonacci(n-2)\n",
    "        return cache[n]\n",
    "    return fibonacci(n)\n",
    "\n",
    "\n",
    "%time fibonacci_cache(20)"
   ]
  },
  {
   "cell_type": "code",
   "execution_count": 54,
   "metadata": {},
   "outputs": [
    {
     "name": "stdout",
     "output_type": "stream",
     "text": [
      "CPU times: user 19 µs, sys: 1e+03 ns, total: 20 µs\n",
      "Wall time: 24.1 µs\n"
     ]
    },
    {
     "data": {
      "text/plain": [
       "10946"
      ]
     },
     "execution_count": 54,
     "metadata": {},
     "output_type": "execute_result"
    }
   ],
   "source": [
    "# Uses functools.lru_cache for automatic keeping of recent results of fibonacci\n",
    "# https://stackoverflow.com/questions/43432956/how-a-decorator-works-when-the-argument-is-recursive-function\n",
    "\n",
    "from functools import lru_cache\n",
    "\n",
    "@lru_cache(None)\n",
    "def fibonacci(n):\n",
    "    if n < 2:\n",
    "        return 1\n",
    "    return fibonacci(n-1) + fibonacci(n-2)\n",
    "\n",
    "\n",
    "%time fibonacci(20)"
   ]
  },
  {
   "cell_type": "code",
   "execution_count": 15,
   "metadata": {},
   "outputs": [
    {
     "name": "stdout",
     "output_type": "stream",
     "text": [
      "(10, 20)\n",
      "{'x': 100, 'y': 200}\n"
     ]
    }
   ],
   "source": [
    "def fargs(*args, **kwargs):\n",
    "    print(args)\n",
    "    print(kwargs)\n",
    "\n",
    "fargs(10, 20, x=100, y=200)"
   ]
  },
  {
   "cell_type": "code",
   "execution_count": 21,
   "metadata": {},
   "outputs": [
    {
     "name": "stdout",
     "output_type": "stream",
     "text": [
      "direct call of f_args_kwargs(10, 20, x=100, y=200)\n",
      "10 20\n",
      "(10, 20)\n",
      "{'x': 100, 'y': 200}\n",
      "\n",
      "call call_f_args_kwargs(10, 20, x=100, y=200)\n",
      "--> call call_f_args_kwargs(*args, **kwargs)\n",
      "10 20\n",
      "(10, 20)\n",
      "{'x': 100, 'y': 200}\n"
     ]
    }
   ],
   "source": [
    "def f_args_kwargs(*args, **kwargs):\n",
    "    print(*args)       # prints a tuple: (10, 20)\n",
    "    print(args)        # prints content of the tuple: 10, 20\n",
    "    # print(**kwargs)  # TypeError: 'x' is an invalid keyword argument for this function\n",
    "    print(kwargs)      # prints dictionary: {'x': 100, 'y': 200}\n",
    "\n",
    "def call_f_args_kwargs(*args, **kwargs):\n",
    "    print('--> call call_f_args_kwargs(*args, **kwargs)')\n",
    "    f_args_kwargs(*args, **kwargs)\n",
    "\n",
    "print('direct call of f_args_kwargs(10, 20, x=100, y=200)')\n",
    "f_args_kwargs(10, 20, x=100, y=200)\n",
    "print()\n",
    "print('call call_f_args_kwargs(10, 20, x=100, y=200)')\n",
    "call_f_args_kwargs(10, 20, x=100, y=200)"
   ]
  }
 ],
 "metadata": {
  "kernelspec": {
   "display_name": "Python 3",
   "language": "python",
   "name": "python3"
  },
  "language_info": {
   "codemirror_mode": {
    "name": "ipython",
    "version": 3
   },
   "file_extension": ".py",
   "mimetype": "text/x-python",
   "name": "python",
   "nbconvert_exporter": "python",
   "pygments_lexer": "ipython3",
   "version": "3.6.5"
  }
 },
 "nbformat": 4,
 "nbformat_minor": 2
}
